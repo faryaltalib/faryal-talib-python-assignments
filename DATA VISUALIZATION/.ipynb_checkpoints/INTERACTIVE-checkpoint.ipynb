{
 "cells": [
  {
   "cell_type": "code",
   "execution_count": 1,
   "id": "5c676c31",
   "metadata": {},
   "outputs": [
    {
     "name": "stdout",
     "output_type": "stream",
     "text": [
      "Requirement already satisfied: plotly in c:\\users\\faryal talib\\anaconda3\\lib\\site-packages (5.5.0)Note: you may need to restart the kernel to use updated packages.\n",
      "\n",
      "Requirement already satisfied: six in c:\\users\\faryal talib\\anaconda3\\lib\\site-packages (from plotly) (1.16.0)\n",
      "Requirement already satisfied: tenacity>=6.2.0 in c:\\users\\faryal talib\\anaconda3\\lib\\site-packages (from plotly) (8.0.1)\n"
     ]
    }
   ],
   "source": [
    "pip install plotly"
   ]
  },
  {
   "cell_type": "code",
   "execution_count": 4,
   "id": "088bc899",
   "metadata": {
    "scrolled": true
   },
   "outputs": [
    {
     "data": {
      "application/vnd.plotly.v1+json": {
       "config": {
        "plotlyServerURL": "https://plot.ly"
       },
       "data": [
        {
         "hovertemplate": "species=setosa<br>sepal_width=%{x}<br>sepal_length=%{y}<extra></extra>",
         "legendgroup": "setosa",
         "marker": {
          "color": "#1F77B4",
          "symbol": "circle"
         },
         "mode": "markers",
         "name": "setosa",
         "orientation": "v",
         "showlegend": true,
         "type": "scatter",
         "x": [
          3.5,
          3,
          3.2,
          3.1,
          3.6,
          3.9,
          3.4,
          3.4,
          2.9,
          3.1,
          3.7,
          3.4,
          3,
          3,
          4,
          4.4,
          3.9,
          3.5,
          3.8,
          3.8,
          3.4,
          3.7,
          3.6,
          3.3,
          3.4,
          3,
          3.4,
          3.5,
          3.4,
          3.2,
          3.1,
          3.4,
          4.1,
          4.2,
          3.1,
          3.2,
          3.5,
          3.1,
          3,
          3.4,
          3.5,
          2.3,
          3.2,
          3.5,
          3.8,
          3,
          3.8,
          3.2,
          3.7,
          3.3
         ],
         "xaxis": "x",
         "y": [
          5.1,
          4.9,
          4.7,
          4.6,
          5,
          5.4,
          4.6,
          5,
          4.4,
          4.9,
          5.4,
          4.8,
          4.8,
          4.3,
          5.8,
          5.7,
          5.4,
          5.1,
          5.7,
          5.1,
          5.4,
          5.1,
          4.6,
          5.1,
          4.8,
          5,
          5,
          5.2,
          5.2,
          4.7,
          4.8,
          5.4,
          5.2,
          5.5,
          4.9,
          5,
          5.5,
          4.9,
          4.4,
          5.1,
          5,
          4.5,
          4.4,
          5,
          5.1,
          4.8,
          5.1,
          4.6,
          5.3,
          5
         ],
         "yaxis": "y"
        },
        {
         "alignmentgroup": "True",
         "hovertemplate": "species=setosa<br>sepal_width=%{x}<extra></extra>",
         "legendgroup": "setosa",
         "marker": {
          "color": "#1F77B4",
          "symbol": "circle"
         },
         "name": "setosa",
         "notched": true,
         "offsetgroup": "setosa",
         "showlegend": false,
         "type": "box",
         "x": [
          3.5,
          3,
          3.2,
          3.1,
          3.6,
          3.9,
          3.4,
          3.4,
          2.9,
          3.1,
          3.7,
          3.4,
          3,
          3,
          4,
          4.4,
          3.9,
          3.5,
          3.8,
          3.8,
          3.4,
          3.7,
          3.6,
          3.3,
          3.4,
          3,
          3.4,
          3.5,
          3.4,
          3.2,
          3.1,
          3.4,
          4.1,
          4.2,
          3.1,
          3.2,
          3.5,
          3.1,
          3,
          3.4,
          3.5,
          2.3,
          3.2,
          3.5,
          3.8,
          3,
          3.8,
          3.2,
          3.7,
          3.3
         ],
         "xaxis": "x3",
         "yaxis": "y3"
        },
        {
         "alignmentgroup": "True",
         "hovertemplate": "species=setosa<br>sepal_length=%{y}<extra></extra>",
         "legendgroup": "setosa",
         "marker": {
          "color": "#1F77B4",
          "symbol": "circle"
         },
         "name": "setosa",
         "offsetgroup": "setosa",
         "scalegroup": "y",
         "showlegend": false,
         "type": "violin",
         "xaxis": "x2",
         "y": [
          5.1,
          4.9,
          4.7,
          4.6,
          5,
          5.4,
          4.6,
          5,
          4.4,
          4.9,
          5.4,
          4.8,
          4.8,
          4.3,
          5.8,
          5.7,
          5.4,
          5.1,
          5.7,
          5.1,
          5.4,
          5.1,
          4.6,
          5.1,
          4.8,
          5,
          5,
          5.2,
          5.2,
          4.7,
          4.8,
          5.4,
          5.2,
          5.5,
          4.9,
          5,
          5.5,
          4.9,
          4.4,
          5.1,
          5,
          4.5,
          4.4,
          5,
          5.1,
          4.8,
          5.1,
          4.6,
          5.3,
          5
         ],
         "yaxis": "y2"
        },
        {
         "hovertemplate": "<b>OLS trendline</b><br>sepal_length = 0.690854 * sepal_width + 2.64466<br>R<sup>2</sup>=0.557681<br><br>species=setosa<br>sepal_width=%{x}<br>sepal_length=%{y} <b>(trend)</b><extra></extra>",
         "legendgroup": "setosa",
         "marker": {
          "color": "#1F77B4",
          "symbol": "circle"
         },
         "mode": "lines",
         "name": "setosa",
         "showlegend": false,
         "type": "scatter",
         "x": [
          2.3,
          2.9,
          3,
          3,
          3,
          3,
          3,
          3,
          3.1,
          3.1,
          3.1,
          3.1,
          3.1,
          3.2,
          3.2,
          3.2,
          3.2,
          3.2,
          3.3,
          3.3,
          3.4,
          3.4,
          3.4,
          3.4,
          3.4,
          3.4,
          3.4,
          3.4,
          3.4,
          3.5,
          3.5,
          3.5,
          3.5,
          3.5,
          3.5,
          3.6,
          3.6,
          3.7,
          3.7,
          3.7,
          3.8,
          3.8,
          3.8,
          3.8,
          3.9,
          3.9,
          4,
          4.1,
          4.2,
          4.4
         ],
         "xaxis": "x",
         "y": [
          4.233624785627934,
          4.648137423036915,
          4.7172228626050785,
          4.7172228626050785,
          4.7172228626050785,
          4.7172228626050785,
          4.7172228626050785,
          4.7172228626050785,
          4.786308302173243,
          4.786308302173243,
          4.786308302173243,
          4.786308302173243,
          4.786308302173243,
          4.8553937417414055,
          4.8553937417414055,
          4.8553937417414055,
          4.8553937417414055,
          4.8553937417414055,
          4.924479181309569,
          4.924479181309569,
          4.9935646208777325,
          4.9935646208777325,
          4.9935646208777325,
          4.9935646208777325,
          4.9935646208777325,
          4.9935646208777325,
          4.9935646208777325,
          4.9935646208777325,
          4.9935646208777325,
          5.062650060445897,
          5.062650060445897,
          5.062650060445897,
          5.062650060445897,
          5.062650060445897,
          5.062650060445897,
          5.131735500014059,
          5.131735500014059,
          5.200820939582224,
          5.200820939582224,
          5.200820939582224,
          5.269906379150386,
          5.269906379150386,
          5.269906379150386,
          5.269906379150386,
          5.338991818718551,
          5.338991818718551,
          5.408077258286713,
          5.477162697854877,
          5.54624813742304,
          5.684419016559368
         ],
         "yaxis": "y"
        },
        {
         "hovertemplate": "species=versicolor<br>sepal_width=%{x}<br>sepal_length=%{y}<extra></extra>",
         "legendgroup": "versicolor",
         "marker": {
          "color": "#FF7F0E",
          "symbol": "circle"
         },
         "mode": "markers",
         "name": "versicolor",
         "orientation": "v",
         "showlegend": true,
         "type": "scatter",
         "x": [
          3.2,
          3.2,
          3.1,
          2.3,
          2.8,
          2.8,
          3.3,
          2.4,
          2.9,
          2.7,
          2,
          3,
          2.2,
          2.9,
          2.9,
          3.1,
          3,
          2.7,
          2.2,
          2.5,
          3.2,
          2.8,
          2.5,
          2.8,
          2.9,
          3,
          2.8,
          3,
          2.9,
          2.6,
          2.4,
          2.4,
          2.7,
          2.7,
          3,
          3.4,
          3.1,
          2.3,
          3,
          2.5,
          2.6,
          3,
          2.6,
          2.3,
          2.7,
          3,
          2.9,
          2.9,
          2.5,
          2.8
         ],
         "xaxis": "x",
         "y": [
          7,
          6.4,
          6.9,
          5.5,
          6.5,
          5.7,
          6.3,
          4.9,
          6.6,
          5.2,
          5,
          5.9,
          6,
          6.1,
          5.6,
          6.7,
          5.6,
          5.8,
          6.2,
          5.6,
          5.9,
          6.1,
          6.3,
          6.1,
          6.4,
          6.6,
          6.8,
          6.7,
          6,
          5.7,
          5.5,
          5.5,
          5.8,
          6,
          5.4,
          6,
          6.7,
          6.3,
          5.6,
          5.5,
          5.5,
          6.1,
          5.8,
          5,
          5.6,
          5.7,
          5.7,
          6.2,
          5.1,
          5.7
         ],
         "yaxis": "y"
        },
        {
         "alignmentgroup": "True",
         "hovertemplate": "species=versicolor<br>sepal_width=%{x}<extra></extra>",
         "legendgroup": "versicolor",
         "marker": {
          "color": "#FF7F0E",
          "symbol": "circle"
         },
         "name": "versicolor",
         "notched": true,
         "offsetgroup": "versicolor",
         "showlegend": false,
         "type": "box",
         "x": [
          3.2,
          3.2,
          3.1,
          2.3,
          2.8,
          2.8,
          3.3,
          2.4,
          2.9,
          2.7,
          2,
          3,
          2.2,
          2.9,
          2.9,
          3.1,
          3,
          2.7,
          2.2,
          2.5,
          3.2,
          2.8,
          2.5,
          2.8,
          2.9,
          3,
          2.8,
          3,
          2.9,
          2.6,
          2.4,
          2.4,
          2.7,
          2.7,
          3,
          3.4,
          3.1,
          2.3,
          3,
          2.5,
          2.6,
          3,
          2.6,
          2.3,
          2.7,
          3,
          2.9,
          2.9,
          2.5,
          2.8
         ],
         "xaxis": "x3",
         "yaxis": "y3"
        },
        {
         "alignmentgroup": "True",
         "hovertemplate": "species=versicolor<br>sepal_length=%{y}<extra></extra>",
         "legendgroup": "versicolor",
         "marker": {
          "color": "#FF7F0E",
          "symbol": "circle"
         },
         "name": "versicolor",
         "offsetgroup": "versicolor",
         "scalegroup": "y",
         "showlegend": false,
         "type": "violin",
         "xaxis": "x2",
         "y": [
          7,
          6.4,
          6.9,
          5.5,
          6.5,
          5.7,
          6.3,
          4.9,
          6.6,
          5.2,
          5,
          5.9,
          6,
          6.1,
          5.6,
          6.7,
          5.6,
          5.8,
          6.2,
          5.6,
          5.9,
          6.1,
          6.3,
          6.1,
          6.4,
          6.6,
          6.8,
          6.7,
          6,
          5.7,
          5.5,
          5.5,
          5.8,
          6,
          5.4,
          6,
          6.7,
          6.3,
          5.6,
          5.5,
          5.5,
          6.1,
          5.8,
          5,
          5.6,
          5.7,
          5.7,
          6.2,
          5.1,
          5.7
         ],
         "yaxis": "y2"
        },
        {
         "hovertemplate": "<b>OLS trendline</b><br>sepal_length = 0.865078 * sepal_width + 3.53973<br>R<sup>2</sup>=0.276582<br><br>species=versicolor<br>sepal_width=%{x}<br>sepal_length=%{y} <b>(trend)</b><extra></extra>",
         "legendgroup": "versicolor",
         "marker": {
          "color": "#FF7F0E",
          "symbol": "circle"
         },
         "mode": "lines",
         "name": "versicolor",
         "showlegend": false,
         "type": "scatter",
         "x": [
          2,
          2.2,
          2.2,
          2.3,
          2.3,
          2.3,
          2.4,
          2.4,
          2.4,
          2.5,
          2.5,
          2.5,
          2.5,
          2.6,
          2.6,
          2.6,
          2.7,
          2.7,
          2.7,
          2.7,
          2.7,
          2.8,
          2.8,
          2.8,
          2.8,
          2.8,
          2.8,
          2.9,
          2.9,
          2.9,
          2.9,
          2.9,
          2.9,
          2.9,
          3,
          3,
          3,
          3,
          3,
          3,
          3,
          3,
          3.1,
          3.1,
          3.1,
          3.2,
          3.2,
          3.2,
          3.3,
          3.4
         ],
         "xaxis": "x",
         "y": [
          5.269890155440412,
          5.442905699481863,
          5.442905699481863,
          5.529413471502588,
          5.529413471502588,
          5.529413471502588,
          5.615921243523314,
          5.615921243523314,
          5.615921243523314,
          5.702429015544039,
          5.702429015544039,
          5.702429015544039,
          5.702429015544039,
          5.788936787564765,
          5.788936787564765,
          5.788936787564765,
          5.875444559585491,
          5.875444559585491,
          5.875444559585491,
          5.875444559585491,
          5.875444559585491,
          5.9619523316062155,
          5.9619523316062155,
          5.9619523316062155,
          5.9619523316062155,
          5.9619523316062155,
          5.9619523316062155,
          6.048460103626941,
          6.048460103626941,
          6.048460103626941,
          6.048460103626941,
          6.048460103626941,
          6.048460103626941,
          6.048460103626941,
          6.134967875647666,
          6.134967875647666,
          6.134967875647666,
          6.134967875647666,
          6.134967875647666,
          6.134967875647666,
          6.134967875647666,
          6.134967875647666,
          6.221475647668392,
          6.221475647668392,
          6.221475647668392,
          6.307983419689117,
          6.307983419689117,
          6.307983419689117,
          6.394491191709843,
          6.480998963730569
         ],
         "yaxis": "y"
        },
        {
         "hovertemplate": "species=virginica<br>sepal_width=%{x}<br>sepal_length=%{y}<extra></extra>",
         "legendgroup": "virginica",
         "marker": {
          "color": "#2CA02C",
          "symbol": "circle"
         },
         "mode": "markers",
         "name": "virginica",
         "orientation": "v",
         "showlegend": true,
         "type": "scatter",
         "x": [
          3.3,
          2.7,
          3,
          2.9,
          3,
          3,
          2.5,
          2.9,
          2.5,
          3.6,
          3.2,
          2.7,
          3,
          2.5,
          2.8,
          3.2,
          3,
          3.8,
          2.6,
          2.2,
          3.2,
          2.8,
          2.8,
          2.7,
          3.3,
          3.2,
          2.8,
          3,
          2.8,
          3,
          2.8,
          3.8,
          2.8,
          2.8,
          2.6,
          3,
          3.4,
          3.1,
          3,
          3.1,
          3.1,
          3.1,
          2.7,
          3.2,
          3.3,
          3,
          2.5,
          3,
          3.4,
          3
         ],
         "xaxis": "x",
         "y": [
          6.3,
          5.8,
          7.1,
          6.3,
          6.5,
          7.6,
          4.9,
          7.3,
          6.7,
          7.2,
          6.5,
          6.4,
          6.8,
          5.7,
          5.8,
          6.4,
          6.5,
          7.7,
          7.7,
          6,
          6.9,
          5.6,
          7.7,
          6.3,
          6.7,
          7.2,
          6.2,
          6.1,
          6.4,
          7.2,
          7.4,
          7.9,
          6.4,
          6.3,
          6.1,
          7.7,
          6.3,
          6.4,
          6,
          6.9,
          6.7,
          6.9,
          5.8,
          6.8,
          6.7,
          6.7,
          6.3,
          6.5,
          6.2,
          5.9
         ],
         "yaxis": "y"
        },
        {
         "alignmentgroup": "True",
         "hovertemplate": "species=virginica<br>sepal_width=%{x}<extra></extra>",
         "legendgroup": "virginica",
         "marker": {
          "color": "#2CA02C",
          "symbol": "circle"
         },
         "name": "virginica",
         "notched": true,
         "offsetgroup": "virginica",
         "showlegend": false,
         "type": "box",
         "x": [
          3.3,
          2.7,
          3,
          2.9,
          3,
          3,
          2.5,
          2.9,
          2.5,
          3.6,
          3.2,
          2.7,
          3,
          2.5,
          2.8,
          3.2,
          3,
          3.8,
          2.6,
          2.2,
          3.2,
          2.8,
          2.8,
          2.7,
          3.3,
          3.2,
          2.8,
          3,
          2.8,
          3,
          2.8,
          3.8,
          2.8,
          2.8,
          2.6,
          3,
          3.4,
          3.1,
          3,
          3.1,
          3.1,
          3.1,
          2.7,
          3.2,
          3.3,
          3,
          2.5,
          3,
          3.4,
          3
         ],
         "xaxis": "x3",
         "yaxis": "y3"
        },
        {
         "alignmentgroup": "True",
         "hovertemplate": "species=virginica<br>sepal_length=%{y}<extra></extra>",
         "legendgroup": "virginica",
         "marker": {
          "color": "#2CA02C",
          "symbol": "circle"
         },
         "name": "virginica",
         "offsetgroup": "virginica",
         "scalegroup": "y",
         "showlegend": false,
         "type": "violin",
         "xaxis": "x2",
         "y": [
          6.3,
          5.8,
          7.1,
          6.3,
          6.5,
          7.6,
          4.9,
          7.3,
          6.7,
          7.2,
          6.5,
          6.4,
          6.8,
          5.7,
          5.8,
          6.4,
          6.5,
          7.7,
          7.7,
          6,
          6.9,
          5.6,
          7.7,
          6.3,
          6.7,
          7.2,
          6.2,
          6.1,
          6.4,
          7.2,
          7.4,
          7.9,
          6.4,
          6.3,
          6.1,
          7.7,
          6.3,
          6.4,
          6,
          6.9,
          6.7,
          6.9,
          5.8,
          6.8,
          6.7,
          6.7,
          6.3,
          6.5,
          6.2,
          5.9
         ],
         "yaxis": "y2"
        },
        {
         "hovertemplate": "<b>OLS trendline</b><br>sepal_length = 0.901534 * sepal_width + 3.90684<br>R<sup>2</sup>=0.209057<br><br>species=virginica<br>sepal_width=%{x}<br>sepal_length=%{y} <b>(trend)</b><extra></extra>",
         "legendgroup": "virginica",
         "marker": {
          "color": "#2CA02C",
          "symbol": "circle"
         },
         "mode": "lines",
         "name": "virginica",
         "showlegend": false,
         "type": "scatter",
         "x": [
          2.2,
          2.5,
          2.5,
          2.5,
          2.5,
          2.6,
          2.6,
          2.7,
          2.7,
          2.7,
          2.7,
          2.8,
          2.8,
          2.8,
          2.8,
          2.8,
          2.8,
          2.8,
          2.8,
          2.9,
          2.9,
          3,
          3,
          3,
          3,
          3,
          3,
          3,
          3,
          3,
          3,
          3,
          3,
          3.1,
          3.1,
          3.1,
          3.1,
          3.2,
          3.2,
          3.2,
          3.2,
          3.2,
          3.3,
          3.3,
          3.3,
          3.4,
          3.4,
          3.6,
          3.8,
          3.8
         ],
         "xaxis": "x",
         "y": [
          5.890212315058276,
          6.160672658058944,
          6.160672658058944,
          6.160672658058944,
          6.160672658058944,
          6.250826105725833,
          6.250826105725833,
          6.340979553392723,
          6.340979553392723,
          6.340979553392723,
          6.340979553392723,
          6.431133001059612,
          6.431133001059612,
          6.431133001059612,
          6.431133001059612,
          6.431133001059612,
          6.431133001059612,
          6.431133001059612,
          6.431133001059612,
          6.521286448726501,
          6.521286448726501,
          6.6114398963933905,
          6.6114398963933905,
          6.6114398963933905,
          6.6114398963933905,
          6.6114398963933905,
          6.6114398963933905,
          6.6114398963933905,
          6.6114398963933905,
          6.6114398963933905,
          6.6114398963933905,
          6.6114398963933905,
          6.6114398963933905,
          6.70159334406028,
          6.70159334406028,
          6.70159334406028,
          6.70159334406028,
          6.791746791727169,
          6.791746791727169,
          6.791746791727169,
          6.791746791727169,
          6.791746791727169,
          6.881900239394058,
          6.881900239394058,
          6.881900239394058,
          6.9720536870609475,
          6.9720536870609475,
          7.152360582394727,
          7.332667477728505,
          7.332667477728505
         ],
         "yaxis": "y"
        }
       ],
       "layout": {
        "legend": {
         "title": {
          "text": "species"
         },
         "tracegroupgap": 0
        },
        "margin": {
         "t": 60
        },
        "template": {
         "data": {
          "bar": [
           {
            "error_x": {
             "color": "rgb(36,36,36)"
            },
            "error_y": {
             "color": "rgb(36,36,36)"
            },
            "marker": {
             "line": {
              "color": "white",
              "width": 0.5
             },
             "pattern": {
              "fillmode": "overlay",
              "size": 10,
              "solidity": 0.2
             }
            },
            "type": "bar"
           }
          ],
          "barpolar": [
           {
            "marker": {
             "line": {
              "color": "white",
              "width": 0.5
             },
             "pattern": {
              "fillmode": "overlay",
              "size": 10,
              "solidity": 0.2
             }
            },
            "type": "barpolar"
           }
          ],
          "carpet": [
           {
            "aaxis": {
             "endlinecolor": "rgb(36,36,36)",
             "gridcolor": "white",
             "linecolor": "white",
             "minorgridcolor": "white",
             "startlinecolor": "rgb(36,36,36)"
            },
            "baxis": {
             "endlinecolor": "rgb(36,36,36)",
             "gridcolor": "white",
             "linecolor": "white",
             "minorgridcolor": "white",
             "startlinecolor": "rgb(36,36,36)"
            },
            "type": "carpet"
           }
          ],
          "choropleth": [
           {
            "colorbar": {
             "outlinewidth": 1,
             "tickcolor": "rgb(36,36,36)",
             "ticks": "outside"
            },
            "type": "choropleth"
           }
          ],
          "contour": [
           {
            "colorbar": {
             "outlinewidth": 1,
             "tickcolor": "rgb(36,36,36)",
             "ticks": "outside"
            },
            "colorscale": [
             [
              0,
              "#440154"
             ],
             [
              0.1111111111111111,
              "#482878"
             ],
             [
              0.2222222222222222,
              "#3e4989"
             ],
             [
              0.3333333333333333,
              "#31688e"
             ],
             [
              0.4444444444444444,
              "#26828e"
             ],
             [
              0.5555555555555556,
              "#1f9e89"
             ],
             [
              0.6666666666666666,
              "#35b779"
             ],
             [
              0.7777777777777778,
              "#6ece58"
             ],
             [
              0.8888888888888888,
              "#b5de2b"
             ],
             [
              1,
              "#fde725"
             ]
            ],
            "type": "contour"
           }
          ],
          "contourcarpet": [
           {
            "colorbar": {
             "outlinewidth": 1,
             "tickcolor": "rgb(36,36,36)",
             "ticks": "outside"
            },
            "type": "contourcarpet"
           }
          ],
          "heatmap": [
           {
            "colorbar": {
             "outlinewidth": 1,
             "tickcolor": "rgb(36,36,36)",
             "ticks": "outside"
            },
            "colorscale": [
             [
              0,
              "#440154"
             ],
             [
              0.1111111111111111,
              "#482878"
             ],
             [
              0.2222222222222222,
              "#3e4989"
             ],
             [
              0.3333333333333333,
              "#31688e"
             ],
             [
              0.4444444444444444,
              "#26828e"
             ],
             [
              0.5555555555555556,
              "#1f9e89"
             ],
             [
              0.6666666666666666,
              "#35b779"
             ],
             [
              0.7777777777777778,
              "#6ece58"
             ],
             [
              0.8888888888888888,
              "#b5de2b"
             ],
             [
              1,
              "#fde725"
             ]
            ],
            "type": "heatmap"
           }
          ],
          "heatmapgl": [
           {
            "colorbar": {
             "outlinewidth": 1,
             "tickcolor": "rgb(36,36,36)",
             "ticks": "outside"
            },
            "colorscale": [
             [
              0,
              "#440154"
             ],
             [
              0.1111111111111111,
              "#482878"
             ],
             [
              0.2222222222222222,
              "#3e4989"
             ],
             [
              0.3333333333333333,
              "#31688e"
             ],
             [
              0.4444444444444444,
              "#26828e"
             ],
             [
              0.5555555555555556,
              "#1f9e89"
             ],
             [
              0.6666666666666666,
              "#35b779"
             ],
             [
              0.7777777777777778,
              "#6ece58"
             ],
             [
              0.8888888888888888,
              "#b5de2b"
             ],
             [
              1,
              "#fde725"
             ]
            ],
            "type": "heatmapgl"
           }
          ],
          "histogram": [
           {
            "marker": {
             "line": {
              "color": "white",
              "width": 0.6
             }
            },
            "type": "histogram"
           }
          ],
          "histogram2d": [
           {
            "colorbar": {
             "outlinewidth": 1,
             "tickcolor": "rgb(36,36,36)",
             "ticks": "outside"
            },
            "colorscale": [
             [
              0,
              "#440154"
             ],
             [
              0.1111111111111111,
              "#482878"
             ],
             [
              0.2222222222222222,
              "#3e4989"
             ],
             [
              0.3333333333333333,
              "#31688e"
             ],
             [
              0.4444444444444444,
              "#26828e"
             ],
             [
              0.5555555555555556,
              "#1f9e89"
             ],
             [
              0.6666666666666666,
              "#35b779"
             ],
             [
              0.7777777777777778,
              "#6ece58"
             ],
             [
              0.8888888888888888,
              "#b5de2b"
             ],
             [
              1,
              "#fde725"
             ]
            ],
            "type": "histogram2d"
           }
          ],
          "histogram2dcontour": [
           {
            "colorbar": {
             "outlinewidth": 1,
             "tickcolor": "rgb(36,36,36)",
             "ticks": "outside"
            },
            "colorscale": [
             [
              0,
              "#440154"
             ],
             [
              0.1111111111111111,
              "#482878"
             ],
             [
              0.2222222222222222,
              "#3e4989"
             ],
             [
              0.3333333333333333,
              "#31688e"
             ],
             [
              0.4444444444444444,
              "#26828e"
             ],
             [
              0.5555555555555556,
              "#1f9e89"
             ],
             [
              0.6666666666666666,
              "#35b779"
             ],
             [
              0.7777777777777778,
              "#6ece58"
             ],
             [
              0.8888888888888888,
              "#b5de2b"
             ],
             [
              1,
              "#fde725"
             ]
            ],
            "type": "histogram2dcontour"
           }
          ],
          "mesh3d": [
           {
            "colorbar": {
             "outlinewidth": 1,
             "tickcolor": "rgb(36,36,36)",
             "ticks": "outside"
            },
            "type": "mesh3d"
           }
          ],
          "parcoords": [
           {
            "line": {
             "colorbar": {
              "outlinewidth": 1,
              "tickcolor": "rgb(36,36,36)",
              "ticks": "outside"
             }
            },
            "type": "parcoords"
           }
          ],
          "pie": [
           {
            "automargin": true,
            "type": "pie"
           }
          ],
          "scatter": [
           {
            "marker": {
             "colorbar": {
              "outlinewidth": 1,
              "tickcolor": "rgb(36,36,36)",
              "ticks": "outside"
             }
            },
            "type": "scatter"
           }
          ],
          "scatter3d": [
           {
            "line": {
             "colorbar": {
              "outlinewidth": 1,
              "tickcolor": "rgb(36,36,36)",
              "ticks": "outside"
             }
            },
            "marker": {
             "colorbar": {
              "outlinewidth": 1,
              "tickcolor": "rgb(36,36,36)",
              "ticks": "outside"
             }
            },
            "type": "scatter3d"
           }
          ],
          "scattercarpet": [
           {
            "marker": {
             "colorbar": {
              "outlinewidth": 1,
              "tickcolor": "rgb(36,36,36)",
              "ticks": "outside"
             }
            },
            "type": "scattercarpet"
           }
          ],
          "scattergeo": [
           {
            "marker": {
             "colorbar": {
              "outlinewidth": 1,
              "tickcolor": "rgb(36,36,36)",
              "ticks": "outside"
             }
            },
            "type": "scattergeo"
           }
          ],
          "scattergl": [
           {
            "marker": {
             "colorbar": {
              "outlinewidth": 1,
              "tickcolor": "rgb(36,36,36)",
              "ticks": "outside"
             }
            },
            "type": "scattergl"
           }
          ],
          "scattermapbox": [
           {
            "marker": {
             "colorbar": {
              "outlinewidth": 1,
              "tickcolor": "rgb(36,36,36)",
              "ticks": "outside"
             }
            },
            "type": "scattermapbox"
           }
          ],
          "scatterpolar": [
           {
            "marker": {
             "colorbar": {
              "outlinewidth": 1,
              "tickcolor": "rgb(36,36,36)",
              "ticks": "outside"
             }
            },
            "type": "scatterpolar"
           }
          ],
          "scatterpolargl": [
           {
            "marker": {
             "colorbar": {
              "outlinewidth": 1,
              "tickcolor": "rgb(36,36,36)",
              "ticks": "outside"
             }
            },
            "type": "scatterpolargl"
           }
          ],
          "scatterternary": [
           {
            "marker": {
             "colorbar": {
              "outlinewidth": 1,
              "tickcolor": "rgb(36,36,36)",
              "ticks": "outside"
             }
            },
            "type": "scatterternary"
           }
          ],
          "surface": [
           {
            "colorbar": {
             "outlinewidth": 1,
             "tickcolor": "rgb(36,36,36)",
             "ticks": "outside"
            },
            "colorscale": [
             [
              0,
              "#440154"
             ],
             [
              0.1111111111111111,
              "#482878"
             ],
             [
              0.2222222222222222,
              "#3e4989"
             ],
             [
              0.3333333333333333,
              "#31688e"
             ],
             [
              0.4444444444444444,
              "#26828e"
             ],
             [
              0.5555555555555556,
              "#1f9e89"
             ],
             [
              0.6666666666666666,
              "#35b779"
             ],
             [
              0.7777777777777778,
              "#6ece58"
             ],
             [
              0.8888888888888888,
              "#b5de2b"
             ],
             [
              1,
              "#fde725"
             ]
            ],
            "type": "surface"
           }
          ],
          "table": [
           {
            "cells": {
             "fill": {
              "color": "rgb(237,237,237)"
             },
             "line": {
              "color": "white"
             }
            },
            "header": {
             "fill": {
              "color": "rgb(217,217,217)"
             },
             "line": {
              "color": "white"
             }
            },
            "type": "table"
           }
          ]
         },
         "layout": {
          "annotationdefaults": {
           "arrowhead": 0,
           "arrowwidth": 1
          },
          "autotypenumbers": "strict",
          "coloraxis": {
           "colorbar": {
            "outlinewidth": 1,
            "tickcolor": "rgb(36,36,36)",
            "ticks": "outside"
           }
          },
          "colorscale": {
           "diverging": [
            [
             0,
             "rgb(103,0,31)"
            ],
            [
             0.1,
             "rgb(178,24,43)"
            ],
            [
             0.2,
             "rgb(214,96,77)"
            ],
            [
             0.3,
             "rgb(244,165,130)"
            ],
            [
             0.4,
             "rgb(253,219,199)"
            ],
            [
             0.5,
             "rgb(247,247,247)"
            ],
            [
             0.6,
             "rgb(209,229,240)"
            ],
            [
             0.7,
             "rgb(146,197,222)"
            ],
            [
             0.8,
             "rgb(67,147,195)"
            ],
            [
             0.9,
             "rgb(33,102,172)"
            ],
            [
             1,
             "rgb(5,48,97)"
            ]
           ],
           "sequential": [
            [
             0,
             "#440154"
            ],
            [
             0.1111111111111111,
             "#482878"
            ],
            [
             0.2222222222222222,
             "#3e4989"
            ],
            [
             0.3333333333333333,
             "#31688e"
            ],
            [
             0.4444444444444444,
             "#26828e"
            ],
            [
             0.5555555555555556,
             "#1f9e89"
            ],
            [
             0.6666666666666666,
             "#35b779"
            ],
            [
             0.7777777777777778,
             "#6ece58"
            ],
            [
             0.8888888888888888,
             "#b5de2b"
            ],
            [
             1,
             "#fde725"
            ]
           ],
           "sequentialminus": [
            [
             0,
             "#440154"
            ],
            [
             0.1111111111111111,
             "#482878"
            ],
            [
             0.2222222222222222,
             "#3e4989"
            ],
            [
             0.3333333333333333,
             "#31688e"
            ],
            [
             0.4444444444444444,
             "#26828e"
            ],
            [
             0.5555555555555556,
             "#1f9e89"
            ],
            [
             0.6666666666666666,
             "#35b779"
            ],
            [
             0.7777777777777778,
             "#6ece58"
            ],
            [
             0.8888888888888888,
             "#b5de2b"
            ],
            [
             1,
             "#fde725"
            ]
           ]
          },
          "colorway": [
           "#1F77B4",
           "#FF7F0E",
           "#2CA02C",
           "#D62728",
           "#9467BD",
           "#8C564B",
           "#E377C2",
           "#7F7F7F",
           "#BCBD22",
           "#17BECF"
          ],
          "font": {
           "color": "rgb(36,36,36)"
          },
          "geo": {
           "bgcolor": "white",
           "lakecolor": "white",
           "landcolor": "white",
           "showlakes": true,
           "showland": true,
           "subunitcolor": "white"
          },
          "hoverlabel": {
           "align": "left"
          },
          "hovermode": "closest",
          "mapbox": {
           "style": "light"
          },
          "paper_bgcolor": "white",
          "plot_bgcolor": "white",
          "polar": {
           "angularaxis": {
            "gridcolor": "rgb(232,232,232)",
            "linecolor": "rgb(36,36,36)",
            "showgrid": false,
            "showline": true,
            "ticks": "outside"
           },
           "bgcolor": "white",
           "radialaxis": {
            "gridcolor": "rgb(232,232,232)",
            "linecolor": "rgb(36,36,36)",
            "showgrid": false,
            "showline": true,
            "ticks": "outside"
           }
          },
          "scene": {
           "xaxis": {
            "backgroundcolor": "white",
            "gridcolor": "rgb(232,232,232)",
            "gridwidth": 2,
            "linecolor": "rgb(36,36,36)",
            "showbackground": true,
            "showgrid": false,
            "showline": true,
            "ticks": "outside",
            "zeroline": false,
            "zerolinecolor": "rgb(36,36,36)"
           },
           "yaxis": {
            "backgroundcolor": "white",
            "gridcolor": "rgb(232,232,232)",
            "gridwidth": 2,
            "linecolor": "rgb(36,36,36)",
            "showbackground": true,
            "showgrid": false,
            "showline": true,
            "ticks": "outside",
            "zeroline": false,
            "zerolinecolor": "rgb(36,36,36)"
           },
           "zaxis": {
            "backgroundcolor": "white",
            "gridcolor": "rgb(232,232,232)",
            "gridwidth": 2,
            "linecolor": "rgb(36,36,36)",
            "showbackground": true,
            "showgrid": false,
            "showline": true,
            "ticks": "outside",
            "zeroline": false,
            "zerolinecolor": "rgb(36,36,36)"
           }
          },
          "shapedefaults": {
           "fillcolor": "black",
           "line": {
            "width": 0
           },
           "opacity": 0.3
          },
          "ternary": {
           "aaxis": {
            "gridcolor": "rgb(232,232,232)",
            "linecolor": "rgb(36,36,36)",
            "showgrid": false,
            "showline": true,
            "ticks": "outside"
           },
           "baxis": {
            "gridcolor": "rgb(232,232,232)",
            "linecolor": "rgb(36,36,36)",
            "showgrid": false,
            "showline": true,
            "ticks": "outside"
           },
           "bgcolor": "white",
           "caxis": {
            "gridcolor": "rgb(232,232,232)",
            "linecolor": "rgb(36,36,36)",
            "showgrid": false,
            "showline": true,
            "ticks": "outside"
           }
          },
          "title": {
           "x": 0.05
          },
          "xaxis": {
           "automargin": true,
           "gridcolor": "rgb(232,232,232)",
           "linecolor": "rgb(36,36,36)",
           "showgrid": false,
           "showline": true,
           "ticks": "outside",
           "title": {
            "standoff": 15
           },
           "zeroline": false,
           "zerolinecolor": "rgb(36,36,36)"
          },
          "yaxis": {
           "automargin": true,
           "gridcolor": "rgb(232,232,232)",
           "linecolor": "rgb(36,36,36)",
           "showgrid": false,
           "showline": true,
           "ticks": "outside",
           "title": {
            "standoff": 15
           },
           "zeroline": false,
           "zerolinecolor": "rgb(36,36,36)"
          }
         }
        },
        "xaxis": {
         "anchor": "y",
         "domain": [
          0,
          0.7363
         ],
         "title": {
          "text": "sepal_width"
         }
        },
        "xaxis2": {
         "anchor": "y2",
         "domain": [
          0.7413,
          1
         ],
         "matches": "x2",
         "showline": false,
         "showticklabels": false,
         "ticks": ""
        },
        "xaxis3": {
         "anchor": "y3",
         "domain": [
          0,
          0.7363
         ],
         "matches": "x",
         "showticklabels": false
        },
        "xaxis4": {
         "anchor": "y4",
         "domain": [
          0.7413,
          1
         ],
         "matches": "x2",
         "showline": false,
         "showticklabels": false,
         "ticks": ""
        },
        "yaxis": {
         "anchor": "x",
         "domain": [
          0,
          0.7326
         ],
         "title": {
          "text": "sepal_length"
         }
        },
        "yaxis2": {
         "anchor": "x2",
         "domain": [
          0,
          0.7326
         ],
         "matches": "y",
         "showticklabels": false
        },
        "yaxis3": {
         "anchor": "x3",
         "domain": [
          0.7426,
          1
         ],
         "matches": "y3",
         "showline": false,
         "showticklabels": false,
         "ticks": ""
        },
        "yaxis4": {
         "anchor": "x4",
         "domain": [
          0.7426,
          1
         ],
         "matches": "y3",
         "showline": false,
         "showticklabels": false,
         "ticks": ""
        }
       }
      },
      "text/html": [
       "<div>                            <div id=\"e3c0cf7e-d7b0-4dea-a602-c47d8c37f7b0\" class=\"plotly-graph-div\" style=\"height:525px; width:100%;\"></div>            <script type=\"text/javascript\">                require([\"plotly\"], function(Plotly) {                    window.PLOTLYENV=window.PLOTLYENV || {};                                    if (document.getElementById(\"e3c0cf7e-d7b0-4dea-a602-c47d8c37f7b0\")) {                    Plotly.newPlot(                        \"e3c0cf7e-d7b0-4dea-a602-c47d8c37f7b0\",                        [{\"hovertemplate\":\"species=setosa<br>sepal_width=%{x}<br>sepal_length=%{y}<extra></extra>\",\"legendgroup\":\"setosa\",\"marker\":{\"color\":\"#1F77B4\",\"symbol\":\"circle\"},\"mode\":\"markers\",\"name\":\"setosa\",\"orientation\":\"v\",\"showlegend\":true,\"x\":[3.5,3.0,3.2,3.1,3.6,3.9,3.4,3.4,2.9,3.1,3.7,3.4,3.0,3.0,4.0,4.4,3.9,3.5,3.8,3.8,3.4,3.7,3.6,3.3,3.4,3.0,3.4,3.5,3.4,3.2,3.1,3.4,4.1,4.2,3.1,3.2,3.5,3.1,3.0,3.4,3.5,2.3,3.2,3.5,3.8,3.0,3.8,3.2,3.7,3.3],\"xaxis\":\"x\",\"y\":[5.1,4.9,4.7,4.6,5.0,5.4,4.6,5.0,4.4,4.9,5.4,4.8,4.8,4.3,5.8,5.7,5.4,5.1,5.7,5.1,5.4,5.1,4.6,5.1,4.8,5.0,5.0,5.2,5.2,4.7,4.8,5.4,5.2,5.5,4.9,5.0,5.5,4.9,4.4,5.1,5.0,4.5,4.4,5.0,5.1,4.8,5.1,4.6,5.3,5.0],\"yaxis\":\"y\",\"type\":\"scatter\"},{\"alignmentgroup\":\"True\",\"hovertemplate\":\"species=setosa<br>sepal_width=%{x}<extra></extra>\",\"legendgroup\":\"setosa\",\"marker\":{\"color\":\"#1F77B4\",\"symbol\":\"circle\"},\"name\":\"setosa\",\"notched\":true,\"offsetgroup\":\"setosa\",\"showlegend\":false,\"x\":[3.5,3.0,3.2,3.1,3.6,3.9,3.4,3.4,2.9,3.1,3.7,3.4,3.0,3.0,4.0,4.4,3.9,3.5,3.8,3.8,3.4,3.7,3.6,3.3,3.4,3.0,3.4,3.5,3.4,3.2,3.1,3.4,4.1,4.2,3.1,3.2,3.5,3.1,3.0,3.4,3.5,2.3,3.2,3.5,3.8,3.0,3.8,3.2,3.7,3.3],\"xaxis\":\"x3\",\"yaxis\":\"y3\",\"type\":\"box\"},{\"alignmentgroup\":\"True\",\"hovertemplate\":\"species=setosa<br>sepal_length=%{y}<extra></extra>\",\"legendgroup\":\"setosa\",\"marker\":{\"color\":\"#1F77B4\",\"symbol\":\"circle\"},\"name\":\"setosa\",\"offsetgroup\":\"setosa\",\"scalegroup\":\"y\",\"showlegend\":false,\"xaxis\":\"x2\",\"y\":[5.1,4.9,4.7,4.6,5.0,5.4,4.6,5.0,4.4,4.9,5.4,4.8,4.8,4.3,5.8,5.7,5.4,5.1,5.7,5.1,5.4,5.1,4.6,5.1,4.8,5.0,5.0,5.2,5.2,4.7,4.8,5.4,5.2,5.5,4.9,5.0,5.5,4.9,4.4,5.1,5.0,4.5,4.4,5.0,5.1,4.8,5.1,4.6,5.3,5.0],\"yaxis\":\"y2\",\"type\":\"violin\"},{\"hovertemplate\":\"<b>OLS trendline</b><br>sepal_length = 0.690854 * sepal_width + 2.64466<br>R<sup>2</sup>=0.557681<br><br>species=setosa<br>sepal_width=%{x}<br>sepal_length=%{y} <b>(trend)</b><extra></extra>\",\"legendgroup\":\"setosa\",\"marker\":{\"color\":\"#1F77B4\",\"symbol\":\"circle\"},\"mode\":\"lines\",\"name\":\"setosa\",\"showlegend\":false,\"x\":[2.3,2.9,3.0,3.0,3.0,3.0,3.0,3.0,3.1,3.1,3.1,3.1,3.1,3.2,3.2,3.2,3.2,3.2,3.3,3.3,3.4,3.4,3.4,3.4,3.4,3.4,3.4,3.4,3.4,3.5,3.5,3.5,3.5,3.5,3.5,3.6,3.6,3.7,3.7,3.7,3.8,3.8,3.8,3.8,3.9,3.9,4.0,4.1,4.2,4.4],\"xaxis\":\"x\",\"y\":[4.233624785627934,4.648137423036915,4.7172228626050785,4.7172228626050785,4.7172228626050785,4.7172228626050785,4.7172228626050785,4.7172228626050785,4.786308302173243,4.786308302173243,4.786308302173243,4.786308302173243,4.786308302173243,4.8553937417414055,4.8553937417414055,4.8553937417414055,4.8553937417414055,4.8553937417414055,4.924479181309569,4.924479181309569,4.9935646208777325,4.9935646208777325,4.9935646208777325,4.9935646208777325,4.9935646208777325,4.9935646208777325,4.9935646208777325,4.9935646208777325,4.9935646208777325,5.062650060445897,5.062650060445897,5.062650060445897,5.062650060445897,5.062650060445897,5.062650060445897,5.131735500014059,5.131735500014059,5.200820939582224,5.200820939582224,5.200820939582224,5.269906379150386,5.269906379150386,5.269906379150386,5.269906379150386,5.338991818718551,5.338991818718551,5.408077258286713,5.477162697854877,5.54624813742304,5.684419016559368],\"yaxis\":\"y\",\"type\":\"scatter\"},{\"hovertemplate\":\"species=versicolor<br>sepal_width=%{x}<br>sepal_length=%{y}<extra></extra>\",\"legendgroup\":\"versicolor\",\"marker\":{\"color\":\"#FF7F0E\",\"symbol\":\"circle\"},\"mode\":\"markers\",\"name\":\"versicolor\",\"orientation\":\"v\",\"showlegend\":true,\"x\":[3.2,3.2,3.1,2.3,2.8,2.8,3.3,2.4,2.9,2.7,2.0,3.0,2.2,2.9,2.9,3.1,3.0,2.7,2.2,2.5,3.2,2.8,2.5,2.8,2.9,3.0,2.8,3.0,2.9,2.6,2.4,2.4,2.7,2.7,3.0,3.4,3.1,2.3,3.0,2.5,2.6,3.0,2.6,2.3,2.7,3.0,2.9,2.9,2.5,2.8],\"xaxis\":\"x\",\"y\":[7.0,6.4,6.9,5.5,6.5,5.7,6.3,4.9,6.6,5.2,5.0,5.9,6.0,6.1,5.6,6.7,5.6,5.8,6.2,5.6,5.9,6.1,6.3,6.1,6.4,6.6,6.8,6.7,6.0,5.7,5.5,5.5,5.8,6.0,5.4,6.0,6.7,6.3,5.6,5.5,5.5,6.1,5.8,5.0,5.6,5.7,5.7,6.2,5.1,5.7],\"yaxis\":\"y\",\"type\":\"scatter\"},{\"alignmentgroup\":\"True\",\"hovertemplate\":\"species=versicolor<br>sepal_width=%{x}<extra></extra>\",\"legendgroup\":\"versicolor\",\"marker\":{\"color\":\"#FF7F0E\",\"symbol\":\"circle\"},\"name\":\"versicolor\",\"notched\":true,\"offsetgroup\":\"versicolor\",\"showlegend\":false,\"x\":[3.2,3.2,3.1,2.3,2.8,2.8,3.3,2.4,2.9,2.7,2.0,3.0,2.2,2.9,2.9,3.1,3.0,2.7,2.2,2.5,3.2,2.8,2.5,2.8,2.9,3.0,2.8,3.0,2.9,2.6,2.4,2.4,2.7,2.7,3.0,3.4,3.1,2.3,3.0,2.5,2.6,3.0,2.6,2.3,2.7,3.0,2.9,2.9,2.5,2.8],\"xaxis\":\"x3\",\"yaxis\":\"y3\",\"type\":\"box\"},{\"alignmentgroup\":\"True\",\"hovertemplate\":\"species=versicolor<br>sepal_length=%{y}<extra></extra>\",\"legendgroup\":\"versicolor\",\"marker\":{\"color\":\"#FF7F0E\",\"symbol\":\"circle\"},\"name\":\"versicolor\",\"offsetgroup\":\"versicolor\",\"scalegroup\":\"y\",\"showlegend\":false,\"xaxis\":\"x2\",\"y\":[7.0,6.4,6.9,5.5,6.5,5.7,6.3,4.9,6.6,5.2,5.0,5.9,6.0,6.1,5.6,6.7,5.6,5.8,6.2,5.6,5.9,6.1,6.3,6.1,6.4,6.6,6.8,6.7,6.0,5.7,5.5,5.5,5.8,6.0,5.4,6.0,6.7,6.3,5.6,5.5,5.5,6.1,5.8,5.0,5.6,5.7,5.7,6.2,5.1,5.7],\"yaxis\":\"y2\",\"type\":\"violin\"},{\"hovertemplate\":\"<b>OLS trendline</b><br>sepal_length = 0.865078 * sepal_width + 3.53973<br>R<sup>2</sup>=0.276582<br><br>species=versicolor<br>sepal_width=%{x}<br>sepal_length=%{y} <b>(trend)</b><extra></extra>\",\"legendgroup\":\"versicolor\",\"marker\":{\"color\":\"#FF7F0E\",\"symbol\":\"circle\"},\"mode\":\"lines\",\"name\":\"versicolor\",\"showlegend\":false,\"x\":[2.0,2.2,2.2,2.3,2.3,2.3,2.4,2.4,2.4,2.5,2.5,2.5,2.5,2.6,2.6,2.6,2.7,2.7,2.7,2.7,2.7,2.8,2.8,2.8,2.8,2.8,2.8,2.9,2.9,2.9,2.9,2.9,2.9,2.9,3.0,3.0,3.0,3.0,3.0,3.0,3.0,3.0,3.1,3.1,3.1,3.2,3.2,3.2,3.3,3.4],\"xaxis\":\"x\",\"y\":[5.269890155440412,5.442905699481863,5.442905699481863,5.529413471502588,5.529413471502588,5.529413471502588,5.615921243523314,5.615921243523314,5.615921243523314,5.702429015544039,5.702429015544039,5.702429015544039,5.702429015544039,5.788936787564765,5.788936787564765,5.788936787564765,5.875444559585491,5.875444559585491,5.875444559585491,5.875444559585491,5.875444559585491,5.9619523316062155,5.9619523316062155,5.9619523316062155,5.9619523316062155,5.9619523316062155,5.9619523316062155,6.048460103626941,6.048460103626941,6.048460103626941,6.048460103626941,6.048460103626941,6.048460103626941,6.048460103626941,6.134967875647666,6.134967875647666,6.134967875647666,6.134967875647666,6.134967875647666,6.134967875647666,6.134967875647666,6.134967875647666,6.221475647668392,6.221475647668392,6.221475647668392,6.307983419689117,6.307983419689117,6.307983419689117,6.394491191709843,6.480998963730569],\"yaxis\":\"y\",\"type\":\"scatter\"},{\"hovertemplate\":\"species=virginica<br>sepal_width=%{x}<br>sepal_length=%{y}<extra></extra>\",\"legendgroup\":\"virginica\",\"marker\":{\"color\":\"#2CA02C\",\"symbol\":\"circle\"},\"mode\":\"markers\",\"name\":\"virginica\",\"orientation\":\"v\",\"showlegend\":true,\"x\":[3.3,2.7,3.0,2.9,3.0,3.0,2.5,2.9,2.5,3.6,3.2,2.7,3.0,2.5,2.8,3.2,3.0,3.8,2.6,2.2,3.2,2.8,2.8,2.7,3.3,3.2,2.8,3.0,2.8,3.0,2.8,3.8,2.8,2.8,2.6,3.0,3.4,3.1,3.0,3.1,3.1,3.1,2.7,3.2,3.3,3.0,2.5,3.0,3.4,3.0],\"xaxis\":\"x\",\"y\":[6.3,5.8,7.1,6.3,6.5,7.6,4.9,7.3,6.7,7.2,6.5,6.4,6.8,5.7,5.8,6.4,6.5,7.7,7.7,6.0,6.9,5.6,7.7,6.3,6.7,7.2,6.2,6.1,6.4,7.2,7.4,7.9,6.4,6.3,6.1,7.7,6.3,6.4,6.0,6.9,6.7,6.9,5.8,6.8,6.7,6.7,6.3,6.5,6.2,5.9],\"yaxis\":\"y\",\"type\":\"scatter\"},{\"alignmentgroup\":\"True\",\"hovertemplate\":\"species=virginica<br>sepal_width=%{x}<extra></extra>\",\"legendgroup\":\"virginica\",\"marker\":{\"color\":\"#2CA02C\",\"symbol\":\"circle\"},\"name\":\"virginica\",\"notched\":true,\"offsetgroup\":\"virginica\",\"showlegend\":false,\"x\":[3.3,2.7,3.0,2.9,3.0,3.0,2.5,2.9,2.5,3.6,3.2,2.7,3.0,2.5,2.8,3.2,3.0,3.8,2.6,2.2,3.2,2.8,2.8,2.7,3.3,3.2,2.8,3.0,2.8,3.0,2.8,3.8,2.8,2.8,2.6,3.0,3.4,3.1,3.0,3.1,3.1,3.1,2.7,3.2,3.3,3.0,2.5,3.0,3.4,3.0],\"xaxis\":\"x3\",\"yaxis\":\"y3\",\"type\":\"box\"},{\"alignmentgroup\":\"True\",\"hovertemplate\":\"species=virginica<br>sepal_length=%{y}<extra></extra>\",\"legendgroup\":\"virginica\",\"marker\":{\"color\":\"#2CA02C\",\"symbol\":\"circle\"},\"name\":\"virginica\",\"offsetgroup\":\"virginica\",\"scalegroup\":\"y\",\"showlegend\":false,\"xaxis\":\"x2\",\"y\":[6.3,5.8,7.1,6.3,6.5,7.6,4.9,7.3,6.7,7.2,6.5,6.4,6.8,5.7,5.8,6.4,6.5,7.7,7.7,6.0,6.9,5.6,7.7,6.3,6.7,7.2,6.2,6.1,6.4,7.2,7.4,7.9,6.4,6.3,6.1,7.7,6.3,6.4,6.0,6.9,6.7,6.9,5.8,6.8,6.7,6.7,6.3,6.5,6.2,5.9],\"yaxis\":\"y2\",\"type\":\"violin\"},{\"hovertemplate\":\"<b>OLS trendline</b><br>sepal_length = 0.901534 * sepal_width + 3.90684<br>R<sup>2</sup>=0.209057<br><br>species=virginica<br>sepal_width=%{x}<br>sepal_length=%{y} <b>(trend)</b><extra></extra>\",\"legendgroup\":\"virginica\",\"marker\":{\"color\":\"#2CA02C\",\"symbol\":\"circle\"},\"mode\":\"lines\",\"name\":\"virginica\",\"showlegend\":false,\"x\":[2.2,2.5,2.5,2.5,2.5,2.6,2.6,2.7,2.7,2.7,2.7,2.8,2.8,2.8,2.8,2.8,2.8,2.8,2.8,2.9,2.9,3.0,3.0,3.0,3.0,3.0,3.0,3.0,3.0,3.0,3.0,3.0,3.0,3.1,3.1,3.1,3.1,3.2,3.2,3.2,3.2,3.2,3.3,3.3,3.3,3.4,3.4,3.6,3.8,3.8],\"xaxis\":\"x\",\"y\":[5.890212315058276,6.160672658058944,6.160672658058944,6.160672658058944,6.160672658058944,6.250826105725833,6.250826105725833,6.340979553392723,6.340979553392723,6.340979553392723,6.340979553392723,6.431133001059612,6.431133001059612,6.431133001059612,6.431133001059612,6.431133001059612,6.431133001059612,6.431133001059612,6.431133001059612,6.521286448726501,6.521286448726501,6.6114398963933905,6.6114398963933905,6.6114398963933905,6.6114398963933905,6.6114398963933905,6.6114398963933905,6.6114398963933905,6.6114398963933905,6.6114398963933905,6.6114398963933905,6.6114398963933905,6.6114398963933905,6.70159334406028,6.70159334406028,6.70159334406028,6.70159334406028,6.791746791727169,6.791746791727169,6.791746791727169,6.791746791727169,6.791746791727169,6.881900239394058,6.881900239394058,6.881900239394058,6.9720536870609475,6.9720536870609475,7.152360582394727,7.332667477728505,7.332667477728505],\"yaxis\":\"y\",\"type\":\"scatter\"}],                        {\"template\":{\"data\":{\"barpolar\":[{\"marker\":{\"line\":{\"color\":\"white\",\"width\":0.5},\"pattern\":{\"fillmode\":\"overlay\",\"size\":10,\"solidity\":0.2}},\"type\":\"barpolar\"}],\"bar\":[{\"error_x\":{\"color\":\"rgb(36,36,36)\"},\"error_y\":{\"color\":\"rgb(36,36,36)\"},\"marker\":{\"line\":{\"color\":\"white\",\"width\":0.5},\"pattern\":{\"fillmode\":\"overlay\",\"size\":10,\"solidity\":0.2}},\"type\":\"bar\"}],\"carpet\":[{\"aaxis\":{\"endlinecolor\":\"rgb(36,36,36)\",\"gridcolor\":\"white\",\"linecolor\":\"white\",\"minorgridcolor\":\"white\",\"startlinecolor\":\"rgb(36,36,36)\"},\"baxis\":{\"endlinecolor\":\"rgb(36,36,36)\",\"gridcolor\":\"white\",\"linecolor\":\"white\",\"minorgridcolor\":\"white\",\"startlinecolor\":\"rgb(36,36,36)\"},\"type\":\"carpet\"}],\"choropleth\":[{\"colorbar\":{\"outlinewidth\":1,\"tickcolor\":\"rgb(36,36,36)\",\"ticks\":\"outside\"},\"type\":\"choropleth\"}],\"contourcarpet\":[{\"colorbar\":{\"outlinewidth\":1,\"tickcolor\":\"rgb(36,36,36)\",\"ticks\":\"outside\"},\"type\":\"contourcarpet\"}],\"contour\":[{\"colorbar\":{\"outlinewidth\":1,\"tickcolor\":\"rgb(36,36,36)\",\"ticks\":\"outside\"},\"colorscale\":[[0.0,\"#440154\"],[0.1111111111111111,\"#482878\"],[0.2222222222222222,\"#3e4989\"],[0.3333333333333333,\"#31688e\"],[0.4444444444444444,\"#26828e\"],[0.5555555555555556,\"#1f9e89\"],[0.6666666666666666,\"#35b779\"],[0.7777777777777778,\"#6ece58\"],[0.8888888888888888,\"#b5de2b\"],[1.0,\"#fde725\"]],\"type\":\"contour\"}],\"heatmapgl\":[{\"colorbar\":{\"outlinewidth\":1,\"tickcolor\":\"rgb(36,36,36)\",\"ticks\":\"outside\"},\"colorscale\":[[0.0,\"#440154\"],[0.1111111111111111,\"#482878\"],[0.2222222222222222,\"#3e4989\"],[0.3333333333333333,\"#31688e\"],[0.4444444444444444,\"#26828e\"],[0.5555555555555556,\"#1f9e89\"],[0.6666666666666666,\"#35b779\"],[0.7777777777777778,\"#6ece58\"],[0.8888888888888888,\"#b5de2b\"],[1.0,\"#fde725\"]],\"type\":\"heatmapgl\"}],\"heatmap\":[{\"colorbar\":{\"outlinewidth\":1,\"tickcolor\":\"rgb(36,36,36)\",\"ticks\":\"outside\"},\"colorscale\":[[0.0,\"#440154\"],[0.1111111111111111,\"#482878\"],[0.2222222222222222,\"#3e4989\"],[0.3333333333333333,\"#31688e\"],[0.4444444444444444,\"#26828e\"],[0.5555555555555556,\"#1f9e89\"],[0.6666666666666666,\"#35b779\"],[0.7777777777777778,\"#6ece58\"],[0.8888888888888888,\"#b5de2b\"],[1.0,\"#fde725\"]],\"type\":\"heatmap\"}],\"histogram2dcontour\":[{\"colorbar\":{\"outlinewidth\":1,\"tickcolor\":\"rgb(36,36,36)\",\"ticks\":\"outside\"},\"colorscale\":[[0.0,\"#440154\"],[0.1111111111111111,\"#482878\"],[0.2222222222222222,\"#3e4989\"],[0.3333333333333333,\"#31688e\"],[0.4444444444444444,\"#26828e\"],[0.5555555555555556,\"#1f9e89\"],[0.6666666666666666,\"#35b779\"],[0.7777777777777778,\"#6ece58\"],[0.8888888888888888,\"#b5de2b\"],[1.0,\"#fde725\"]],\"type\":\"histogram2dcontour\"}],\"histogram2d\":[{\"colorbar\":{\"outlinewidth\":1,\"tickcolor\":\"rgb(36,36,36)\",\"ticks\":\"outside\"},\"colorscale\":[[0.0,\"#440154\"],[0.1111111111111111,\"#482878\"],[0.2222222222222222,\"#3e4989\"],[0.3333333333333333,\"#31688e\"],[0.4444444444444444,\"#26828e\"],[0.5555555555555556,\"#1f9e89\"],[0.6666666666666666,\"#35b779\"],[0.7777777777777778,\"#6ece58\"],[0.8888888888888888,\"#b5de2b\"],[1.0,\"#fde725\"]],\"type\":\"histogram2d\"}],\"histogram\":[{\"marker\":{\"line\":{\"color\":\"white\",\"width\":0.6}},\"type\":\"histogram\"}],\"mesh3d\":[{\"colorbar\":{\"outlinewidth\":1,\"tickcolor\":\"rgb(36,36,36)\",\"ticks\":\"outside\"},\"type\":\"mesh3d\"}],\"parcoords\":[{\"line\":{\"colorbar\":{\"outlinewidth\":1,\"tickcolor\":\"rgb(36,36,36)\",\"ticks\":\"outside\"}},\"type\":\"parcoords\"}],\"pie\":[{\"automargin\":true,\"type\":\"pie\"}],\"scatter3d\":[{\"line\":{\"colorbar\":{\"outlinewidth\":1,\"tickcolor\":\"rgb(36,36,36)\",\"ticks\":\"outside\"}},\"marker\":{\"colorbar\":{\"outlinewidth\":1,\"tickcolor\":\"rgb(36,36,36)\",\"ticks\":\"outside\"}},\"type\":\"scatter3d\"}],\"scattercarpet\":[{\"marker\":{\"colorbar\":{\"outlinewidth\":1,\"tickcolor\":\"rgb(36,36,36)\",\"ticks\":\"outside\"}},\"type\":\"scattercarpet\"}],\"scattergeo\":[{\"marker\":{\"colorbar\":{\"outlinewidth\":1,\"tickcolor\":\"rgb(36,36,36)\",\"ticks\":\"outside\"}},\"type\":\"scattergeo\"}],\"scattergl\":[{\"marker\":{\"colorbar\":{\"outlinewidth\":1,\"tickcolor\":\"rgb(36,36,36)\",\"ticks\":\"outside\"}},\"type\":\"scattergl\"}],\"scattermapbox\":[{\"marker\":{\"colorbar\":{\"outlinewidth\":1,\"tickcolor\":\"rgb(36,36,36)\",\"ticks\":\"outside\"}},\"type\":\"scattermapbox\"}],\"scatterpolargl\":[{\"marker\":{\"colorbar\":{\"outlinewidth\":1,\"tickcolor\":\"rgb(36,36,36)\",\"ticks\":\"outside\"}},\"type\":\"scatterpolargl\"}],\"scatterpolar\":[{\"marker\":{\"colorbar\":{\"outlinewidth\":1,\"tickcolor\":\"rgb(36,36,36)\",\"ticks\":\"outside\"}},\"type\":\"scatterpolar\"}],\"scatter\":[{\"marker\":{\"colorbar\":{\"outlinewidth\":1,\"tickcolor\":\"rgb(36,36,36)\",\"ticks\":\"outside\"}},\"type\":\"scatter\"}],\"scatterternary\":[{\"marker\":{\"colorbar\":{\"outlinewidth\":1,\"tickcolor\":\"rgb(36,36,36)\",\"ticks\":\"outside\"}},\"type\":\"scatterternary\"}],\"surface\":[{\"colorbar\":{\"outlinewidth\":1,\"tickcolor\":\"rgb(36,36,36)\",\"ticks\":\"outside\"},\"colorscale\":[[0.0,\"#440154\"],[0.1111111111111111,\"#482878\"],[0.2222222222222222,\"#3e4989\"],[0.3333333333333333,\"#31688e\"],[0.4444444444444444,\"#26828e\"],[0.5555555555555556,\"#1f9e89\"],[0.6666666666666666,\"#35b779\"],[0.7777777777777778,\"#6ece58\"],[0.8888888888888888,\"#b5de2b\"],[1.0,\"#fde725\"]],\"type\":\"surface\"}],\"table\":[{\"cells\":{\"fill\":{\"color\":\"rgb(237,237,237)\"},\"line\":{\"color\":\"white\"}},\"header\":{\"fill\":{\"color\":\"rgb(217,217,217)\"},\"line\":{\"color\":\"white\"}},\"type\":\"table\"}]},\"layout\":{\"annotationdefaults\":{\"arrowhead\":0,\"arrowwidth\":1},\"autotypenumbers\":\"strict\",\"coloraxis\":{\"colorbar\":{\"outlinewidth\":1,\"tickcolor\":\"rgb(36,36,36)\",\"ticks\":\"outside\"}},\"colorscale\":{\"diverging\":[[0.0,\"rgb(103,0,31)\"],[0.1,\"rgb(178,24,43)\"],[0.2,\"rgb(214,96,77)\"],[0.3,\"rgb(244,165,130)\"],[0.4,\"rgb(253,219,199)\"],[0.5,\"rgb(247,247,247)\"],[0.6,\"rgb(209,229,240)\"],[0.7,\"rgb(146,197,222)\"],[0.8,\"rgb(67,147,195)\"],[0.9,\"rgb(33,102,172)\"],[1.0,\"rgb(5,48,97)\"]],\"sequential\":[[0.0,\"#440154\"],[0.1111111111111111,\"#482878\"],[0.2222222222222222,\"#3e4989\"],[0.3333333333333333,\"#31688e\"],[0.4444444444444444,\"#26828e\"],[0.5555555555555556,\"#1f9e89\"],[0.6666666666666666,\"#35b779\"],[0.7777777777777778,\"#6ece58\"],[0.8888888888888888,\"#b5de2b\"],[1.0,\"#fde725\"]],\"sequentialminus\":[[0.0,\"#440154\"],[0.1111111111111111,\"#482878\"],[0.2222222222222222,\"#3e4989\"],[0.3333333333333333,\"#31688e\"],[0.4444444444444444,\"#26828e\"],[0.5555555555555556,\"#1f9e89\"],[0.6666666666666666,\"#35b779\"],[0.7777777777777778,\"#6ece58\"],[0.8888888888888888,\"#b5de2b\"],[1.0,\"#fde725\"]]},\"colorway\":[\"#1F77B4\",\"#FF7F0E\",\"#2CA02C\",\"#D62728\",\"#9467BD\",\"#8C564B\",\"#E377C2\",\"#7F7F7F\",\"#BCBD22\",\"#17BECF\"],\"font\":{\"color\":\"rgb(36,36,36)\"},\"geo\":{\"bgcolor\":\"white\",\"lakecolor\":\"white\",\"landcolor\":\"white\",\"showlakes\":true,\"showland\":true,\"subunitcolor\":\"white\"},\"hoverlabel\":{\"align\":\"left\"},\"hovermode\":\"closest\",\"mapbox\":{\"style\":\"light\"},\"paper_bgcolor\":\"white\",\"plot_bgcolor\":\"white\",\"polar\":{\"angularaxis\":{\"gridcolor\":\"rgb(232,232,232)\",\"linecolor\":\"rgb(36,36,36)\",\"showgrid\":false,\"showline\":true,\"ticks\":\"outside\"},\"bgcolor\":\"white\",\"radialaxis\":{\"gridcolor\":\"rgb(232,232,232)\",\"linecolor\":\"rgb(36,36,36)\",\"showgrid\":false,\"showline\":true,\"ticks\":\"outside\"}},\"scene\":{\"xaxis\":{\"backgroundcolor\":\"white\",\"gridcolor\":\"rgb(232,232,232)\",\"gridwidth\":2,\"linecolor\":\"rgb(36,36,36)\",\"showbackground\":true,\"showgrid\":false,\"showline\":true,\"ticks\":\"outside\",\"zeroline\":false,\"zerolinecolor\":\"rgb(36,36,36)\"},\"yaxis\":{\"backgroundcolor\":\"white\",\"gridcolor\":\"rgb(232,232,232)\",\"gridwidth\":2,\"linecolor\":\"rgb(36,36,36)\",\"showbackground\":true,\"showgrid\":false,\"showline\":true,\"ticks\":\"outside\",\"zeroline\":false,\"zerolinecolor\":\"rgb(36,36,36)\"},\"zaxis\":{\"backgroundcolor\":\"white\",\"gridcolor\":\"rgb(232,232,232)\",\"gridwidth\":2,\"linecolor\":\"rgb(36,36,36)\",\"showbackground\":true,\"showgrid\":false,\"showline\":true,\"ticks\":\"outside\",\"zeroline\":false,\"zerolinecolor\":\"rgb(36,36,36)\"}},\"shapedefaults\":{\"fillcolor\":\"black\",\"line\":{\"width\":0},\"opacity\":0.3},\"ternary\":{\"aaxis\":{\"gridcolor\":\"rgb(232,232,232)\",\"linecolor\":\"rgb(36,36,36)\",\"showgrid\":false,\"showline\":true,\"ticks\":\"outside\"},\"baxis\":{\"gridcolor\":\"rgb(232,232,232)\",\"linecolor\":\"rgb(36,36,36)\",\"showgrid\":false,\"showline\":true,\"ticks\":\"outside\"},\"bgcolor\":\"white\",\"caxis\":{\"gridcolor\":\"rgb(232,232,232)\",\"linecolor\":\"rgb(36,36,36)\",\"showgrid\":false,\"showline\":true,\"ticks\":\"outside\"}},\"title\":{\"x\":0.05},\"xaxis\":{\"automargin\":true,\"gridcolor\":\"rgb(232,232,232)\",\"linecolor\":\"rgb(36,36,36)\",\"showgrid\":false,\"showline\":true,\"ticks\":\"outside\",\"title\":{\"standoff\":15},\"zeroline\":false,\"zerolinecolor\":\"rgb(36,36,36)\"},\"yaxis\":{\"automargin\":true,\"gridcolor\":\"rgb(232,232,232)\",\"linecolor\":\"rgb(36,36,36)\",\"showgrid\":false,\"showline\":true,\"ticks\":\"outside\",\"title\":{\"standoff\":15},\"zeroline\":false,\"zerolinecolor\":\"rgb(36,36,36)\"}}},\"xaxis\":{\"anchor\":\"y\",\"domain\":[0.0,0.7363],\"title\":{\"text\":\"sepal_width\"}},\"yaxis\":{\"anchor\":\"x\",\"domain\":[0.0,0.7326],\"title\":{\"text\":\"sepal_length\"}},\"xaxis2\":{\"anchor\":\"y2\",\"domain\":[0.7413,1.0],\"matches\":\"x2\",\"showticklabels\":false,\"showline\":false,\"ticks\":\"\"},\"yaxis2\":{\"anchor\":\"x2\",\"domain\":[0.0,0.7326],\"matches\":\"y\",\"showticklabels\":false},\"xaxis3\":{\"anchor\":\"y3\",\"domain\":[0.0,0.7363],\"matches\":\"x\",\"showticklabels\":false},\"yaxis3\":{\"anchor\":\"x3\",\"domain\":[0.7426,1.0],\"matches\":\"y3\",\"showticklabels\":false,\"showline\":false,\"ticks\":\"\"},\"xaxis4\":{\"anchor\":\"y4\",\"domain\":[0.7413,1.0],\"matches\":\"x2\",\"showticklabels\":false,\"showline\":false,\"ticks\":\"\"},\"yaxis4\":{\"anchor\":\"x4\",\"domain\":[0.7426,1.0],\"matches\":\"y3\",\"showticklabels\":false,\"showline\":false,\"ticks\":\"\"},\"legend\":{\"title\":{\"text\":\"species\"},\"tracegroupgap\":0},\"margin\":{\"t\":60}},                        {\"responsive\": true}                    ).then(function(){\n",
       "                            \n",
       "var gd = document.getElementById('e3c0cf7e-d7b0-4dea-a602-c47d8c37f7b0');\n",
       "var x = new MutationObserver(function (mutations, observer) {{\n",
       "        var display = window.getComputedStyle(gd).display;\n",
       "        if (!display || display === 'none') {{\n",
       "            console.log([gd, 'removed!']);\n",
       "            Plotly.purge(gd);\n",
       "            observer.disconnect();\n",
       "        }}\n",
       "}});\n",
       "\n",
       "// Listen for the removal of the full notebook cells\n",
       "var notebookContainer = gd.closest('#notebook-container');\n",
       "if (notebookContainer) {{\n",
       "    x.observe(notebookContainer, {childList: true});\n",
       "}}\n",
       "\n",
       "// Listen for the clearing of the current output cell\n",
       "var outputEl = gd.closest('.output');\n",
       "if (outputEl) {{\n",
       "    x.observe(outputEl, {childList: true});\n",
       "}}\n",
       "\n",
       "                        })                };                });            </script>        </div>"
      ]
     },
     "metadata": {},
     "output_type": "display_data"
    }
   ],
   "source": [
    "import plotly.express as px\n",
    "f = px.data.iris()\n",
    "fig = px.scatter(f, x='sepal_width', y='sepal_length', color='species', marginal_y='violin',\n",
    "                marginal_x='box', trendline='ols', template='simple_white')\n",
    "fig.show()"
   ]
  },
  {
   "cell_type": "code",
   "execution_count": 8,
   "id": "a2be3185",
   "metadata": {},
   "outputs": [
    {
     "data": {
      "application/vnd.plotly.v1+json": {
       "config": {
        "plotlyServerURL": "https://plot.ly"
       },
       "data": [
        {
         "hovertemplate": "Gender=Male<br>Age=%{x}<br>Location=%{y}<extra></extra>",
         "legendgroup": "Male",
         "marker": {
          "color": "#1F77B4",
          "symbol": "circle"
         },
         "mode": "markers",
         "name": "Male",
         "orientation": "v",
         "showlegend": true,
         "type": "scatter",
         "x": [
          "16-30",
          "16-30",
          "16-30",
          "30-40",
          "16-30",
          "16-30",
          "30-40",
          "16-30",
          "16-30",
          "30-40",
          "16-30",
          "16-30",
          "16-30",
          "16-30",
          "16-30",
          "16-30",
          "30-40",
          "16-30",
          "30-40",
          "16-30",
          "16-30",
          "16-30",
          ">50",
          "30-40",
          "16-30",
          "30-40",
          "16-30",
          "16-30",
          "16-30",
          "30-40",
          "16-30",
          "16-30",
          "16-30",
          "16-30",
          "30-40",
          "16-30",
          "16-30",
          "16-30",
          "30-40",
          "30-40",
          "30-40",
          "16-30",
          "30-40",
          "16-30",
          "16-30",
          "16-30",
          "16-30",
          "16-30",
          "16-30",
          "30-40",
          "16-30",
          "30-40",
          "16-30",
          "16-30",
          "40-50",
          "16-30",
          "16-30",
          "16-30",
          "16-30",
          "16-30",
          "16-30",
          "30-40",
          "16-30",
          "16-30",
          "30-40",
          "16-30",
          "16-30",
          "30-40",
          "16-30",
          "16-30",
          "16-30",
          "16-30",
          "30-40",
          "16-30",
          "30-40",
          "16-30",
          "16-30",
          "40-50",
          "16-30",
          "16-30",
          "16-30",
          "16-30",
          "16-30",
          "16-30",
          "30-40",
          "30-40",
          "16-30",
          "16-30",
          "30-40",
          "16-30",
          "16-30",
          "16-30",
          "30-40",
          "16-30",
          "30-40",
          "40-50",
          "16-30",
          "16-30",
          "30-40",
          "16-30",
          "16-30",
          "16-30",
          "16-30",
          "16-30",
          "16-30",
          "16-30",
          "16-30",
          "16-30",
          "16-30",
          "40-50",
          "16-30",
          "40-50",
          "30-40",
          "30-40",
          ">50",
          "16-30",
          "16-30",
          "16-30",
          "30-40",
          "16-30",
          "30-40",
          "16-30",
          "16-30",
          "16-30",
          "16-30",
          "16-30",
          "16-30",
          "16-30",
          "16-30",
          "30-40",
          "16-30",
          "16-30",
          ">50",
          "30-40",
          "30-40",
          "16-30",
          "30-40",
          "16-30",
          "15-Jan",
          "30-40",
          "16-30",
          "16-30",
          "16-30",
          "16-30",
          "30-40",
          "16-30",
          "16-30",
          "16-30",
          "16-30",
          "16-30",
          "30-40",
          "40-50",
          "30-40",
          "30-40",
          "16-30",
          "16-30",
          "16-30",
          "16-30",
          "16-30",
          "16-30",
          "16-30",
          "30-40",
          "16-30",
          "16-30",
          "16-30",
          "16-30",
          "16-30",
          "30-40",
          "30-40",
          "16-30",
          "16-30",
          "16-30",
          "16-30",
          "16-30",
          "16-30",
          "16-30",
          "30-40",
          "30-40",
          "16-30",
          "30-40",
          "16-30",
          "16-30",
          "16-30",
          "16-30",
          "30-40",
          "30-40",
          "40-50",
          "16-30",
          "16-30",
          "30-40",
          "30-40",
          "30-40",
          "16-30",
          "16-30",
          "16-30",
          "30-40",
          "16-30",
          "16-30",
          "16-30",
          "16-30",
          "16-30",
          "16-30",
          "16-30",
          "16-30",
          "16-30",
          "30-40",
          "16-30",
          "16-30",
          "16-30",
          "16-30",
          "30-40",
          "16-30",
          "16-30",
          "30-40",
          "16-30",
          "16-30",
          "16-30",
          "16-30",
          "16-30",
          "16-30",
          "16-30",
          "16-30",
          "16-30",
          "16-30",
          "30-40",
          "16-30",
          "16-30",
          "16-30",
          "16-30",
          "16-30",
          "16-30",
          "16-30",
          "16-30",
          "16-30",
          "16-30",
          "16-30",
          "16-30",
          "16-30",
          "16-30",
          "16-30",
          "16-30",
          "16-30",
          "16-30"
         ],
         "xaxis": "x",
         "y": [
          "Pakistan",
          "Pakistan",
          "Pakistan",
          "Pakistan",
          "East",
          "Pakistan",
          "Pakistan",
          "West",
          "Pakistan",
          "Pakistan",
          "Pakistan",
          "Pakistan",
          "Pakistan",
          "East",
          "West",
          "Pakistan",
          "Pakistan",
          "Pakistan",
          "Pakistan",
          "Pakistan",
          "Pakistan",
          "Pakistan",
          "Pakistan",
          "Pakistan",
          "Pakistan",
          "East",
          "Pakistan",
          "Pakistan",
          "Pakistan",
          "West",
          "Pakistan",
          "Pakistan",
          "Pakistan",
          "West",
          "Pakistan",
          "East",
          "Pakistan",
          "Pakistan",
          "Pakistan",
          "West",
          "Pakistan",
          "Pakistan",
          "Pakistan",
          "Pakistan",
          "Pakistan",
          "Pakistan",
          "Pakistan",
          "Pakistan",
          "Pakistan",
          "Pakistan",
          "West",
          "Pakistan",
          "East",
          "Pakistan",
          "West",
          "Pakistan",
          "Pakistan",
          "Pakistan",
          "Pakistan",
          "Pakistan",
          "West",
          "East",
          "West",
          "Pakistan",
          "Pakistan",
          "Pakistan",
          "Pakistan",
          "Pakistan",
          "Pakistan",
          "Pakistan",
          "Pakistan",
          "Pakistan",
          "Pakistan",
          "Pakistan",
          "Pakistan",
          "Pakistan",
          "Pakistan",
          "Pakistan",
          "Pakistan",
          "Pakistan",
          "Pakistan",
          "Pakistan",
          "East",
          "Pakistan",
          "Pakistan",
          "Pakistan",
          "Pakistan",
          "Pakistan",
          "Pakistan",
          "Pakistan",
          "Pakistan",
          "Pakistan",
          "Pakistan",
          "Pakistan",
          "West",
          "Pakistan",
          "Pakistan",
          "Pakistan",
          "East",
          "Pakistan",
          "Pakistan",
          "West",
          "Pakistan",
          "Pakistan",
          "Pakistan",
          "Pakistan",
          "Pakistan",
          "Pakistan",
          "Pakistan",
          "Pakistan",
          "West",
          "Pakistan",
          "West",
          "Pakistan",
          "West",
          "Pakistan",
          "Pakistan",
          "Pakistan",
          "Pakistan",
          "Pakistan",
          "Pakistan",
          "Pakistan",
          "Pakistan",
          "Pakistan",
          "Pakistan",
          "Pakistan",
          "Pakistan",
          "Pakistan",
          "Pakistan",
          "Pakistan",
          "Pakistan",
          "Pakistan",
          "Pakistan",
          "Pakistan",
          "Pakistan",
          "Pakistan",
          "Pakistan",
          "Pakistan",
          "West",
          "West",
          "Pakistan",
          "Pakistan",
          "Pakistan",
          "Pakistan",
          "Pakistan",
          "Pakistan",
          "Pakistan",
          "Pakistan",
          "Pakistan",
          "Pakistan",
          "Pakistan",
          "Pakistan",
          "Pakistan",
          "Pakistan",
          "Pakistan",
          "Pakistan",
          "Pakistan",
          "Pakistan",
          "Pakistan",
          "Pakistan",
          "Pakistan",
          "Pakistan",
          "Pakistan",
          "Pakistan",
          "Pakistan",
          "Pakistan",
          "Pakistan",
          "Pakistan",
          "West",
          "Pakistan",
          "Pakistan",
          "Pakistan",
          "East",
          "Pakistan",
          "Pakistan",
          "Pakistan",
          "Pakistan",
          "Pakistan",
          "Pakistan",
          "Pakistan",
          "Pakistan",
          "Pakistan",
          "Pakistan",
          "Pakistan",
          "Pakistan",
          "Pakistan",
          "Pakistan",
          "Pakistan",
          "Pakistan",
          "East",
          "Pakistan",
          "Pakistan",
          "Pakistan",
          "Pakistan",
          "West",
          "Pakistan",
          "West",
          "Pakistan",
          "Pakistan",
          "Pakistan",
          "Pakistan",
          "Pakistan",
          "Pakistan",
          "Pakistan",
          "Pakistan",
          "West",
          "Pakistan",
          "East",
          "East",
          "Pakistan",
          "West",
          "West",
          "Pakistan",
          "Pakistan",
          "Pakistan",
          "Pakistan",
          "Pakistan",
          "Pakistan",
          "Pakistan",
          "Pakistan",
          "Pakistan",
          "West",
          "Pakistan",
          "Pakistan",
          "Pakistan",
          "Pakistan",
          "Pakistan",
          "Pakistan",
          "Pakistan",
          "Pakistan",
          "Pakistan",
          "Pakistan",
          "Pakistan",
          "Pakistan",
          "Pakistan",
          "West",
          "Pakistan",
          "Pakistan",
          "Pakistan",
          "Pakistan",
          "Pakistan",
          "Pakistan",
          "Pakistan"
         ],
         "yaxis": "y"
        },
        {
         "alignmentgroup": "True",
         "hovertemplate": "Gender=Male<br>Age=%{x}<extra></extra>",
         "legendgroup": "Male",
         "marker": {
          "color": "#1F77B4",
          "symbol": "circle"
         },
         "name": "Male",
         "notched": true,
         "offsetgroup": "Male",
         "showlegend": false,
         "type": "box",
         "x": [
          "16-30",
          "16-30",
          "16-30",
          "30-40",
          "16-30",
          "16-30",
          "30-40",
          "16-30",
          "16-30",
          "30-40",
          "16-30",
          "16-30",
          "16-30",
          "16-30",
          "16-30",
          "16-30",
          "30-40",
          "16-30",
          "30-40",
          "16-30",
          "16-30",
          "16-30",
          ">50",
          "30-40",
          "16-30",
          "30-40",
          "16-30",
          "16-30",
          "16-30",
          "30-40",
          "16-30",
          "16-30",
          "16-30",
          "16-30",
          "30-40",
          "16-30",
          "16-30",
          "16-30",
          "30-40",
          "30-40",
          "30-40",
          "16-30",
          "30-40",
          "16-30",
          "16-30",
          "16-30",
          "16-30",
          "16-30",
          "16-30",
          "30-40",
          "16-30",
          "30-40",
          "16-30",
          "16-30",
          "40-50",
          "16-30",
          "16-30",
          "16-30",
          "16-30",
          "16-30",
          "16-30",
          "30-40",
          "16-30",
          "16-30",
          "30-40",
          "16-30",
          "16-30",
          "30-40",
          "16-30",
          "16-30",
          "16-30",
          "16-30",
          "30-40",
          "16-30",
          "30-40",
          "16-30",
          "16-30",
          "40-50",
          "16-30",
          "16-30",
          "16-30",
          "16-30",
          "16-30",
          "16-30",
          "30-40",
          "30-40",
          "16-30",
          "16-30",
          "30-40",
          "16-30",
          "16-30",
          "16-30",
          "30-40",
          "16-30",
          "30-40",
          "40-50",
          "16-30",
          "16-30",
          "30-40",
          "16-30",
          "16-30",
          "16-30",
          "16-30",
          "16-30",
          "16-30",
          "16-30",
          "16-30",
          "16-30",
          "16-30",
          "40-50",
          "16-30",
          "40-50",
          "30-40",
          "30-40",
          ">50",
          "16-30",
          "16-30",
          "16-30",
          "30-40",
          "16-30",
          "30-40",
          "16-30",
          "16-30",
          "16-30",
          "16-30",
          "16-30",
          "16-30",
          "16-30",
          "16-30",
          "30-40",
          "16-30",
          "16-30",
          ">50",
          "30-40",
          "30-40",
          "16-30",
          "30-40",
          "16-30",
          "15-Jan",
          "30-40",
          "16-30",
          "16-30",
          "16-30",
          "16-30",
          "30-40",
          "16-30",
          "16-30",
          "16-30",
          "16-30",
          "16-30",
          "30-40",
          "40-50",
          "30-40",
          "30-40",
          "16-30",
          "16-30",
          "16-30",
          "16-30",
          "16-30",
          "16-30",
          "16-30",
          "30-40",
          "16-30",
          "16-30",
          "16-30",
          "16-30",
          "16-30",
          "30-40",
          "30-40",
          "16-30",
          "16-30",
          "16-30",
          "16-30",
          "16-30",
          "16-30",
          "16-30",
          "30-40",
          "30-40",
          "16-30",
          "30-40",
          "16-30",
          "16-30",
          "16-30",
          "16-30",
          "30-40",
          "30-40",
          "40-50",
          "16-30",
          "16-30",
          "30-40",
          "30-40",
          "30-40",
          "16-30",
          "16-30",
          "16-30",
          "30-40",
          "16-30",
          "16-30",
          "16-30",
          "16-30",
          "16-30",
          "16-30",
          "16-30",
          "16-30",
          "16-30",
          "30-40",
          "16-30",
          "16-30",
          "16-30",
          "16-30",
          "30-40",
          "16-30",
          "16-30",
          "30-40",
          "16-30",
          "16-30",
          "16-30",
          "16-30",
          "16-30",
          "16-30",
          "16-30",
          "16-30",
          "16-30",
          "16-30",
          "30-40",
          "16-30",
          "16-30",
          "16-30",
          "16-30",
          "16-30",
          "16-30",
          "16-30",
          "16-30",
          "16-30",
          "16-30",
          "16-30",
          "16-30",
          "16-30",
          "16-30",
          "16-30",
          "16-30",
          "16-30",
          "16-30"
         ],
         "xaxis": "x3",
         "yaxis": "y3"
        },
        {
         "alignmentgroup": "True",
         "hovertemplate": "Gender=Male<br>Location=%{y}<extra></extra>",
         "legendgroup": "Male",
         "marker": {
          "color": "#1F77B4",
          "symbol": "circle"
         },
         "name": "Male",
         "offsetgroup": "Male",
         "scalegroup": "y",
         "showlegend": false,
         "type": "violin",
         "xaxis": "x2",
         "y": [
          "Pakistan",
          "Pakistan",
          "Pakistan",
          "Pakistan",
          "East",
          "Pakistan",
          "Pakistan",
          "West",
          "Pakistan",
          "Pakistan",
          "Pakistan",
          "Pakistan",
          "Pakistan",
          "East",
          "West",
          "Pakistan",
          "Pakistan",
          "Pakistan",
          "Pakistan",
          "Pakistan",
          "Pakistan",
          "Pakistan",
          "Pakistan",
          "Pakistan",
          "Pakistan",
          "East",
          "Pakistan",
          "Pakistan",
          "Pakistan",
          "West",
          "Pakistan",
          "Pakistan",
          "Pakistan",
          "West",
          "Pakistan",
          "East",
          "Pakistan",
          "Pakistan",
          "Pakistan",
          "West",
          "Pakistan",
          "Pakistan",
          "Pakistan",
          "Pakistan",
          "Pakistan",
          "Pakistan",
          "Pakistan",
          "Pakistan",
          "Pakistan",
          "Pakistan",
          "West",
          "Pakistan",
          "East",
          "Pakistan",
          "West",
          "Pakistan",
          "Pakistan",
          "Pakistan",
          "Pakistan",
          "Pakistan",
          "West",
          "East",
          "West",
          "Pakistan",
          "Pakistan",
          "Pakistan",
          "Pakistan",
          "Pakistan",
          "Pakistan",
          "Pakistan",
          "Pakistan",
          "Pakistan",
          "Pakistan",
          "Pakistan",
          "Pakistan",
          "Pakistan",
          "Pakistan",
          "Pakistan",
          "Pakistan",
          "Pakistan",
          "Pakistan",
          "Pakistan",
          "East",
          "Pakistan",
          "Pakistan",
          "Pakistan",
          "Pakistan",
          "Pakistan",
          "Pakistan",
          "Pakistan",
          "Pakistan",
          "Pakistan",
          "Pakistan",
          "Pakistan",
          "West",
          "Pakistan",
          "Pakistan",
          "Pakistan",
          "East",
          "Pakistan",
          "Pakistan",
          "West",
          "Pakistan",
          "Pakistan",
          "Pakistan",
          "Pakistan",
          "Pakistan",
          "Pakistan",
          "Pakistan",
          "Pakistan",
          "West",
          "Pakistan",
          "West",
          "Pakistan",
          "West",
          "Pakistan",
          "Pakistan",
          "Pakistan",
          "Pakistan",
          "Pakistan",
          "Pakistan",
          "Pakistan",
          "Pakistan",
          "Pakistan",
          "Pakistan",
          "Pakistan",
          "Pakistan",
          "Pakistan",
          "Pakistan",
          "Pakistan",
          "Pakistan",
          "Pakistan",
          "Pakistan",
          "Pakistan",
          "Pakistan",
          "Pakistan",
          "Pakistan",
          "Pakistan",
          "West",
          "West",
          "Pakistan",
          "Pakistan",
          "Pakistan",
          "Pakistan",
          "Pakistan",
          "Pakistan",
          "Pakistan",
          "Pakistan",
          "Pakistan",
          "Pakistan",
          "Pakistan",
          "Pakistan",
          "Pakistan",
          "Pakistan",
          "Pakistan",
          "Pakistan",
          "Pakistan",
          "Pakistan",
          "Pakistan",
          "Pakistan",
          "Pakistan",
          "Pakistan",
          "Pakistan",
          "Pakistan",
          "Pakistan",
          "Pakistan",
          "Pakistan",
          "Pakistan",
          "West",
          "Pakistan",
          "Pakistan",
          "Pakistan",
          "East",
          "Pakistan",
          "Pakistan",
          "Pakistan",
          "Pakistan",
          "Pakistan",
          "Pakistan",
          "Pakistan",
          "Pakistan",
          "Pakistan",
          "Pakistan",
          "Pakistan",
          "Pakistan",
          "Pakistan",
          "Pakistan",
          "Pakistan",
          "Pakistan",
          "East",
          "Pakistan",
          "Pakistan",
          "Pakistan",
          "Pakistan",
          "West",
          "Pakistan",
          "West",
          "Pakistan",
          "Pakistan",
          "Pakistan",
          "Pakistan",
          "Pakistan",
          "Pakistan",
          "Pakistan",
          "Pakistan",
          "West",
          "Pakistan",
          "East",
          "East",
          "Pakistan",
          "West",
          "West",
          "Pakistan",
          "Pakistan",
          "Pakistan",
          "Pakistan",
          "Pakistan",
          "Pakistan",
          "Pakistan",
          "Pakistan",
          "Pakistan",
          "West",
          "Pakistan",
          "Pakistan",
          "Pakistan",
          "Pakistan",
          "Pakistan",
          "Pakistan",
          "Pakistan",
          "Pakistan",
          "Pakistan",
          "Pakistan",
          "Pakistan",
          "Pakistan",
          "Pakistan",
          "West",
          "Pakistan",
          "Pakistan",
          "Pakistan",
          "Pakistan",
          "Pakistan",
          "Pakistan",
          "Pakistan"
         ],
         "yaxis": "y2"
        },
        {
         "hovertemplate": "Gender=Female<br>Age=%{x}<br>Location=%{y}<extra></extra>",
         "legendgroup": "Female",
         "marker": {
          "color": "#FF7F0E",
          "symbol": "circle"
         },
         "mode": "markers",
         "name": "Female",
         "orientation": "v",
         "showlegend": true,
         "type": "scatter",
         "x": [
          "30-40",
          "16-30",
          "16-30",
          "16-30",
          "16-30",
          "16-30",
          "16-30",
          "16-30",
          "16-30",
          "16-30",
          "16-30",
          "30-40",
          "16-30",
          "30-40",
          "16-30",
          "16-30",
          "16-30",
          "16-30",
          "16-30",
          "16-30",
          "30-40",
          "16-30",
          "16-30",
          "30-40",
          "30-40",
          "30-40",
          "16-30",
          "16-30",
          "16-30",
          "16-30",
          "16-30",
          "30-40",
          "15-Jan",
          "16-30",
          "30-40",
          "16-30",
          "16-30",
          "16-30",
          "16-30",
          "16-30",
          "16-30",
          "16-30",
          "16-30",
          "16-30",
          "16-30",
          "16-30",
          "30-40",
          "16-30",
          "16-30",
          "16-30",
          "16-30",
          "16-30",
          "16-30",
          "16-30",
          "16-30",
          "16-30",
          "30-40",
          "16-30",
          "16-30",
          "16-30",
          "16-30",
          "16-30",
          "16-30"
         ],
         "xaxis": "x",
         "y": [
          "Pakistan",
          "Pakistan",
          "East",
          "Pakistan",
          "Pakistan",
          "West",
          "Pakistan",
          "Pakistan",
          "West",
          "Pakistan",
          "East",
          "Pakistan",
          "Pakistan",
          "Pakistan",
          "Pakistan",
          "Pakistan",
          "Pakistan",
          "Pakistan",
          "West",
          "Pakistan",
          "Pakistan",
          "Pakistan",
          "Pakistan",
          "West",
          "Pakistan",
          "Pakistan",
          "Pakistan",
          "Pakistan",
          "Pakistan",
          "Pakistan",
          "Pakistan",
          "Pakistan",
          "West",
          "Pakistan",
          "Pakistan",
          "Pakistan",
          "Pakistan",
          "Pakistan",
          "Pakistan",
          "Pakistan",
          "Pakistan",
          "West",
          "Pakistan",
          "Pakistan",
          "Pakistan",
          "West",
          "Pakistan",
          "Pakistan",
          "West",
          "East",
          "Pakistan",
          "Pakistan",
          "Pakistan",
          "Pakistan",
          "West",
          "Pakistan",
          "Pakistan",
          "Pakistan",
          "Pakistan",
          "Pakistan",
          "Pakistan",
          "Pakistan",
          "Pakistan"
         ],
         "yaxis": "y"
        },
        {
         "alignmentgroup": "True",
         "hovertemplate": "Gender=Female<br>Age=%{x}<extra></extra>",
         "legendgroup": "Female",
         "marker": {
          "color": "#FF7F0E",
          "symbol": "circle"
         },
         "name": "Female",
         "notched": true,
         "offsetgroup": "Female",
         "showlegend": false,
         "type": "box",
         "x": [
          "30-40",
          "16-30",
          "16-30",
          "16-30",
          "16-30",
          "16-30",
          "16-30",
          "16-30",
          "16-30",
          "16-30",
          "16-30",
          "30-40",
          "16-30",
          "30-40",
          "16-30",
          "16-30",
          "16-30",
          "16-30",
          "16-30",
          "16-30",
          "30-40",
          "16-30",
          "16-30",
          "30-40",
          "30-40",
          "30-40",
          "16-30",
          "16-30",
          "16-30",
          "16-30",
          "16-30",
          "30-40",
          "15-Jan",
          "16-30",
          "30-40",
          "16-30",
          "16-30",
          "16-30",
          "16-30",
          "16-30",
          "16-30",
          "16-30",
          "16-30",
          "16-30",
          "16-30",
          "16-30",
          "30-40",
          "16-30",
          "16-30",
          "16-30",
          "16-30",
          "16-30",
          "16-30",
          "16-30",
          "16-30",
          "16-30",
          "30-40",
          "16-30",
          "16-30",
          "16-30",
          "16-30",
          "16-30",
          "16-30"
         ],
         "xaxis": "x3",
         "yaxis": "y3"
        },
        {
         "alignmentgroup": "True",
         "hovertemplate": "Gender=Female<br>Location=%{y}<extra></extra>",
         "legendgroup": "Female",
         "marker": {
          "color": "#FF7F0E",
          "symbol": "circle"
         },
         "name": "Female",
         "offsetgroup": "Female",
         "scalegroup": "y",
         "showlegend": false,
         "type": "violin",
         "xaxis": "x2",
         "y": [
          "Pakistan",
          "Pakistan",
          "East",
          "Pakistan",
          "Pakistan",
          "West",
          "Pakistan",
          "Pakistan",
          "West",
          "Pakistan",
          "East",
          "Pakistan",
          "Pakistan",
          "Pakistan",
          "Pakistan",
          "Pakistan",
          "Pakistan",
          "Pakistan",
          "West",
          "Pakistan",
          "Pakistan",
          "Pakistan",
          "Pakistan",
          "West",
          "Pakistan",
          "Pakistan",
          "Pakistan",
          "Pakistan",
          "Pakistan",
          "Pakistan",
          "Pakistan",
          "Pakistan",
          "West",
          "Pakistan",
          "Pakistan",
          "Pakistan",
          "Pakistan",
          "Pakistan",
          "Pakistan",
          "Pakistan",
          "Pakistan",
          "West",
          "Pakistan",
          "Pakistan",
          "Pakistan",
          "West",
          "Pakistan",
          "Pakistan",
          "West",
          "East",
          "Pakistan",
          "Pakistan",
          "Pakistan",
          "Pakistan",
          "West",
          "Pakistan",
          "Pakistan",
          "Pakistan",
          "Pakistan",
          "Pakistan",
          "Pakistan",
          "Pakistan",
          "Pakistan"
         ],
         "yaxis": "y2"
        }
       ],
       "layout": {
        "legend": {
         "title": {
          "text": "Gender"
         },
         "tracegroupgap": 0
        },
        "margin": {
         "t": 60
        },
        "template": {
         "data": {
          "bar": [
           {
            "error_x": {
             "color": "rgb(36,36,36)"
            },
            "error_y": {
             "color": "rgb(36,36,36)"
            },
            "marker": {
             "line": {
              "color": "white",
              "width": 0.5
             },
             "pattern": {
              "fillmode": "overlay",
              "size": 10,
              "solidity": 0.2
             }
            },
            "type": "bar"
           }
          ],
          "barpolar": [
           {
            "marker": {
             "line": {
              "color": "white",
              "width": 0.5
             },
             "pattern": {
              "fillmode": "overlay",
              "size": 10,
              "solidity": 0.2
             }
            },
            "type": "barpolar"
           }
          ],
          "carpet": [
           {
            "aaxis": {
             "endlinecolor": "rgb(36,36,36)",
             "gridcolor": "white",
             "linecolor": "white",
             "minorgridcolor": "white",
             "startlinecolor": "rgb(36,36,36)"
            },
            "baxis": {
             "endlinecolor": "rgb(36,36,36)",
             "gridcolor": "white",
             "linecolor": "white",
             "minorgridcolor": "white",
             "startlinecolor": "rgb(36,36,36)"
            },
            "type": "carpet"
           }
          ],
          "choropleth": [
           {
            "colorbar": {
             "outlinewidth": 1,
             "tickcolor": "rgb(36,36,36)",
             "ticks": "outside"
            },
            "type": "choropleth"
           }
          ],
          "contour": [
           {
            "colorbar": {
             "outlinewidth": 1,
             "tickcolor": "rgb(36,36,36)",
             "ticks": "outside"
            },
            "colorscale": [
             [
              0,
              "#440154"
             ],
             [
              0.1111111111111111,
              "#482878"
             ],
             [
              0.2222222222222222,
              "#3e4989"
             ],
             [
              0.3333333333333333,
              "#31688e"
             ],
             [
              0.4444444444444444,
              "#26828e"
             ],
             [
              0.5555555555555556,
              "#1f9e89"
             ],
             [
              0.6666666666666666,
              "#35b779"
             ],
             [
              0.7777777777777778,
              "#6ece58"
             ],
             [
              0.8888888888888888,
              "#b5de2b"
             ],
             [
              1,
              "#fde725"
             ]
            ],
            "type": "contour"
           }
          ],
          "contourcarpet": [
           {
            "colorbar": {
             "outlinewidth": 1,
             "tickcolor": "rgb(36,36,36)",
             "ticks": "outside"
            },
            "type": "contourcarpet"
           }
          ],
          "heatmap": [
           {
            "colorbar": {
             "outlinewidth": 1,
             "tickcolor": "rgb(36,36,36)",
             "ticks": "outside"
            },
            "colorscale": [
             [
              0,
              "#440154"
             ],
             [
              0.1111111111111111,
              "#482878"
             ],
             [
              0.2222222222222222,
              "#3e4989"
             ],
             [
              0.3333333333333333,
              "#31688e"
             ],
             [
              0.4444444444444444,
              "#26828e"
             ],
             [
              0.5555555555555556,
              "#1f9e89"
             ],
             [
              0.6666666666666666,
              "#35b779"
             ],
             [
              0.7777777777777778,
              "#6ece58"
             ],
             [
              0.8888888888888888,
              "#b5de2b"
             ],
             [
              1,
              "#fde725"
             ]
            ],
            "type": "heatmap"
           }
          ],
          "heatmapgl": [
           {
            "colorbar": {
             "outlinewidth": 1,
             "tickcolor": "rgb(36,36,36)",
             "ticks": "outside"
            },
            "colorscale": [
             [
              0,
              "#440154"
             ],
             [
              0.1111111111111111,
              "#482878"
             ],
             [
              0.2222222222222222,
              "#3e4989"
             ],
             [
              0.3333333333333333,
              "#31688e"
             ],
             [
              0.4444444444444444,
              "#26828e"
             ],
             [
              0.5555555555555556,
              "#1f9e89"
             ],
             [
              0.6666666666666666,
              "#35b779"
             ],
             [
              0.7777777777777778,
              "#6ece58"
             ],
             [
              0.8888888888888888,
              "#b5de2b"
             ],
             [
              1,
              "#fde725"
             ]
            ],
            "type": "heatmapgl"
           }
          ],
          "histogram": [
           {
            "marker": {
             "line": {
              "color": "white",
              "width": 0.6
             }
            },
            "type": "histogram"
           }
          ],
          "histogram2d": [
           {
            "colorbar": {
             "outlinewidth": 1,
             "tickcolor": "rgb(36,36,36)",
             "ticks": "outside"
            },
            "colorscale": [
             [
              0,
              "#440154"
             ],
             [
              0.1111111111111111,
              "#482878"
             ],
             [
              0.2222222222222222,
              "#3e4989"
             ],
             [
              0.3333333333333333,
              "#31688e"
             ],
             [
              0.4444444444444444,
              "#26828e"
             ],
             [
              0.5555555555555556,
              "#1f9e89"
             ],
             [
              0.6666666666666666,
              "#35b779"
             ],
             [
              0.7777777777777778,
              "#6ece58"
             ],
             [
              0.8888888888888888,
              "#b5de2b"
             ],
             [
              1,
              "#fde725"
             ]
            ],
            "type": "histogram2d"
           }
          ],
          "histogram2dcontour": [
           {
            "colorbar": {
             "outlinewidth": 1,
             "tickcolor": "rgb(36,36,36)",
             "ticks": "outside"
            },
            "colorscale": [
             [
              0,
              "#440154"
             ],
             [
              0.1111111111111111,
              "#482878"
             ],
             [
              0.2222222222222222,
              "#3e4989"
             ],
             [
              0.3333333333333333,
              "#31688e"
             ],
             [
              0.4444444444444444,
              "#26828e"
             ],
             [
              0.5555555555555556,
              "#1f9e89"
             ],
             [
              0.6666666666666666,
              "#35b779"
             ],
             [
              0.7777777777777778,
              "#6ece58"
             ],
             [
              0.8888888888888888,
              "#b5de2b"
             ],
             [
              1,
              "#fde725"
             ]
            ],
            "type": "histogram2dcontour"
           }
          ],
          "mesh3d": [
           {
            "colorbar": {
             "outlinewidth": 1,
             "tickcolor": "rgb(36,36,36)",
             "ticks": "outside"
            },
            "type": "mesh3d"
           }
          ],
          "parcoords": [
           {
            "line": {
             "colorbar": {
              "outlinewidth": 1,
              "tickcolor": "rgb(36,36,36)",
              "ticks": "outside"
             }
            },
            "type": "parcoords"
           }
          ],
          "pie": [
           {
            "automargin": true,
            "type": "pie"
           }
          ],
          "scatter": [
           {
            "marker": {
             "colorbar": {
              "outlinewidth": 1,
              "tickcolor": "rgb(36,36,36)",
              "ticks": "outside"
             }
            },
            "type": "scatter"
           }
          ],
          "scatter3d": [
           {
            "line": {
             "colorbar": {
              "outlinewidth": 1,
              "tickcolor": "rgb(36,36,36)",
              "ticks": "outside"
             }
            },
            "marker": {
             "colorbar": {
              "outlinewidth": 1,
              "tickcolor": "rgb(36,36,36)",
              "ticks": "outside"
             }
            },
            "type": "scatter3d"
           }
          ],
          "scattercarpet": [
           {
            "marker": {
             "colorbar": {
              "outlinewidth": 1,
              "tickcolor": "rgb(36,36,36)",
              "ticks": "outside"
             }
            },
            "type": "scattercarpet"
           }
          ],
          "scattergeo": [
           {
            "marker": {
             "colorbar": {
              "outlinewidth": 1,
              "tickcolor": "rgb(36,36,36)",
              "ticks": "outside"
             }
            },
            "type": "scattergeo"
           }
          ],
          "scattergl": [
           {
            "marker": {
             "colorbar": {
              "outlinewidth": 1,
              "tickcolor": "rgb(36,36,36)",
              "ticks": "outside"
             }
            },
            "type": "scattergl"
           }
          ],
          "scattermapbox": [
           {
            "marker": {
             "colorbar": {
              "outlinewidth": 1,
              "tickcolor": "rgb(36,36,36)",
              "ticks": "outside"
             }
            },
            "type": "scattermapbox"
           }
          ],
          "scatterpolar": [
           {
            "marker": {
             "colorbar": {
              "outlinewidth": 1,
              "tickcolor": "rgb(36,36,36)",
              "ticks": "outside"
             }
            },
            "type": "scatterpolar"
           }
          ],
          "scatterpolargl": [
           {
            "marker": {
             "colorbar": {
              "outlinewidth": 1,
              "tickcolor": "rgb(36,36,36)",
              "ticks": "outside"
             }
            },
            "type": "scatterpolargl"
           }
          ],
          "scatterternary": [
           {
            "marker": {
             "colorbar": {
              "outlinewidth": 1,
              "tickcolor": "rgb(36,36,36)",
              "ticks": "outside"
             }
            },
            "type": "scatterternary"
           }
          ],
          "surface": [
           {
            "colorbar": {
             "outlinewidth": 1,
             "tickcolor": "rgb(36,36,36)",
             "ticks": "outside"
            },
            "colorscale": [
             [
              0,
              "#440154"
             ],
             [
              0.1111111111111111,
              "#482878"
             ],
             [
              0.2222222222222222,
              "#3e4989"
             ],
             [
              0.3333333333333333,
              "#31688e"
             ],
             [
              0.4444444444444444,
              "#26828e"
             ],
             [
              0.5555555555555556,
              "#1f9e89"
             ],
             [
              0.6666666666666666,
              "#35b779"
             ],
             [
              0.7777777777777778,
              "#6ece58"
             ],
             [
              0.8888888888888888,
              "#b5de2b"
             ],
             [
              1,
              "#fde725"
             ]
            ],
            "type": "surface"
           }
          ],
          "table": [
           {
            "cells": {
             "fill": {
              "color": "rgb(237,237,237)"
             },
             "line": {
              "color": "white"
             }
            },
            "header": {
             "fill": {
              "color": "rgb(217,217,217)"
             },
             "line": {
              "color": "white"
             }
            },
            "type": "table"
           }
          ]
         },
         "layout": {
          "annotationdefaults": {
           "arrowhead": 0,
           "arrowwidth": 1
          },
          "autotypenumbers": "strict",
          "coloraxis": {
           "colorbar": {
            "outlinewidth": 1,
            "tickcolor": "rgb(36,36,36)",
            "ticks": "outside"
           }
          },
          "colorscale": {
           "diverging": [
            [
             0,
             "rgb(103,0,31)"
            ],
            [
             0.1,
             "rgb(178,24,43)"
            ],
            [
             0.2,
             "rgb(214,96,77)"
            ],
            [
             0.3,
             "rgb(244,165,130)"
            ],
            [
             0.4,
             "rgb(253,219,199)"
            ],
            [
             0.5,
             "rgb(247,247,247)"
            ],
            [
             0.6,
             "rgb(209,229,240)"
            ],
            [
             0.7,
             "rgb(146,197,222)"
            ],
            [
             0.8,
             "rgb(67,147,195)"
            ],
            [
             0.9,
             "rgb(33,102,172)"
            ],
            [
             1,
             "rgb(5,48,97)"
            ]
           ],
           "sequential": [
            [
             0,
             "#440154"
            ],
            [
             0.1111111111111111,
             "#482878"
            ],
            [
             0.2222222222222222,
             "#3e4989"
            ],
            [
             0.3333333333333333,
             "#31688e"
            ],
            [
             0.4444444444444444,
             "#26828e"
            ],
            [
             0.5555555555555556,
             "#1f9e89"
            ],
            [
             0.6666666666666666,
             "#35b779"
            ],
            [
             0.7777777777777778,
             "#6ece58"
            ],
            [
             0.8888888888888888,
             "#b5de2b"
            ],
            [
             1,
             "#fde725"
            ]
           ],
           "sequentialminus": [
            [
             0,
             "#440154"
            ],
            [
             0.1111111111111111,
             "#482878"
            ],
            [
             0.2222222222222222,
             "#3e4989"
            ],
            [
             0.3333333333333333,
             "#31688e"
            ],
            [
             0.4444444444444444,
             "#26828e"
            ],
            [
             0.5555555555555556,
             "#1f9e89"
            ],
            [
             0.6666666666666666,
             "#35b779"
            ],
            [
             0.7777777777777778,
             "#6ece58"
            ],
            [
             0.8888888888888888,
             "#b5de2b"
            ],
            [
             1,
             "#fde725"
            ]
           ]
          },
          "colorway": [
           "#1F77B4",
           "#FF7F0E",
           "#2CA02C",
           "#D62728",
           "#9467BD",
           "#8C564B",
           "#E377C2",
           "#7F7F7F",
           "#BCBD22",
           "#17BECF"
          ],
          "font": {
           "color": "rgb(36,36,36)"
          },
          "geo": {
           "bgcolor": "white",
           "lakecolor": "white",
           "landcolor": "white",
           "showlakes": true,
           "showland": true,
           "subunitcolor": "white"
          },
          "hoverlabel": {
           "align": "left"
          },
          "hovermode": "closest",
          "mapbox": {
           "style": "light"
          },
          "paper_bgcolor": "white",
          "plot_bgcolor": "white",
          "polar": {
           "angularaxis": {
            "gridcolor": "rgb(232,232,232)",
            "linecolor": "rgb(36,36,36)",
            "showgrid": false,
            "showline": true,
            "ticks": "outside"
           },
           "bgcolor": "white",
           "radialaxis": {
            "gridcolor": "rgb(232,232,232)",
            "linecolor": "rgb(36,36,36)",
            "showgrid": false,
            "showline": true,
            "ticks": "outside"
           }
          },
          "scene": {
           "xaxis": {
            "backgroundcolor": "white",
            "gridcolor": "rgb(232,232,232)",
            "gridwidth": 2,
            "linecolor": "rgb(36,36,36)",
            "showbackground": true,
            "showgrid": false,
            "showline": true,
            "ticks": "outside",
            "zeroline": false,
            "zerolinecolor": "rgb(36,36,36)"
           },
           "yaxis": {
            "backgroundcolor": "white",
            "gridcolor": "rgb(232,232,232)",
            "gridwidth": 2,
            "linecolor": "rgb(36,36,36)",
            "showbackground": true,
            "showgrid": false,
            "showline": true,
            "ticks": "outside",
            "zeroline": false,
            "zerolinecolor": "rgb(36,36,36)"
           },
           "zaxis": {
            "backgroundcolor": "white",
            "gridcolor": "rgb(232,232,232)",
            "gridwidth": 2,
            "linecolor": "rgb(36,36,36)",
            "showbackground": true,
            "showgrid": false,
            "showline": true,
            "ticks": "outside",
            "zeroline": false,
            "zerolinecolor": "rgb(36,36,36)"
           }
          },
          "shapedefaults": {
           "fillcolor": "black",
           "line": {
            "width": 0
           },
           "opacity": 0.3
          },
          "ternary": {
           "aaxis": {
            "gridcolor": "rgb(232,232,232)",
            "linecolor": "rgb(36,36,36)",
            "showgrid": false,
            "showline": true,
            "ticks": "outside"
           },
           "baxis": {
            "gridcolor": "rgb(232,232,232)",
            "linecolor": "rgb(36,36,36)",
            "showgrid": false,
            "showline": true,
            "ticks": "outside"
           },
           "bgcolor": "white",
           "caxis": {
            "gridcolor": "rgb(232,232,232)",
            "linecolor": "rgb(36,36,36)",
            "showgrid": false,
            "showline": true,
            "ticks": "outside"
           }
          },
          "title": {
           "x": 0.05
          },
          "xaxis": {
           "automargin": true,
           "gridcolor": "rgb(232,232,232)",
           "linecolor": "rgb(36,36,36)",
           "showgrid": false,
           "showline": true,
           "ticks": "outside",
           "title": {
            "standoff": 15
           },
           "zeroline": false,
           "zerolinecolor": "rgb(36,36,36)"
          },
          "yaxis": {
           "automargin": true,
           "gridcolor": "rgb(232,232,232)",
           "linecolor": "rgb(36,36,36)",
           "showgrid": false,
           "showline": true,
           "ticks": "outside",
           "title": {
            "standoff": 15
           },
           "zeroline": false,
           "zerolinecolor": "rgb(36,36,36)"
          }
         }
        },
        "xaxis": {
         "anchor": "y",
         "domain": [
          0,
          0.7363
         ],
         "title": {
          "text": "Age"
         }
        },
        "xaxis2": {
         "anchor": "y2",
         "domain": [
          0.7413,
          1
         ],
         "matches": "x2",
         "showline": false,
         "showticklabels": false,
         "ticks": ""
        },
        "xaxis3": {
         "anchor": "y3",
         "domain": [
          0,
          0.7363
         ],
         "matches": "x",
         "showticklabels": false
        },
        "xaxis4": {
         "anchor": "y4",
         "domain": [
          0.7413,
          1
         ],
         "matches": "x2",
         "showline": false,
         "showticklabels": false,
         "ticks": ""
        },
        "yaxis": {
         "anchor": "x",
         "domain": [
          0,
          0.7326
         ],
         "title": {
          "text": "Location"
         }
        },
        "yaxis2": {
         "anchor": "x2",
         "domain": [
          0,
          0.7326
         ],
         "matches": "y",
         "showticklabels": false
        },
        "yaxis3": {
         "anchor": "x3",
         "domain": [
          0.7426,
          1
         ],
         "matches": "y3",
         "showline": false,
         "showticklabels": false,
         "ticks": ""
        },
        "yaxis4": {
         "anchor": "x4",
         "domain": [
          0.7426,
          1
         ],
         "matches": "y3",
         "showline": false,
         "showticklabels": false,
         "ticks": ""
        }
       }
      },
      "text/html": [
       "<div>                            <div id=\"bb88da34-495d-45a8-b466-03b790900bed\" class=\"plotly-graph-div\" style=\"height:525px; width:100%;\"></div>            <script type=\"text/javascript\">                require([\"plotly\"], function(Plotly) {                    window.PLOTLYENV=window.PLOTLYENV || {};                                    if (document.getElementById(\"bb88da34-495d-45a8-b466-03b790900bed\")) {                    Plotly.newPlot(                        \"bb88da34-495d-45a8-b466-03b790900bed\",                        [{\"hovertemplate\":\"Gender=Male<br>Age=%{x}<br>Location=%{y}<extra></extra>\",\"legendgroup\":\"Male\",\"marker\":{\"color\":\"#1F77B4\",\"symbol\":\"circle\"},\"mode\":\"markers\",\"name\":\"Male\",\"orientation\":\"v\",\"showlegend\":true,\"x\":[\"16-30\",\"16-30\",\"16-30\",\"30-40\",\"16-30\",\"16-30\",\"30-40\",\"16-30\",\"16-30\",\"30-40\",\"16-30\",\"16-30\",\"16-30\",\"16-30\",\"16-30\",\"16-30\",\"30-40\",\"16-30\",\"30-40\",\"16-30\",\"16-30\",\"16-30\",\">50\",\"30-40\",\"16-30\",\"30-40\",\"16-30\",\"16-30\",\"16-30\",\"30-40\",\"16-30\",\"16-30\",\"16-30\",\"16-30\",\"30-40\",\"16-30\",\"16-30\",\"16-30\",\"30-40\",\"30-40\",\"30-40\",\"16-30\",\"30-40\",\"16-30\",\"16-30\",\"16-30\",\"16-30\",\"16-30\",\"16-30\",\"30-40\",\"16-30\",\"30-40\",\"16-30\",\"16-30\",\"40-50\",\"16-30\",\"16-30\",\"16-30\",\"16-30\",\"16-30\",\"16-30\",\"30-40\",\"16-30\",\"16-30\",\"30-40\",\"16-30\",\"16-30\",\"30-40\",\"16-30\",\"16-30\",\"16-30\",\"16-30\",\"30-40\",\"16-30\",\"30-40\",\"16-30\",\"16-30\",\"40-50\",\"16-30\",\"16-30\",\"16-30\",\"16-30\",\"16-30\",\"16-30\",\"30-40\",\"30-40\",\"16-30\",\"16-30\",\"30-40\",\"16-30\",\"16-30\",\"16-30\",\"30-40\",\"16-30\",\"30-40\",\"40-50\",\"16-30\",\"16-30\",\"30-40\",\"16-30\",\"16-30\",\"16-30\",\"16-30\",\"16-30\",\"16-30\",\"16-30\",\"16-30\",\"16-30\",\"16-30\",\"40-50\",\"16-30\",\"40-50\",\"30-40\",\"30-40\",\">50\",\"16-30\",\"16-30\",\"16-30\",\"30-40\",\"16-30\",\"30-40\",\"16-30\",\"16-30\",\"16-30\",\"16-30\",\"16-30\",\"16-30\",\"16-30\",\"16-30\",\"30-40\",\"16-30\",\"16-30\",\">50\",\"30-40\",\"30-40\",\"16-30\",\"30-40\",\"16-30\",\"15-Jan\",\"30-40\",\"16-30\",\"16-30\",\"16-30\",\"16-30\",\"30-40\",\"16-30\",\"16-30\",\"16-30\",\"16-30\",\"16-30\",\"30-40\",\"40-50\",\"30-40\",\"30-40\",\"16-30\",\"16-30\",\"16-30\",\"16-30\",\"16-30\",\"16-30\",\"16-30\",\"30-40\",\"16-30\",\"16-30\",\"16-30\",\"16-30\",\"16-30\",\"30-40\",\"30-40\",\"16-30\",\"16-30\",\"16-30\",\"16-30\",\"16-30\",\"16-30\",\"16-30\",\"30-40\",\"30-40\",\"16-30\",\"30-40\",\"16-30\",\"16-30\",\"16-30\",\"16-30\",\"30-40\",\"30-40\",\"40-50\",\"16-30\",\"16-30\",\"30-40\",\"30-40\",\"30-40\",\"16-30\",\"16-30\",\"16-30\",\"30-40\",\"16-30\",\"16-30\",\"16-30\",\"16-30\",\"16-30\",\"16-30\",\"16-30\",\"16-30\",\"16-30\",\"30-40\",\"16-30\",\"16-30\",\"16-30\",\"16-30\",\"30-40\",\"16-30\",\"16-30\",\"30-40\",\"16-30\",\"16-30\",\"16-30\",\"16-30\",\"16-30\",\"16-30\",\"16-30\",\"16-30\",\"16-30\",\"16-30\",\"30-40\",\"16-30\",\"16-30\",\"16-30\",\"16-30\",\"16-30\",\"16-30\",\"16-30\",\"16-30\",\"16-30\",\"16-30\",\"16-30\",\"16-30\",\"16-30\",\"16-30\",\"16-30\",\"16-30\",\"16-30\",\"16-30\"],\"xaxis\":\"x\",\"y\":[\"Pakistan\",\"Pakistan\",\"Pakistan\",\"Pakistan\",\"East\",\"Pakistan\",\"Pakistan\",\"West\",\"Pakistan\",\"Pakistan\",\"Pakistan\",\"Pakistan\",\"Pakistan\",\"East\",\"West\",\"Pakistan\",\"Pakistan\",\"Pakistan\",\"Pakistan\",\"Pakistan\",\"Pakistan\",\"Pakistan\",\"Pakistan\",\"Pakistan\",\"Pakistan\",\"East\",\"Pakistan\",\"Pakistan\",\"Pakistan\",\"West\",\"Pakistan\",\"Pakistan\",\"Pakistan\",\"West\",\"Pakistan\",\"East\",\"Pakistan\",\"Pakistan\",\"Pakistan\",\"West\",\"Pakistan\",\"Pakistan\",\"Pakistan\",\"Pakistan\",\"Pakistan\",\"Pakistan\",\"Pakistan\",\"Pakistan\",\"Pakistan\",\"Pakistan\",\"West\",\"Pakistan\",\"East\",\"Pakistan\",\"West\",\"Pakistan\",\"Pakistan\",\"Pakistan\",\"Pakistan\",\"Pakistan\",\"West\",\"East\",\"West\",\"Pakistan\",\"Pakistan\",\"Pakistan\",\"Pakistan\",\"Pakistan\",\"Pakistan\",\"Pakistan\",\"Pakistan\",\"Pakistan\",\"Pakistan\",\"Pakistan\",\"Pakistan\",\"Pakistan\",\"Pakistan\",\"Pakistan\",\"Pakistan\",\"Pakistan\",\"Pakistan\",\"Pakistan\",\"East\",\"Pakistan\",\"Pakistan\",\"Pakistan\",\"Pakistan\",\"Pakistan\",\"Pakistan\",\"Pakistan\",\"Pakistan\",\"Pakistan\",\"Pakistan\",\"Pakistan\",\"West\",\"Pakistan\",\"Pakistan\",\"Pakistan\",\"East\",\"Pakistan\",\"Pakistan\",\"West\",\"Pakistan\",\"Pakistan\",\"Pakistan\",\"Pakistan\",\"Pakistan\",\"Pakistan\",\"Pakistan\",\"Pakistan\",\"West\",\"Pakistan\",\"West\",\"Pakistan\",\"West\",\"Pakistan\",\"Pakistan\",\"Pakistan\",\"Pakistan\",\"Pakistan\",\"Pakistan\",\"Pakistan\",\"Pakistan\",\"Pakistan\",\"Pakistan\",\"Pakistan\",\"Pakistan\",\"Pakistan\",\"Pakistan\",\"Pakistan\",\"Pakistan\",\"Pakistan\",\"Pakistan\",\"Pakistan\",\"Pakistan\",\"Pakistan\",\"Pakistan\",\"Pakistan\",\"West\",\"West\",\"Pakistan\",\"Pakistan\",\"Pakistan\",\"Pakistan\",\"Pakistan\",\"Pakistan\",\"Pakistan\",\"Pakistan\",\"Pakistan\",\"Pakistan\",\"Pakistan\",\"Pakistan\",\"Pakistan\",\"Pakistan\",\"Pakistan\",\"Pakistan\",\"Pakistan\",\"Pakistan\",\"Pakistan\",\"Pakistan\",\"Pakistan\",\"Pakistan\",\"Pakistan\",\"Pakistan\",\"Pakistan\",\"Pakistan\",\"Pakistan\",\"Pakistan\",\"West\",\"Pakistan\",\"Pakistan\",\"Pakistan\",\"East\",\"Pakistan\",\"Pakistan\",\"Pakistan\",\"Pakistan\",\"Pakistan\",\"Pakistan\",\"Pakistan\",\"Pakistan\",\"Pakistan\",\"Pakistan\",\"Pakistan\",\"Pakistan\",\"Pakistan\",\"Pakistan\",\"Pakistan\",\"Pakistan\",\"East\",\"Pakistan\",\"Pakistan\",\"Pakistan\",\"Pakistan\",\"West\",\"Pakistan\",\"West\",\"Pakistan\",\"Pakistan\",\"Pakistan\",\"Pakistan\",\"Pakistan\",\"Pakistan\",\"Pakistan\",\"Pakistan\",\"West\",\"Pakistan\",\"East\",\"East\",\"Pakistan\",\"West\",\"West\",\"Pakistan\",\"Pakistan\",\"Pakistan\",\"Pakistan\",\"Pakistan\",\"Pakistan\",\"Pakistan\",\"Pakistan\",\"Pakistan\",\"West\",\"Pakistan\",\"Pakistan\",\"Pakistan\",\"Pakistan\",\"Pakistan\",\"Pakistan\",\"Pakistan\",\"Pakistan\",\"Pakistan\",\"Pakistan\",\"Pakistan\",\"Pakistan\",\"Pakistan\",\"West\",\"Pakistan\",\"Pakistan\",\"Pakistan\",\"Pakistan\",\"Pakistan\",\"Pakistan\",\"Pakistan\"],\"yaxis\":\"y\",\"type\":\"scatter\"},{\"alignmentgroup\":\"True\",\"hovertemplate\":\"Gender=Male<br>Age=%{x}<extra></extra>\",\"legendgroup\":\"Male\",\"marker\":{\"color\":\"#1F77B4\",\"symbol\":\"circle\"},\"name\":\"Male\",\"notched\":true,\"offsetgroup\":\"Male\",\"showlegend\":false,\"x\":[\"16-30\",\"16-30\",\"16-30\",\"30-40\",\"16-30\",\"16-30\",\"30-40\",\"16-30\",\"16-30\",\"30-40\",\"16-30\",\"16-30\",\"16-30\",\"16-30\",\"16-30\",\"16-30\",\"30-40\",\"16-30\",\"30-40\",\"16-30\",\"16-30\",\"16-30\",\">50\",\"30-40\",\"16-30\",\"30-40\",\"16-30\",\"16-30\",\"16-30\",\"30-40\",\"16-30\",\"16-30\",\"16-30\",\"16-30\",\"30-40\",\"16-30\",\"16-30\",\"16-30\",\"30-40\",\"30-40\",\"30-40\",\"16-30\",\"30-40\",\"16-30\",\"16-30\",\"16-30\",\"16-30\",\"16-30\",\"16-30\",\"30-40\",\"16-30\",\"30-40\",\"16-30\",\"16-30\",\"40-50\",\"16-30\",\"16-30\",\"16-30\",\"16-30\",\"16-30\",\"16-30\",\"30-40\",\"16-30\",\"16-30\",\"30-40\",\"16-30\",\"16-30\",\"30-40\",\"16-30\",\"16-30\",\"16-30\",\"16-30\",\"30-40\",\"16-30\",\"30-40\",\"16-30\",\"16-30\",\"40-50\",\"16-30\",\"16-30\",\"16-30\",\"16-30\",\"16-30\",\"16-30\",\"30-40\",\"30-40\",\"16-30\",\"16-30\",\"30-40\",\"16-30\",\"16-30\",\"16-30\",\"30-40\",\"16-30\",\"30-40\",\"40-50\",\"16-30\",\"16-30\",\"30-40\",\"16-30\",\"16-30\",\"16-30\",\"16-30\",\"16-30\",\"16-30\",\"16-30\",\"16-30\",\"16-30\",\"16-30\",\"40-50\",\"16-30\",\"40-50\",\"30-40\",\"30-40\",\">50\",\"16-30\",\"16-30\",\"16-30\",\"30-40\",\"16-30\",\"30-40\",\"16-30\",\"16-30\",\"16-30\",\"16-30\",\"16-30\",\"16-30\",\"16-30\",\"16-30\",\"30-40\",\"16-30\",\"16-30\",\">50\",\"30-40\",\"30-40\",\"16-30\",\"30-40\",\"16-30\",\"15-Jan\",\"30-40\",\"16-30\",\"16-30\",\"16-30\",\"16-30\",\"30-40\",\"16-30\",\"16-30\",\"16-30\",\"16-30\",\"16-30\",\"30-40\",\"40-50\",\"30-40\",\"30-40\",\"16-30\",\"16-30\",\"16-30\",\"16-30\",\"16-30\",\"16-30\",\"16-30\",\"30-40\",\"16-30\",\"16-30\",\"16-30\",\"16-30\",\"16-30\",\"30-40\",\"30-40\",\"16-30\",\"16-30\",\"16-30\",\"16-30\",\"16-30\",\"16-30\",\"16-30\",\"30-40\",\"30-40\",\"16-30\",\"30-40\",\"16-30\",\"16-30\",\"16-30\",\"16-30\",\"30-40\",\"30-40\",\"40-50\",\"16-30\",\"16-30\",\"30-40\",\"30-40\",\"30-40\",\"16-30\",\"16-30\",\"16-30\",\"30-40\",\"16-30\",\"16-30\",\"16-30\",\"16-30\",\"16-30\",\"16-30\",\"16-30\",\"16-30\",\"16-30\",\"30-40\",\"16-30\",\"16-30\",\"16-30\",\"16-30\",\"30-40\",\"16-30\",\"16-30\",\"30-40\",\"16-30\",\"16-30\",\"16-30\",\"16-30\",\"16-30\",\"16-30\",\"16-30\",\"16-30\",\"16-30\",\"16-30\",\"30-40\",\"16-30\",\"16-30\",\"16-30\",\"16-30\",\"16-30\",\"16-30\",\"16-30\",\"16-30\",\"16-30\",\"16-30\",\"16-30\",\"16-30\",\"16-30\",\"16-30\",\"16-30\",\"16-30\",\"16-30\",\"16-30\"],\"xaxis\":\"x3\",\"yaxis\":\"y3\",\"type\":\"box\"},{\"alignmentgroup\":\"True\",\"hovertemplate\":\"Gender=Male<br>Location=%{y}<extra></extra>\",\"legendgroup\":\"Male\",\"marker\":{\"color\":\"#1F77B4\",\"symbol\":\"circle\"},\"name\":\"Male\",\"offsetgroup\":\"Male\",\"scalegroup\":\"y\",\"showlegend\":false,\"xaxis\":\"x2\",\"y\":[\"Pakistan\",\"Pakistan\",\"Pakistan\",\"Pakistan\",\"East\",\"Pakistan\",\"Pakistan\",\"West\",\"Pakistan\",\"Pakistan\",\"Pakistan\",\"Pakistan\",\"Pakistan\",\"East\",\"West\",\"Pakistan\",\"Pakistan\",\"Pakistan\",\"Pakistan\",\"Pakistan\",\"Pakistan\",\"Pakistan\",\"Pakistan\",\"Pakistan\",\"Pakistan\",\"East\",\"Pakistan\",\"Pakistan\",\"Pakistan\",\"West\",\"Pakistan\",\"Pakistan\",\"Pakistan\",\"West\",\"Pakistan\",\"East\",\"Pakistan\",\"Pakistan\",\"Pakistan\",\"West\",\"Pakistan\",\"Pakistan\",\"Pakistan\",\"Pakistan\",\"Pakistan\",\"Pakistan\",\"Pakistan\",\"Pakistan\",\"Pakistan\",\"Pakistan\",\"West\",\"Pakistan\",\"East\",\"Pakistan\",\"West\",\"Pakistan\",\"Pakistan\",\"Pakistan\",\"Pakistan\",\"Pakistan\",\"West\",\"East\",\"West\",\"Pakistan\",\"Pakistan\",\"Pakistan\",\"Pakistan\",\"Pakistan\",\"Pakistan\",\"Pakistan\",\"Pakistan\",\"Pakistan\",\"Pakistan\",\"Pakistan\",\"Pakistan\",\"Pakistan\",\"Pakistan\",\"Pakistan\",\"Pakistan\",\"Pakistan\",\"Pakistan\",\"Pakistan\",\"East\",\"Pakistan\",\"Pakistan\",\"Pakistan\",\"Pakistan\",\"Pakistan\",\"Pakistan\",\"Pakistan\",\"Pakistan\",\"Pakistan\",\"Pakistan\",\"Pakistan\",\"West\",\"Pakistan\",\"Pakistan\",\"Pakistan\",\"East\",\"Pakistan\",\"Pakistan\",\"West\",\"Pakistan\",\"Pakistan\",\"Pakistan\",\"Pakistan\",\"Pakistan\",\"Pakistan\",\"Pakistan\",\"Pakistan\",\"West\",\"Pakistan\",\"West\",\"Pakistan\",\"West\",\"Pakistan\",\"Pakistan\",\"Pakistan\",\"Pakistan\",\"Pakistan\",\"Pakistan\",\"Pakistan\",\"Pakistan\",\"Pakistan\",\"Pakistan\",\"Pakistan\",\"Pakistan\",\"Pakistan\",\"Pakistan\",\"Pakistan\",\"Pakistan\",\"Pakistan\",\"Pakistan\",\"Pakistan\",\"Pakistan\",\"Pakistan\",\"Pakistan\",\"Pakistan\",\"West\",\"West\",\"Pakistan\",\"Pakistan\",\"Pakistan\",\"Pakistan\",\"Pakistan\",\"Pakistan\",\"Pakistan\",\"Pakistan\",\"Pakistan\",\"Pakistan\",\"Pakistan\",\"Pakistan\",\"Pakistan\",\"Pakistan\",\"Pakistan\",\"Pakistan\",\"Pakistan\",\"Pakistan\",\"Pakistan\",\"Pakistan\",\"Pakistan\",\"Pakistan\",\"Pakistan\",\"Pakistan\",\"Pakistan\",\"Pakistan\",\"Pakistan\",\"Pakistan\",\"West\",\"Pakistan\",\"Pakistan\",\"Pakistan\",\"East\",\"Pakistan\",\"Pakistan\",\"Pakistan\",\"Pakistan\",\"Pakistan\",\"Pakistan\",\"Pakistan\",\"Pakistan\",\"Pakistan\",\"Pakistan\",\"Pakistan\",\"Pakistan\",\"Pakistan\",\"Pakistan\",\"Pakistan\",\"Pakistan\",\"East\",\"Pakistan\",\"Pakistan\",\"Pakistan\",\"Pakistan\",\"West\",\"Pakistan\",\"West\",\"Pakistan\",\"Pakistan\",\"Pakistan\",\"Pakistan\",\"Pakistan\",\"Pakistan\",\"Pakistan\",\"Pakistan\",\"West\",\"Pakistan\",\"East\",\"East\",\"Pakistan\",\"West\",\"West\",\"Pakistan\",\"Pakistan\",\"Pakistan\",\"Pakistan\",\"Pakistan\",\"Pakistan\",\"Pakistan\",\"Pakistan\",\"Pakistan\",\"West\",\"Pakistan\",\"Pakistan\",\"Pakistan\",\"Pakistan\",\"Pakistan\",\"Pakistan\",\"Pakistan\",\"Pakistan\",\"Pakistan\",\"Pakistan\",\"Pakistan\",\"Pakistan\",\"Pakistan\",\"West\",\"Pakistan\",\"Pakistan\",\"Pakistan\",\"Pakistan\",\"Pakistan\",\"Pakistan\",\"Pakistan\"],\"yaxis\":\"y2\",\"type\":\"violin\"},{\"hovertemplate\":\"Gender=Female<br>Age=%{x}<br>Location=%{y}<extra></extra>\",\"legendgroup\":\"Female\",\"marker\":{\"color\":\"#FF7F0E\",\"symbol\":\"circle\"},\"mode\":\"markers\",\"name\":\"Female\",\"orientation\":\"v\",\"showlegend\":true,\"x\":[\"30-40\",\"16-30\",\"16-30\",\"16-30\",\"16-30\",\"16-30\",\"16-30\",\"16-30\",\"16-30\",\"16-30\",\"16-30\",\"30-40\",\"16-30\",\"30-40\",\"16-30\",\"16-30\",\"16-30\",\"16-30\",\"16-30\",\"16-30\",\"30-40\",\"16-30\",\"16-30\",\"30-40\",\"30-40\",\"30-40\",\"16-30\",\"16-30\",\"16-30\",\"16-30\",\"16-30\",\"30-40\",\"15-Jan\",\"16-30\",\"30-40\",\"16-30\",\"16-30\",\"16-30\",\"16-30\",\"16-30\",\"16-30\",\"16-30\",\"16-30\",\"16-30\",\"16-30\",\"16-30\",\"30-40\",\"16-30\",\"16-30\",\"16-30\",\"16-30\",\"16-30\",\"16-30\",\"16-30\",\"16-30\",\"16-30\",\"30-40\",\"16-30\",\"16-30\",\"16-30\",\"16-30\",\"16-30\",\"16-30\"],\"xaxis\":\"x\",\"y\":[\"Pakistan\",\"Pakistan\",\"East\",\"Pakistan\",\"Pakistan\",\"West\",\"Pakistan\",\"Pakistan\",\"West\",\"Pakistan\",\"East\",\"Pakistan\",\"Pakistan\",\"Pakistan\",\"Pakistan\",\"Pakistan\",\"Pakistan\",\"Pakistan\",\"West\",\"Pakistan\",\"Pakistan\",\"Pakistan\",\"Pakistan\",\"West\",\"Pakistan\",\"Pakistan\",\"Pakistan\",\"Pakistan\",\"Pakistan\",\"Pakistan\",\"Pakistan\",\"Pakistan\",\"West\",\"Pakistan\",\"Pakistan\",\"Pakistan\",\"Pakistan\",\"Pakistan\",\"Pakistan\",\"Pakistan\",\"Pakistan\",\"West\",\"Pakistan\",\"Pakistan\",\"Pakistan\",\"West\",\"Pakistan\",\"Pakistan\",\"West\",\"East\",\"Pakistan\",\"Pakistan\",\"Pakistan\",\"Pakistan\",\"West\",\"Pakistan\",\"Pakistan\",\"Pakistan\",\"Pakistan\",\"Pakistan\",\"Pakistan\",\"Pakistan\",\"Pakistan\"],\"yaxis\":\"y\",\"type\":\"scatter\"},{\"alignmentgroup\":\"True\",\"hovertemplate\":\"Gender=Female<br>Age=%{x}<extra></extra>\",\"legendgroup\":\"Female\",\"marker\":{\"color\":\"#FF7F0E\",\"symbol\":\"circle\"},\"name\":\"Female\",\"notched\":true,\"offsetgroup\":\"Female\",\"showlegend\":false,\"x\":[\"30-40\",\"16-30\",\"16-30\",\"16-30\",\"16-30\",\"16-30\",\"16-30\",\"16-30\",\"16-30\",\"16-30\",\"16-30\",\"30-40\",\"16-30\",\"30-40\",\"16-30\",\"16-30\",\"16-30\",\"16-30\",\"16-30\",\"16-30\",\"30-40\",\"16-30\",\"16-30\",\"30-40\",\"30-40\",\"30-40\",\"16-30\",\"16-30\",\"16-30\",\"16-30\",\"16-30\",\"30-40\",\"15-Jan\",\"16-30\",\"30-40\",\"16-30\",\"16-30\",\"16-30\",\"16-30\",\"16-30\",\"16-30\",\"16-30\",\"16-30\",\"16-30\",\"16-30\",\"16-30\",\"30-40\",\"16-30\",\"16-30\",\"16-30\",\"16-30\",\"16-30\",\"16-30\",\"16-30\",\"16-30\",\"16-30\",\"30-40\",\"16-30\",\"16-30\",\"16-30\",\"16-30\",\"16-30\",\"16-30\"],\"xaxis\":\"x3\",\"yaxis\":\"y3\",\"type\":\"box\"},{\"alignmentgroup\":\"True\",\"hovertemplate\":\"Gender=Female<br>Location=%{y}<extra></extra>\",\"legendgroup\":\"Female\",\"marker\":{\"color\":\"#FF7F0E\",\"symbol\":\"circle\"},\"name\":\"Female\",\"offsetgroup\":\"Female\",\"scalegroup\":\"y\",\"showlegend\":false,\"xaxis\":\"x2\",\"y\":[\"Pakistan\",\"Pakistan\",\"East\",\"Pakistan\",\"Pakistan\",\"West\",\"Pakistan\",\"Pakistan\",\"West\",\"Pakistan\",\"East\",\"Pakistan\",\"Pakistan\",\"Pakistan\",\"Pakistan\",\"Pakistan\",\"Pakistan\",\"Pakistan\",\"West\",\"Pakistan\",\"Pakistan\",\"Pakistan\",\"Pakistan\",\"West\",\"Pakistan\",\"Pakistan\",\"Pakistan\",\"Pakistan\",\"Pakistan\",\"Pakistan\",\"Pakistan\",\"Pakistan\",\"West\",\"Pakistan\",\"Pakistan\",\"Pakistan\",\"Pakistan\",\"Pakistan\",\"Pakistan\",\"Pakistan\",\"Pakistan\",\"West\",\"Pakistan\",\"Pakistan\",\"Pakistan\",\"West\",\"Pakistan\",\"Pakistan\",\"West\",\"East\",\"Pakistan\",\"Pakistan\",\"Pakistan\",\"Pakistan\",\"West\",\"Pakistan\",\"Pakistan\",\"Pakistan\",\"Pakistan\",\"Pakistan\",\"Pakistan\",\"Pakistan\",\"Pakistan\"],\"yaxis\":\"y2\",\"type\":\"violin\"}],                        {\"template\":{\"data\":{\"barpolar\":[{\"marker\":{\"line\":{\"color\":\"white\",\"width\":0.5},\"pattern\":{\"fillmode\":\"overlay\",\"size\":10,\"solidity\":0.2}},\"type\":\"barpolar\"}],\"bar\":[{\"error_x\":{\"color\":\"rgb(36,36,36)\"},\"error_y\":{\"color\":\"rgb(36,36,36)\"},\"marker\":{\"line\":{\"color\":\"white\",\"width\":0.5},\"pattern\":{\"fillmode\":\"overlay\",\"size\":10,\"solidity\":0.2}},\"type\":\"bar\"}],\"carpet\":[{\"aaxis\":{\"endlinecolor\":\"rgb(36,36,36)\",\"gridcolor\":\"white\",\"linecolor\":\"white\",\"minorgridcolor\":\"white\",\"startlinecolor\":\"rgb(36,36,36)\"},\"baxis\":{\"endlinecolor\":\"rgb(36,36,36)\",\"gridcolor\":\"white\",\"linecolor\":\"white\",\"minorgridcolor\":\"white\",\"startlinecolor\":\"rgb(36,36,36)\"},\"type\":\"carpet\"}],\"choropleth\":[{\"colorbar\":{\"outlinewidth\":1,\"tickcolor\":\"rgb(36,36,36)\",\"ticks\":\"outside\"},\"type\":\"choropleth\"}],\"contourcarpet\":[{\"colorbar\":{\"outlinewidth\":1,\"tickcolor\":\"rgb(36,36,36)\",\"ticks\":\"outside\"},\"type\":\"contourcarpet\"}],\"contour\":[{\"colorbar\":{\"outlinewidth\":1,\"tickcolor\":\"rgb(36,36,36)\",\"ticks\":\"outside\"},\"colorscale\":[[0.0,\"#440154\"],[0.1111111111111111,\"#482878\"],[0.2222222222222222,\"#3e4989\"],[0.3333333333333333,\"#31688e\"],[0.4444444444444444,\"#26828e\"],[0.5555555555555556,\"#1f9e89\"],[0.6666666666666666,\"#35b779\"],[0.7777777777777778,\"#6ece58\"],[0.8888888888888888,\"#b5de2b\"],[1.0,\"#fde725\"]],\"type\":\"contour\"}],\"heatmapgl\":[{\"colorbar\":{\"outlinewidth\":1,\"tickcolor\":\"rgb(36,36,36)\",\"ticks\":\"outside\"},\"colorscale\":[[0.0,\"#440154\"],[0.1111111111111111,\"#482878\"],[0.2222222222222222,\"#3e4989\"],[0.3333333333333333,\"#31688e\"],[0.4444444444444444,\"#26828e\"],[0.5555555555555556,\"#1f9e89\"],[0.6666666666666666,\"#35b779\"],[0.7777777777777778,\"#6ece58\"],[0.8888888888888888,\"#b5de2b\"],[1.0,\"#fde725\"]],\"type\":\"heatmapgl\"}],\"heatmap\":[{\"colorbar\":{\"outlinewidth\":1,\"tickcolor\":\"rgb(36,36,36)\",\"ticks\":\"outside\"},\"colorscale\":[[0.0,\"#440154\"],[0.1111111111111111,\"#482878\"],[0.2222222222222222,\"#3e4989\"],[0.3333333333333333,\"#31688e\"],[0.4444444444444444,\"#26828e\"],[0.5555555555555556,\"#1f9e89\"],[0.6666666666666666,\"#35b779\"],[0.7777777777777778,\"#6ece58\"],[0.8888888888888888,\"#b5de2b\"],[1.0,\"#fde725\"]],\"type\":\"heatmap\"}],\"histogram2dcontour\":[{\"colorbar\":{\"outlinewidth\":1,\"tickcolor\":\"rgb(36,36,36)\",\"ticks\":\"outside\"},\"colorscale\":[[0.0,\"#440154\"],[0.1111111111111111,\"#482878\"],[0.2222222222222222,\"#3e4989\"],[0.3333333333333333,\"#31688e\"],[0.4444444444444444,\"#26828e\"],[0.5555555555555556,\"#1f9e89\"],[0.6666666666666666,\"#35b779\"],[0.7777777777777778,\"#6ece58\"],[0.8888888888888888,\"#b5de2b\"],[1.0,\"#fde725\"]],\"type\":\"histogram2dcontour\"}],\"histogram2d\":[{\"colorbar\":{\"outlinewidth\":1,\"tickcolor\":\"rgb(36,36,36)\",\"ticks\":\"outside\"},\"colorscale\":[[0.0,\"#440154\"],[0.1111111111111111,\"#482878\"],[0.2222222222222222,\"#3e4989\"],[0.3333333333333333,\"#31688e\"],[0.4444444444444444,\"#26828e\"],[0.5555555555555556,\"#1f9e89\"],[0.6666666666666666,\"#35b779\"],[0.7777777777777778,\"#6ece58\"],[0.8888888888888888,\"#b5de2b\"],[1.0,\"#fde725\"]],\"type\":\"histogram2d\"}],\"histogram\":[{\"marker\":{\"line\":{\"color\":\"white\",\"width\":0.6}},\"type\":\"histogram\"}],\"mesh3d\":[{\"colorbar\":{\"outlinewidth\":1,\"tickcolor\":\"rgb(36,36,36)\",\"ticks\":\"outside\"},\"type\":\"mesh3d\"}],\"parcoords\":[{\"line\":{\"colorbar\":{\"outlinewidth\":1,\"tickcolor\":\"rgb(36,36,36)\",\"ticks\":\"outside\"}},\"type\":\"parcoords\"}],\"pie\":[{\"automargin\":true,\"type\":\"pie\"}],\"scatter3d\":[{\"line\":{\"colorbar\":{\"outlinewidth\":1,\"tickcolor\":\"rgb(36,36,36)\",\"ticks\":\"outside\"}},\"marker\":{\"colorbar\":{\"outlinewidth\":1,\"tickcolor\":\"rgb(36,36,36)\",\"ticks\":\"outside\"}},\"type\":\"scatter3d\"}],\"scattercarpet\":[{\"marker\":{\"colorbar\":{\"outlinewidth\":1,\"tickcolor\":\"rgb(36,36,36)\",\"ticks\":\"outside\"}},\"type\":\"scattercarpet\"}],\"scattergeo\":[{\"marker\":{\"colorbar\":{\"outlinewidth\":1,\"tickcolor\":\"rgb(36,36,36)\",\"ticks\":\"outside\"}},\"type\":\"scattergeo\"}],\"scattergl\":[{\"marker\":{\"colorbar\":{\"outlinewidth\":1,\"tickcolor\":\"rgb(36,36,36)\",\"ticks\":\"outside\"}},\"type\":\"scattergl\"}],\"scattermapbox\":[{\"marker\":{\"colorbar\":{\"outlinewidth\":1,\"tickcolor\":\"rgb(36,36,36)\",\"ticks\":\"outside\"}},\"type\":\"scattermapbox\"}],\"scatterpolargl\":[{\"marker\":{\"colorbar\":{\"outlinewidth\":1,\"tickcolor\":\"rgb(36,36,36)\",\"ticks\":\"outside\"}},\"type\":\"scatterpolargl\"}],\"scatterpolar\":[{\"marker\":{\"colorbar\":{\"outlinewidth\":1,\"tickcolor\":\"rgb(36,36,36)\",\"ticks\":\"outside\"}},\"type\":\"scatterpolar\"}],\"scatter\":[{\"marker\":{\"colorbar\":{\"outlinewidth\":1,\"tickcolor\":\"rgb(36,36,36)\",\"ticks\":\"outside\"}},\"type\":\"scatter\"}],\"scatterternary\":[{\"marker\":{\"colorbar\":{\"outlinewidth\":1,\"tickcolor\":\"rgb(36,36,36)\",\"ticks\":\"outside\"}},\"type\":\"scatterternary\"}],\"surface\":[{\"colorbar\":{\"outlinewidth\":1,\"tickcolor\":\"rgb(36,36,36)\",\"ticks\":\"outside\"},\"colorscale\":[[0.0,\"#440154\"],[0.1111111111111111,\"#482878\"],[0.2222222222222222,\"#3e4989\"],[0.3333333333333333,\"#31688e\"],[0.4444444444444444,\"#26828e\"],[0.5555555555555556,\"#1f9e89\"],[0.6666666666666666,\"#35b779\"],[0.7777777777777778,\"#6ece58\"],[0.8888888888888888,\"#b5de2b\"],[1.0,\"#fde725\"]],\"type\":\"surface\"}],\"table\":[{\"cells\":{\"fill\":{\"color\":\"rgb(237,237,237)\"},\"line\":{\"color\":\"white\"}},\"header\":{\"fill\":{\"color\":\"rgb(217,217,217)\"},\"line\":{\"color\":\"white\"}},\"type\":\"table\"}]},\"layout\":{\"annotationdefaults\":{\"arrowhead\":0,\"arrowwidth\":1},\"autotypenumbers\":\"strict\",\"coloraxis\":{\"colorbar\":{\"outlinewidth\":1,\"tickcolor\":\"rgb(36,36,36)\",\"ticks\":\"outside\"}},\"colorscale\":{\"diverging\":[[0.0,\"rgb(103,0,31)\"],[0.1,\"rgb(178,24,43)\"],[0.2,\"rgb(214,96,77)\"],[0.3,\"rgb(244,165,130)\"],[0.4,\"rgb(253,219,199)\"],[0.5,\"rgb(247,247,247)\"],[0.6,\"rgb(209,229,240)\"],[0.7,\"rgb(146,197,222)\"],[0.8,\"rgb(67,147,195)\"],[0.9,\"rgb(33,102,172)\"],[1.0,\"rgb(5,48,97)\"]],\"sequential\":[[0.0,\"#440154\"],[0.1111111111111111,\"#482878\"],[0.2222222222222222,\"#3e4989\"],[0.3333333333333333,\"#31688e\"],[0.4444444444444444,\"#26828e\"],[0.5555555555555556,\"#1f9e89\"],[0.6666666666666666,\"#35b779\"],[0.7777777777777778,\"#6ece58\"],[0.8888888888888888,\"#b5de2b\"],[1.0,\"#fde725\"]],\"sequentialminus\":[[0.0,\"#440154\"],[0.1111111111111111,\"#482878\"],[0.2222222222222222,\"#3e4989\"],[0.3333333333333333,\"#31688e\"],[0.4444444444444444,\"#26828e\"],[0.5555555555555556,\"#1f9e89\"],[0.6666666666666666,\"#35b779\"],[0.7777777777777778,\"#6ece58\"],[0.8888888888888888,\"#b5de2b\"],[1.0,\"#fde725\"]]},\"colorway\":[\"#1F77B4\",\"#FF7F0E\",\"#2CA02C\",\"#D62728\",\"#9467BD\",\"#8C564B\",\"#E377C2\",\"#7F7F7F\",\"#BCBD22\",\"#17BECF\"],\"font\":{\"color\":\"rgb(36,36,36)\"},\"geo\":{\"bgcolor\":\"white\",\"lakecolor\":\"white\",\"landcolor\":\"white\",\"showlakes\":true,\"showland\":true,\"subunitcolor\":\"white\"},\"hoverlabel\":{\"align\":\"left\"},\"hovermode\":\"closest\",\"mapbox\":{\"style\":\"light\"},\"paper_bgcolor\":\"white\",\"plot_bgcolor\":\"white\",\"polar\":{\"angularaxis\":{\"gridcolor\":\"rgb(232,232,232)\",\"linecolor\":\"rgb(36,36,36)\",\"showgrid\":false,\"showline\":true,\"ticks\":\"outside\"},\"bgcolor\":\"white\",\"radialaxis\":{\"gridcolor\":\"rgb(232,232,232)\",\"linecolor\":\"rgb(36,36,36)\",\"showgrid\":false,\"showline\":true,\"ticks\":\"outside\"}},\"scene\":{\"xaxis\":{\"backgroundcolor\":\"white\",\"gridcolor\":\"rgb(232,232,232)\",\"gridwidth\":2,\"linecolor\":\"rgb(36,36,36)\",\"showbackground\":true,\"showgrid\":false,\"showline\":true,\"ticks\":\"outside\",\"zeroline\":false,\"zerolinecolor\":\"rgb(36,36,36)\"},\"yaxis\":{\"backgroundcolor\":\"white\",\"gridcolor\":\"rgb(232,232,232)\",\"gridwidth\":2,\"linecolor\":\"rgb(36,36,36)\",\"showbackground\":true,\"showgrid\":false,\"showline\":true,\"ticks\":\"outside\",\"zeroline\":false,\"zerolinecolor\":\"rgb(36,36,36)\"},\"zaxis\":{\"backgroundcolor\":\"white\",\"gridcolor\":\"rgb(232,232,232)\",\"gridwidth\":2,\"linecolor\":\"rgb(36,36,36)\",\"showbackground\":true,\"showgrid\":false,\"showline\":true,\"ticks\":\"outside\",\"zeroline\":false,\"zerolinecolor\":\"rgb(36,36,36)\"}},\"shapedefaults\":{\"fillcolor\":\"black\",\"line\":{\"width\":0},\"opacity\":0.3},\"ternary\":{\"aaxis\":{\"gridcolor\":\"rgb(232,232,232)\",\"linecolor\":\"rgb(36,36,36)\",\"showgrid\":false,\"showline\":true,\"ticks\":\"outside\"},\"baxis\":{\"gridcolor\":\"rgb(232,232,232)\",\"linecolor\":\"rgb(36,36,36)\",\"showgrid\":false,\"showline\":true,\"ticks\":\"outside\"},\"bgcolor\":\"white\",\"caxis\":{\"gridcolor\":\"rgb(232,232,232)\",\"linecolor\":\"rgb(36,36,36)\",\"showgrid\":false,\"showline\":true,\"ticks\":\"outside\"}},\"title\":{\"x\":0.05},\"xaxis\":{\"automargin\":true,\"gridcolor\":\"rgb(232,232,232)\",\"linecolor\":\"rgb(36,36,36)\",\"showgrid\":false,\"showline\":true,\"ticks\":\"outside\",\"title\":{\"standoff\":15},\"zeroline\":false,\"zerolinecolor\":\"rgb(36,36,36)\"},\"yaxis\":{\"automargin\":true,\"gridcolor\":\"rgb(232,232,232)\",\"linecolor\":\"rgb(36,36,36)\",\"showgrid\":false,\"showline\":true,\"ticks\":\"outside\",\"title\":{\"standoff\":15},\"zeroline\":false,\"zerolinecolor\":\"rgb(36,36,36)\"}}},\"xaxis\":{\"anchor\":\"y\",\"domain\":[0.0,0.7363],\"title\":{\"text\":\"Age\"}},\"yaxis\":{\"anchor\":\"x\",\"domain\":[0.0,0.7326],\"title\":{\"text\":\"Location\"}},\"xaxis2\":{\"anchor\":\"y2\",\"domain\":[0.7413,1.0],\"matches\":\"x2\",\"showticklabels\":false,\"showline\":false,\"ticks\":\"\"},\"yaxis2\":{\"anchor\":\"x2\",\"domain\":[0.0,0.7326],\"matches\":\"y\",\"showticklabels\":false},\"xaxis3\":{\"anchor\":\"y3\",\"domain\":[0.0,0.7363],\"matches\":\"x\",\"showticklabels\":false},\"yaxis3\":{\"anchor\":\"x3\",\"domain\":[0.7426,1.0],\"matches\":\"y3\",\"showticklabels\":false,\"showline\":false,\"ticks\":\"\"},\"xaxis4\":{\"anchor\":\"y4\",\"domain\":[0.7413,1.0],\"matches\":\"x2\",\"showticklabels\":false,\"showline\":false,\"ticks\":\"\"},\"yaxis4\":{\"anchor\":\"x4\",\"domain\":[0.7426,1.0],\"matches\":\"y3\",\"showticklabels\":false,\"showline\":false,\"ticks\":\"\"},\"legend\":{\"title\":{\"text\":\"Gender\"},\"tracegroupgap\":0},\"margin\":{\"t\":60}},                        {\"responsive\": true}                    ).then(function(){\n",
       "                            \n",
       "var gd = document.getElementById('bb88da34-495d-45a8-b466-03b790900bed');\n",
       "var x = new MutationObserver(function (mutations, observer) {{\n",
       "        var display = window.getComputedStyle(gd).display;\n",
       "        if (!display || display === 'none') {{\n",
       "            console.log([gd, 'removed!']);\n",
       "            Plotly.purge(gd);\n",
       "            observer.disconnect();\n",
       "        }}\n",
       "}});\n",
       "\n",
       "// Listen for the removal of the full notebook cells\n",
       "var notebookContainer = gd.closest('#notebook-container');\n",
       "if (notebookContainer) {{\n",
       "    x.observe(notebookContainer, {childList: true});\n",
       "}}\n",
       "\n",
       "// Listen for the clearing of the current output cell\n",
       "var outputEl = gd.closest('.output');\n",
       "if (outputEl) {{\n",
       "    x.observe(outputEl, {childList: true});\n",
       "}}\n",
       "\n",
       "                        })                };                });            </script>        </div>"
      ]
     },
     "metadata": {},
     "output_type": "display_data"
    }
   ],
   "source": [
    "import pandas as pd\n",
    "import plotly.express as px\n",
    "f = pd.read_csv('data_viz.csv')\n",
    "fig = px.scatter(f, x='Age', y='Location', color='Gender', marginal_y='violin',\n",
    "                 marginal_x='box', template='simple_white')\n",
    "fig.show()\n",
    "\n"
   ]
  },
  {
   "cell_type": "code",
   "execution_count": 12,
   "id": "82d63f8f",
   "metadata": {},
   "outputs": [
    {
     "data": {
      "application/vnd.plotly.v1+json": {
       "config": {
        "plotlyServerURL": "https://plot.ly"
       },
       "data": [
        {
         "hovertemplate": "Gender=Male<br>Time of class (pm)=10:30<br>Age=%{x}<br>Location=%{y}<extra></extra>",
         "legendgroup": "Male",
         "marker": {
          "color": "#1F77B4",
          "symbol": "circle"
         },
         "mode": "markers",
         "name": "Male",
         "orientation": "v",
         "showlegend": true,
         "type": "scatter",
         "x": [
          "16-30",
          "30-40",
          "16-30",
          "30-40",
          "16-30",
          "16-30",
          "30-40",
          "30-40",
          "16-30",
          "16-30",
          ">50",
          "16-30",
          "16-30",
          "16-30",
          "30-40",
          "30-40",
          "16-30",
          "16-30",
          "16-30",
          "30-40",
          "16-30",
          "40-50",
          "16-30",
          "16-30",
          "30-40",
          "16-30",
          "16-30",
          "16-30",
          "16-30",
          "16-30",
          "16-30",
          "16-30",
          "16-30",
          "16-30",
          "16-30",
          "16-30",
          "16-30",
          "16-30",
          "16-30",
          "16-30",
          "40-50",
          "30-40",
          "30-40",
          ">50",
          "16-30",
          "16-30",
          "16-30",
          "16-30",
          "16-30",
          "16-30",
          "30-40",
          "16-30",
          "15-Jan",
          "30-40",
          "16-30",
          "16-30",
          "16-30",
          "30-40",
          "40-50",
          "16-30",
          "16-30",
          "16-30",
          "16-30",
          "16-30",
          "16-30",
          "16-30",
          "16-30",
          "16-30",
          "16-30",
          "30-40",
          "30-40",
          "16-30",
          "16-30",
          "16-30",
          "30-40",
          "30-40",
          "16-30",
          "16-30",
          "16-30",
          "16-30",
          "16-30",
          "16-30",
          "30-40",
          "16-30",
          "30-40",
          "16-30",
          "16-30",
          "16-30",
          "16-30",
          "16-30",
          "16-30",
          "16-30",
          "16-30",
          "16-30",
          "16-30",
          "16-30",
          "16-30",
          "16-30"
         ],
         "xaxis": "x",
         "y": [
          "Pakistan",
          "Pakistan",
          "West",
          "Pakistan",
          "Pakistan",
          "West",
          "Pakistan",
          "Pakistan",
          "Pakistan",
          "Pakistan",
          "Pakistan",
          "Pakistan",
          "Pakistan",
          "West",
          "West",
          "Pakistan",
          "Pakistan",
          "Pakistan",
          "West",
          "Pakistan",
          "Pakistan",
          "West",
          "Pakistan",
          "Pakistan",
          "East",
          "West",
          "Pakistan",
          "Pakistan",
          "Pakistan",
          "Pakistan",
          "Pakistan",
          "Pakistan",
          "East",
          "Pakistan",
          "Pakistan",
          "Pakistan",
          "West",
          "Pakistan",
          "Pakistan",
          "Pakistan",
          "Pakistan",
          "West",
          "Pakistan",
          "West",
          "Pakistan",
          "Pakistan",
          "Pakistan",
          "Pakistan",
          "Pakistan",
          "Pakistan",
          "Pakistan",
          "Pakistan",
          "West",
          "West",
          "Pakistan",
          "Pakistan",
          "Pakistan",
          "Pakistan",
          "Pakistan",
          "Pakistan",
          "Pakistan",
          "Pakistan",
          "Pakistan",
          "Pakistan",
          "Pakistan",
          "Pakistan",
          "Pakistan",
          "Pakistan",
          "Pakistan",
          "Pakistan",
          "West",
          "Pakistan",
          "Pakistan",
          "Pakistan",
          "Pakistan",
          "Pakistan",
          "Pakistan",
          "West",
          "Pakistan",
          "Pakistan",
          "Pakistan",
          "Pakistan",
          "West",
          "Pakistan",
          "Pakistan",
          "Pakistan",
          "West",
          "Pakistan",
          "Pakistan",
          "Pakistan",
          "Pakistan",
          "Pakistan",
          "Pakistan",
          "Pakistan",
          "Pakistan",
          "West",
          "Pakistan",
          "Pakistan"
         ],
         "yaxis": "y"
        },
        {
         "alignmentgroup": "True",
         "hovertemplate": "Gender=Male<br>Time of class (pm)=10:30<br>Age=%{x}<extra></extra>",
         "legendgroup": "Male",
         "marker": {
          "color": "#1F77B4",
          "symbol": "circle"
         },
         "name": "Male",
         "notched": true,
         "offsetgroup": "Male",
         "showlegend": false,
         "type": "box",
         "x": [
          "16-30",
          "30-40",
          "16-30",
          "30-40",
          "16-30",
          "16-30",
          "30-40",
          "30-40",
          "16-30",
          "16-30",
          ">50",
          "16-30",
          "16-30",
          "16-30",
          "30-40",
          "30-40",
          "16-30",
          "16-30",
          "16-30",
          "30-40",
          "16-30",
          "40-50",
          "16-30",
          "16-30",
          "30-40",
          "16-30",
          "16-30",
          "16-30",
          "16-30",
          "16-30",
          "16-30",
          "16-30",
          "16-30",
          "16-30",
          "16-30",
          "16-30",
          "16-30",
          "16-30",
          "16-30",
          "16-30",
          "40-50",
          "30-40",
          "30-40",
          ">50",
          "16-30",
          "16-30",
          "16-30",
          "16-30",
          "16-30",
          "16-30",
          "30-40",
          "16-30",
          "15-Jan",
          "30-40",
          "16-30",
          "16-30",
          "16-30",
          "30-40",
          "40-50",
          "16-30",
          "16-30",
          "16-30",
          "16-30",
          "16-30",
          "16-30",
          "16-30",
          "16-30",
          "16-30",
          "16-30",
          "30-40",
          "30-40",
          "16-30",
          "16-30",
          "16-30",
          "30-40",
          "30-40",
          "16-30",
          "16-30",
          "16-30",
          "16-30",
          "16-30",
          "16-30",
          "30-40",
          "16-30",
          "30-40",
          "16-30",
          "16-30",
          "16-30",
          "16-30",
          "16-30",
          "16-30",
          "16-30",
          "16-30",
          "16-30",
          "16-30",
          "16-30",
          "16-30",
          "16-30"
         ],
         "xaxis": "x3",
         "yaxis": "y3"
        },
        {
         "alignmentgroup": "True",
         "hovertemplate": "Gender=Male<br>Time of class (pm)=10:30<br>Location=%{y}<extra></extra>",
         "legendgroup": "Male",
         "marker": {
          "color": "#1F77B4",
          "symbol": "circle"
         },
         "name": "Male",
         "offsetgroup": "Male",
         "scalegroup": "y",
         "showlegend": false,
         "type": "violin",
         "xaxis": "x2",
         "y": [
          "Pakistan",
          "Pakistan",
          "West",
          "Pakistan",
          "Pakistan",
          "West",
          "Pakistan",
          "Pakistan",
          "Pakistan",
          "Pakistan",
          "Pakistan",
          "Pakistan",
          "Pakistan",
          "West",
          "West",
          "Pakistan",
          "Pakistan",
          "Pakistan",
          "West",
          "Pakistan",
          "Pakistan",
          "West",
          "Pakistan",
          "Pakistan",
          "East",
          "West",
          "Pakistan",
          "Pakistan",
          "Pakistan",
          "Pakistan",
          "Pakistan",
          "Pakistan",
          "East",
          "Pakistan",
          "Pakistan",
          "Pakistan",
          "West",
          "Pakistan",
          "Pakistan",
          "Pakistan",
          "Pakistan",
          "West",
          "Pakistan",
          "West",
          "Pakistan",
          "Pakistan",
          "Pakistan",
          "Pakistan",
          "Pakistan",
          "Pakistan",
          "Pakistan",
          "Pakistan",
          "West",
          "West",
          "Pakistan",
          "Pakistan",
          "Pakistan",
          "Pakistan",
          "Pakistan",
          "Pakistan",
          "Pakistan",
          "Pakistan",
          "Pakistan",
          "Pakistan",
          "Pakistan",
          "Pakistan",
          "Pakistan",
          "Pakistan",
          "Pakistan",
          "Pakistan",
          "West",
          "Pakistan",
          "Pakistan",
          "Pakistan",
          "Pakistan",
          "Pakistan",
          "Pakistan",
          "West",
          "Pakistan",
          "Pakistan",
          "Pakistan",
          "Pakistan",
          "West",
          "Pakistan",
          "Pakistan",
          "Pakistan",
          "West",
          "Pakistan",
          "Pakistan",
          "Pakistan",
          "Pakistan",
          "Pakistan",
          "Pakistan",
          "Pakistan",
          "Pakistan",
          "West",
          "Pakistan",
          "Pakistan"
         ],
         "yaxis": "y2"
        },
        {
         "hovertemplate": "Gender=Female<br>Time of class (pm)=10:30<br>Age=%{x}<br>Location=%{y}<extra></extra>",
         "legendgroup": "Female",
         "marker": {
          "color": "#FF7F0E",
          "symbol": "circle"
         },
         "mode": "markers",
         "name": "Female",
         "orientation": "v",
         "showlegend": true,
         "type": "scatter",
         "x": [
          "16-30",
          "16-30",
          "16-30",
          "16-30",
          "30-40",
          "16-30",
          "16-30",
          "16-30",
          "16-30",
          "30-40",
          "30-40",
          "16-30",
          "30-40",
          "15-Jan",
          "30-40",
          "16-30",
          "16-30",
          "16-30",
          "30-40",
          "16-30",
          "16-30",
          "16-30",
          "16-30",
          "16-30",
          "16-30",
          "16-30",
          "16-30"
         ],
         "xaxis": "x",
         "y": [
          "Pakistan",
          "West",
          "Pakistan",
          "West",
          "Pakistan",
          "Pakistan",
          "Pakistan",
          "West",
          "Pakistan",
          "West",
          "Pakistan",
          "Pakistan",
          "Pakistan",
          "West",
          "Pakistan",
          "Pakistan",
          "West",
          "West",
          "Pakistan",
          "Pakistan",
          "West",
          "Pakistan",
          "Pakistan",
          "Pakistan",
          "Pakistan",
          "Pakistan",
          "Pakistan"
         ],
         "yaxis": "y"
        },
        {
         "alignmentgroup": "True",
         "hovertemplate": "Gender=Female<br>Time of class (pm)=10:30<br>Age=%{x}<extra></extra>",
         "legendgroup": "Female",
         "marker": {
          "color": "#FF7F0E",
          "symbol": "circle"
         },
         "name": "Female",
         "notched": true,
         "offsetgroup": "Female",
         "showlegend": false,
         "type": "box",
         "x": [
          "16-30",
          "16-30",
          "16-30",
          "16-30",
          "30-40",
          "16-30",
          "16-30",
          "16-30",
          "16-30",
          "30-40",
          "30-40",
          "16-30",
          "30-40",
          "15-Jan",
          "30-40",
          "16-30",
          "16-30",
          "16-30",
          "30-40",
          "16-30",
          "16-30",
          "16-30",
          "16-30",
          "16-30",
          "16-30",
          "16-30",
          "16-30"
         ],
         "xaxis": "x3",
         "yaxis": "y3"
        },
        {
         "alignmentgroup": "True",
         "hovertemplate": "Gender=Female<br>Time of class (pm)=10:30<br>Location=%{y}<extra></extra>",
         "legendgroup": "Female",
         "marker": {
          "color": "#FF7F0E",
          "symbol": "circle"
         },
         "name": "Female",
         "offsetgroup": "Female",
         "scalegroup": "y",
         "showlegend": false,
         "type": "violin",
         "xaxis": "x2",
         "y": [
          "Pakistan",
          "West",
          "Pakistan",
          "West",
          "Pakistan",
          "Pakistan",
          "Pakistan",
          "West",
          "Pakistan",
          "West",
          "Pakistan",
          "Pakistan",
          "Pakistan",
          "West",
          "Pakistan",
          "Pakistan",
          "West",
          "West",
          "Pakistan",
          "Pakistan",
          "West",
          "Pakistan",
          "Pakistan",
          "Pakistan",
          "Pakistan",
          "Pakistan",
          "Pakistan"
         ],
         "yaxis": "y2"
        }
       ],
       "frames": [
        {
         "data": [
          {
           "hovertemplate": "Gender=Male<br>Time of class (pm)=10:30<br>Age=%{x}<br>Location=%{y}<extra></extra>",
           "legendgroup": "Male",
           "marker": {
            "color": "#1F77B4",
            "symbol": "circle"
           },
           "mode": "markers",
           "name": "Male",
           "orientation": "v",
           "showlegend": true,
           "type": "scatter",
           "x": [
            "16-30",
            "30-40",
            "16-30",
            "30-40",
            "16-30",
            "16-30",
            "30-40",
            "30-40",
            "16-30",
            "16-30",
            ">50",
            "16-30",
            "16-30",
            "16-30",
            "30-40",
            "30-40",
            "16-30",
            "16-30",
            "16-30",
            "30-40",
            "16-30",
            "40-50",
            "16-30",
            "16-30",
            "30-40",
            "16-30",
            "16-30",
            "16-30",
            "16-30",
            "16-30",
            "16-30",
            "16-30",
            "16-30",
            "16-30",
            "16-30",
            "16-30",
            "16-30",
            "16-30",
            "16-30",
            "16-30",
            "40-50",
            "30-40",
            "30-40",
            ">50",
            "16-30",
            "16-30",
            "16-30",
            "16-30",
            "16-30",
            "16-30",
            "30-40",
            "16-30",
            "15-Jan",
            "30-40",
            "16-30",
            "16-30",
            "16-30",
            "30-40",
            "40-50",
            "16-30",
            "16-30",
            "16-30",
            "16-30",
            "16-30",
            "16-30",
            "16-30",
            "16-30",
            "16-30",
            "16-30",
            "30-40",
            "30-40",
            "16-30",
            "16-30",
            "16-30",
            "30-40",
            "30-40",
            "16-30",
            "16-30",
            "16-30",
            "16-30",
            "16-30",
            "16-30",
            "30-40",
            "16-30",
            "30-40",
            "16-30",
            "16-30",
            "16-30",
            "16-30",
            "16-30",
            "16-30",
            "16-30",
            "16-30",
            "16-30",
            "16-30",
            "16-30",
            "16-30",
            "16-30"
           ],
           "xaxis": "x",
           "y": [
            "Pakistan",
            "Pakistan",
            "West",
            "Pakistan",
            "Pakistan",
            "West",
            "Pakistan",
            "Pakistan",
            "Pakistan",
            "Pakistan",
            "Pakistan",
            "Pakistan",
            "Pakistan",
            "West",
            "West",
            "Pakistan",
            "Pakistan",
            "Pakistan",
            "West",
            "Pakistan",
            "Pakistan",
            "West",
            "Pakistan",
            "Pakistan",
            "East",
            "West",
            "Pakistan",
            "Pakistan",
            "Pakistan",
            "Pakistan",
            "Pakistan",
            "Pakistan",
            "East",
            "Pakistan",
            "Pakistan",
            "Pakistan",
            "West",
            "Pakistan",
            "Pakistan",
            "Pakistan",
            "Pakistan",
            "West",
            "Pakistan",
            "West",
            "Pakistan",
            "Pakistan",
            "Pakistan",
            "Pakistan",
            "Pakistan",
            "Pakistan",
            "Pakistan",
            "Pakistan",
            "West",
            "West",
            "Pakistan",
            "Pakistan",
            "Pakistan",
            "Pakistan",
            "Pakistan",
            "Pakistan",
            "Pakistan",
            "Pakistan",
            "Pakistan",
            "Pakistan",
            "Pakistan",
            "Pakistan",
            "Pakistan",
            "Pakistan",
            "Pakistan",
            "Pakistan",
            "West",
            "Pakistan",
            "Pakistan",
            "Pakistan",
            "Pakistan",
            "Pakistan",
            "Pakistan",
            "West",
            "Pakistan",
            "Pakistan",
            "Pakistan",
            "Pakistan",
            "West",
            "Pakistan",
            "Pakistan",
            "Pakistan",
            "West",
            "Pakistan",
            "Pakistan",
            "Pakistan",
            "Pakistan",
            "Pakistan",
            "Pakistan",
            "Pakistan",
            "Pakistan",
            "West",
            "Pakistan",
            "Pakistan"
           ],
           "yaxis": "y"
          },
          {
           "alignmentgroup": "True",
           "hovertemplate": "Gender=Male<br>Time of class (pm)=10:30<br>Age=%{x}<extra></extra>",
           "legendgroup": "Male",
           "marker": {
            "color": "#1F77B4",
            "symbol": "circle"
           },
           "name": "Male",
           "notched": true,
           "offsetgroup": "Male",
           "showlegend": false,
           "type": "box",
           "x": [
            "16-30",
            "30-40",
            "16-30",
            "30-40",
            "16-30",
            "16-30",
            "30-40",
            "30-40",
            "16-30",
            "16-30",
            ">50",
            "16-30",
            "16-30",
            "16-30",
            "30-40",
            "30-40",
            "16-30",
            "16-30",
            "16-30",
            "30-40",
            "16-30",
            "40-50",
            "16-30",
            "16-30",
            "30-40",
            "16-30",
            "16-30",
            "16-30",
            "16-30",
            "16-30",
            "16-30",
            "16-30",
            "16-30",
            "16-30",
            "16-30",
            "16-30",
            "16-30",
            "16-30",
            "16-30",
            "16-30",
            "40-50",
            "30-40",
            "30-40",
            ">50",
            "16-30",
            "16-30",
            "16-30",
            "16-30",
            "16-30",
            "16-30",
            "30-40",
            "16-30",
            "15-Jan",
            "30-40",
            "16-30",
            "16-30",
            "16-30",
            "30-40",
            "40-50",
            "16-30",
            "16-30",
            "16-30",
            "16-30",
            "16-30",
            "16-30",
            "16-30",
            "16-30",
            "16-30",
            "16-30",
            "30-40",
            "30-40",
            "16-30",
            "16-30",
            "16-30",
            "30-40",
            "30-40",
            "16-30",
            "16-30",
            "16-30",
            "16-30",
            "16-30",
            "16-30",
            "30-40",
            "16-30",
            "30-40",
            "16-30",
            "16-30",
            "16-30",
            "16-30",
            "16-30",
            "16-30",
            "16-30",
            "16-30",
            "16-30",
            "16-30",
            "16-30",
            "16-30",
            "16-30"
           ],
           "xaxis": "x3",
           "yaxis": "y3"
          },
          {
           "alignmentgroup": "True",
           "hovertemplate": "Gender=Male<br>Time of class (pm)=10:30<br>Location=%{y}<extra></extra>",
           "legendgroup": "Male",
           "marker": {
            "color": "#1F77B4",
            "symbol": "circle"
           },
           "name": "Male",
           "offsetgroup": "Male",
           "scalegroup": "y",
           "showlegend": false,
           "type": "violin",
           "xaxis": "x2",
           "y": [
            "Pakistan",
            "Pakistan",
            "West",
            "Pakistan",
            "Pakistan",
            "West",
            "Pakistan",
            "Pakistan",
            "Pakistan",
            "Pakistan",
            "Pakistan",
            "Pakistan",
            "Pakistan",
            "West",
            "West",
            "Pakistan",
            "Pakistan",
            "Pakistan",
            "West",
            "Pakistan",
            "Pakistan",
            "West",
            "Pakistan",
            "Pakistan",
            "East",
            "West",
            "Pakistan",
            "Pakistan",
            "Pakistan",
            "Pakistan",
            "Pakistan",
            "Pakistan",
            "East",
            "Pakistan",
            "Pakistan",
            "Pakistan",
            "West",
            "Pakistan",
            "Pakistan",
            "Pakistan",
            "Pakistan",
            "West",
            "Pakistan",
            "West",
            "Pakistan",
            "Pakistan",
            "Pakistan",
            "Pakistan",
            "Pakistan",
            "Pakistan",
            "Pakistan",
            "Pakistan",
            "West",
            "West",
            "Pakistan",
            "Pakistan",
            "Pakistan",
            "Pakistan",
            "Pakistan",
            "Pakistan",
            "Pakistan",
            "Pakistan",
            "Pakistan",
            "Pakistan",
            "Pakistan",
            "Pakistan",
            "Pakistan",
            "Pakistan",
            "Pakistan",
            "Pakistan",
            "West",
            "Pakistan",
            "Pakistan",
            "Pakistan",
            "Pakistan",
            "Pakistan",
            "Pakistan",
            "West",
            "Pakistan",
            "Pakistan",
            "Pakistan",
            "Pakistan",
            "West",
            "Pakistan",
            "Pakistan",
            "Pakistan",
            "West",
            "Pakistan",
            "Pakistan",
            "Pakistan",
            "Pakistan",
            "Pakistan",
            "Pakistan",
            "Pakistan",
            "Pakistan",
            "West",
            "Pakistan",
            "Pakistan"
           ],
           "yaxis": "y2"
          },
          {
           "hovertemplate": "Gender=Female<br>Time of class (pm)=10:30<br>Age=%{x}<br>Location=%{y}<extra></extra>",
           "legendgroup": "Female",
           "marker": {
            "color": "#FF7F0E",
            "symbol": "circle"
           },
           "mode": "markers",
           "name": "Female",
           "orientation": "v",
           "showlegend": true,
           "type": "scatter",
           "x": [
            "16-30",
            "16-30",
            "16-30",
            "16-30",
            "30-40",
            "16-30",
            "16-30",
            "16-30",
            "16-30",
            "30-40",
            "30-40",
            "16-30",
            "30-40",
            "15-Jan",
            "30-40",
            "16-30",
            "16-30",
            "16-30",
            "30-40",
            "16-30",
            "16-30",
            "16-30",
            "16-30",
            "16-30",
            "16-30",
            "16-30",
            "16-30"
           ],
           "xaxis": "x",
           "y": [
            "Pakistan",
            "West",
            "Pakistan",
            "West",
            "Pakistan",
            "Pakistan",
            "Pakistan",
            "West",
            "Pakistan",
            "West",
            "Pakistan",
            "Pakistan",
            "Pakistan",
            "West",
            "Pakistan",
            "Pakistan",
            "West",
            "West",
            "Pakistan",
            "Pakistan",
            "West",
            "Pakistan",
            "Pakistan",
            "Pakistan",
            "Pakistan",
            "Pakistan",
            "Pakistan"
           ],
           "yaxis": "y"
          },
          {
           "alignmentgroup": "True",
           "hovertemplate": "Gender=Female<br>Time of class (pm)=10:30<br>Age=%{x}<extra></extra>",
           "legendgroup": "Female",
           "marker": {
            "color": "#FF7F0E",
            "symbol": "circle"
           },
           "name": "Female",
           "notched": true,
           "offsetgroup": "Female",
           "showlegend": false,
           "type": "box",
           "x": [
            "16-30",
            "16-30",
            "16-30",
            "16-30",
            "30-40",
            "16-30",
            "16-30",
            "16-30",
            "16-30",
            "30-40",
            "30-40",
            "16-30",
            "30-40",
            "15-Jan",
            "30-40",
            "16-30",
            "16-30",
            "16-30",
            "30-40",
            "16-30",
            "16-30",
            "16-30",
            "16-30",
            "16-30",
            "16-30",
            "16-30",
            "16-30"
           ],
           "xaxis": "x3",
           "yaxis": "y3"
          },
          {
           "alignmentgroup": "True",
           "hovertemplate": "Gender=Female<br>Time of class (pm)=10:30<br>Location=%{y}<extra></extra>",
           "legendgroup": "Female",
           "marker": {
            "color": "#FF7F0E",
            "symbol": "circle"
           },
           "name": "Female",
           "offsetgroup": "Female",
           "scalegroup": "y",
           "showlegend": false,
           "type": "violin",
           "xaxis": "x2",
           "y": [
            "Pakistan",
            "West",
            "Pakistan",
            "West",
            "Pakistan",
            "Pakistan",
            "Pakistan",
            "West",
            "Pakistan",
            "West",
            "Pakistan",
            "Pakistan",
            "Pakistan",
            "West",
            "Pakistan",
            "Pakistan",
            "West",
            "West",
            "Pakistan",
            "Pakistan",
            "West",
            "Pakistan",
            "Pakistan",
            "Pakistan",
            "Pakistan",
            "Pakistan",
            "Pakistan"
           ],
           "yaxis": "y2"
          }
         ],
         "name": "10:30"
        },
        {
         "data": [
          {
           "hovertemplate": "Gender=Male<br>Time of class (pm)=10:00<br>Age=%{x}<br>Location=%{y}<extra></extra>",
           "legendgroup": "Male",
           "marker": {
            "color": "#1F77B4",
            "symbol": "circle"
           },
           "mode": "markers",
           "name": "Male",
           "orientation": "v",
           "showlegend": true,
           "type": "scatter",
           "x": [
            "16-30",
            "16-30",
            "16-30",
            "16-30",
            "16-30",
            "16-30",
            "16-30",
            "30-40",
            "16-30",
            "16-30",
            "16-30",
            "30-40",
            "16-30",
            "16-30",
            "30-40",
            "16-30",
            "16-30",
            "30-40",
            "16-30",
            "16-30",
            "16-30",
            "30-40",
            "16-30",
            "16-30",
            "30-40",
            "30-40",
            "16-30",
            "16-30",
            "30-40",
            "16-30",
            "16-30",
            "16-30",
            "30-40",
            "30-40",
            "16-30",
            "16-30",
            "40-50",
            "16-30",
            "16-30",
            "16-30",
            "40-50",
            "16-30",
            "30-40",
            "16-30",
            "16-30",
            "30-40",
            ">50",
            "30-40",
            "30-40",
            "30-40",
            "16-30",
            "16-30",
            "16-30",
            "30-40",
            "16-30",
            "30-40",
            "16-30",
            "16-30",
            "16-30",
            "30-40",
            "16-30",
            "16-30",
            "40-50",
            "16-30",
            "16-30",
            "16-30",
            "16-30",
            "30-40",
            "16-30",
            "16-30",
            "16-30",
            "16-30",
            "16-30",
            "16-30",
            "16-30",
            "16-30",
            "16-30",
            "16-30",
            "16-30",
            "16-30"
           ],
           "xaxis": "x",
           "y": [
            "Pakistan",
            "Pakistan",
            "Pakistan",
            "Pakistan",
            "Pakistan",
            "Pakistan",
            "Pakistan",
            "Pakistan",
            "Pakistan",
            "Pakistan",
            "Pakistan",
            "West",
            "Pakistan",
            "Pakistan",
            "Pakistan",
            "Pakistan",
            "Pakistan",
            "Pakistan",
            "Pakistan",
            "Pakistan",
            "Pakistan",
            "Pakistan",
            "Pakistan",
            "West",
            "Pakistan",
            "Pakistan",
            "Pakistan",
            "Pakistan",
            "Pakistan",
            "Pakistan",
            "Pakistan",
            "Pakistan",
            "Pakistan",
            "Pakistan",
            "Pakistan",
            "Pakistan",
            "Pakistan",
            "Pakistan",
            "Pakistan",
            "Pakistan",
            "Pakistan",
            "Pakistan",
            "Pakistan",
            "Pakistan",
            "Pakistan",
            "Pakistan",
            "Pakistan",
            "Pakistan",
            "Pakistan",
            "Pakistan",
            "Pakistan",
            "Pakistan",
            "Pakistan",
            "Pakistan",
            "Pakistan",
            "Pakistan",
            "Pakistan",
            "Pakistan",
            "Pakistan",
            "Pakistan",
            "Pakistan",
            "Pakistan",
            "Pakistan",
            "Pakistan",
            "Pakistan",
            "West",
            "Pakistan",
            "West",
            "West",
            "Pakistan",
            "Pakistan",
            "Pakistan",
            "Pakistan",
            "Pakistan",
            "Pakistan",
            "Pakistan",
            "Pakistan",
            "Pakistan",
            "Pakistan",
            "Pakistan"
           ],
           "yaxis": "y"
          },
          {
           "alignmentgroup": "True",
           "hovertemplate": "Gender=Male<br>Time of class (pm)=10:00<br>Age=%{x}<extra></extra>",
           "legendgroup": "Male",
           "marker": {
            "color": "#1F77B4",
            "symbol": "circle"
           },
           "name": "Male",
           "notched": true,
           "offsetgroup": "Male",
           "showlegend": false,
           "type": "box",
           "x": [
            "16-30",
            "16-30",
            "16-30",
            "16-30",
            "16-30",
            "16-30",
            "16-30",
            "30-40",
            "16-30",
            "16-30",
            "16-30",
            "30-40",
            "16-30",
            "16-30",
            "30-40",
            "16-30",
            "16-30",
            "30-40",
            "16-30",
            "16-30",
            "16-30",
            "30-40",
            "16-30",
            "16-30",
            "30-40",
            "30-40",
            "16-30",
            "16-30",
            "30-40",
            "16-30",
            "16-30",
            "16-30",
            "30-40",
            "30-40",
            "16-30",
            "16-30",
            "40-50",
            "16-30",
            "16-30",
            "16-30",
            "40-50",
            "16-30",
            "30-40",
            "16-30",
            "16-30",
            "30-40",
            ">50",
            "30-40",
            "30-40",
            "30-40",
            "16-30",
            "16-30",
            "16-30",
            "30-40",
            "16-30",
            "30-40",
            "16-30",
            "16-30",
            "16-30",
            "30-40",
            "16-30",
            "16-30",
            "40-50",
            "16-30",
            "16-30",
            "16-30",
            "16-30",
            "30-40",
            "16-30",
            "16-30",
            "16-30",
            "16-30",
            "16-30",
            "16-30",
            "16-30",
            "16-30",
            "16-30",
            "16-30",
            "16-30",
            "16-30"
           ],
           "xaxis": "x3",
           "yaxis": "y3"
          },
          {
           "alignmentgroup": "True",
           "hovertemplate": "Gender=Male<br>Time of class (pm)=10:00<br>Location=%{y}<extra></extra>",
           "legendgroup": "Male",
           "marker": {
            "color": "#1F77B4",
            "symbol": "circle"
           },
           "name": "Male",
           "offsetgroup": "Male",
           "scalegroup": "y",
           "showlegend": false,
           "type": "violin",
           "xaxis": "x2",
           "y": [
            "Pakistan",
            "Pakistan",
            "Pakistan",
            "Pakistan",
            "Pakistan",
            "Pakistan",
            "Pakistan",
            "Pakistan",
            "Pakistan",
            "Pakistan",
            "Pakistan",
            "West",
            "Pakistan",
            "Pakistan",
            "Pakistan",
            "Pakistan",
            "Pakistan",
            "Pakistan",
            "Pakistan",
            "Pakistan",
            "Pakistan",
            "Pakistan",
            "Pakistan",
            "West",
            "Pakistan",
            "Pakistan",
            "Pakistan",
            "Pakistan",
            "Pakistan",
            "Pakistan",
            "Pakistan",
            "Pakistan",
            "Pakistan",
            "Pakistan",
            "Pakistan",
            "Pakistan",
            "Pakistan",
            "Pakistan",
            "Pakistan",
            "Pakistan",
            "Pakistan",
            "Pakistan",
            "Pakistan",
            "Pakistan",
            "Pakistan",
            "Pakistan",
            "Pakistan",
            "Pakistan",
            "Pakistan",
            "Pakistan",
            "Pakistan",
            "Pakistan",
            "Pakistan",
            "Pakistan",
            "Pakistan",
            "Pakistan",
            "Pakistan",
            "Pakistan",
            "Pakistan",
            "Pakistan",
            "Pakistan",
            "Pakistan",
            "Pakistan",
            "Pakistan",
            "Pakistan",
            "West",
            "Pakistan",
            "West",
            "West",
            "Pakistan",
            "Pakistan",
            "Pakistan",
            "Pakistan",
            "Pakistan",
            "Pakistan",
            "Pakistan",
            "Pakistan",
            "Pakistan",
            "Pakistan",
            "Pakistan"
           ],
           "yaxis": "y2"
          },
          {
           "hovertemplate": "Gender=Female<br>Time of class (pm)=10:00<br>Age=%{x}<br>Location=%{y}<extra></extra>",
           "legendgroup": "Female",
           "marker": {
            "color": "#FF7F0E",
            "symbol": "circle"
           },
           "mode": "markers",
           "name": "Female",
           "orientation": "v",
           "showlegend": true,
           "type": "scatter",
           "x": [
            "16-30",
            "16-30",
            "16-30",
            "30-40",
            "16-30",
            "30-40",
            "30-40",
            "16-30",
            "16-30",
            "16-30",
            "16-30",
            "16-30",
            "16-30",
            "16-30",
            "16-30",
            "16-30",
            "16-30",
            "16-30",
            "30-40"
           ],
           "xaxis": "x",
           "y": [
            "Pakistan",
            "Pakistan",
            "Pakistan",
            "Pakistan",
            "Pakistan",
            "Pakistan",
            "Pakistan",
            "Pakistan",
            "Pakistan",
            "Pakistan",
            "Pakistan",
            "Pakistan",
            "Pakistan",
            "Pakistan",
            "Pakistan",
            "Pakistan",
            "East",
            "West",
            "Pakistan"
           ],
           "yaxis": "y"
          },
          {
           "alignmentgroup": "True",
           "hovertemplate": "Gender=Female<br>Time of class (pm)=10:00<br>Age=%{x}<extra></extra>",
           "legendgroup": "Female",
           "marker": {
            "color": "#FF7F0E",
            "symbol": "circle"
           },
           "name": "Female",
           "notched": true,
           "offsetgroup": "Female",
           "showlegend": false,
           "type": "box",
           "x": [
            "16-30",
            "16-30",
            "16-30",
            "30-40",
            "16-30",
            "30-40",
            "30-40",
            "16-30",
            "16-30",
            "16-30",
            "16-30",
            "16-30",
            "16-30",
            "16-30",
            "16-30",
            "16-30",
            "16-30",
            "16-30",
            "30-40"
           ],
           "xaxis": "x3",
           "yaxis": "y3"
          },
          {
           "alignmentgroup": "True",
           "hovertemplate": "Gender=Female<br>Time of class (pm)=10:00<br>Location=%{y}<extra></extra>",
           "legendgroup": "Female",
           "marker": {
            "color": "#FF7F0E",
            "symbol": "circle"
           },
           "name": "Female",
           "offsetgroup": "Female",
           "scalegroup": "y",
           "showlegend": false,
           "type": "violin",
           "xaxis": "x2",
           "y": [
            "Pakistan",
            "Pakistan",
            "Pakistan",
            "Pakistan",
            "Pakistan",
            "Pakistan",
            "Pakistan",
            "Pakistan",
            "Pakistan",
            "Pakistan",
            "Pakistan",
            "Pakistan",
            "Pakistan",
            "Pakistan",
            "Pakistan",
            "Pakistan",
            "East",
            "West",
            "Pakistan"
           ],
           "yaxis": "y2"
          }
         ],
         "name": "10:00"
        },
        {
         "data": [
          {
           "hovertemplate": "Gender=Male<br>Time of class (pm)=09:30<br>Age=%{x}<br>Location=%{y}<extra></extra>",
           "legendgroup": "Male",
           "marker": {
            "color": "#1F77B4",
            "symbol": "circle"
           },
           "mode": "markers",
           "name": "Male",
           "orientation": "v",
           "showlegend": true,
           "type": "scatter",
           "x": [
            "30-40",
            "16-30",
            "16-30",
            "16-30",
            "16-30",
            "30-40",
            "16-30",
            "16-30",
            "30-40",
            "16-30",
            "16-30",
            "16-30",
            "16-30",
            "16-30",
            "30-40",
            "16-30",
            "40-50",
            "16-30",
            "16-30",
            "30-40",
            "16-30",
            "30-40",
            "30-40",
            "16-30",
            "30-40",
            "16-30",
            "16-30",
            "16-30",
            "16-30",
            "16-30",
            "16-30",
            "16-30",
            "30-40",
            "16-30",
            "16-30",
            "16-30",
            "16-30",
            "16-30",
            "16-30",
            "16-30",
            "30-40",
            "16-30",
            "16-30",
            "16-30",
            "16-30",
            "30-40",
            "30-40",
            "16-30",
            "30-40",
            "16-30",
            "30-40",
            "30-40",
            "30-40",
            "16-30",
            "16-30",
            "16-30",
            "16-30",
            "16-30",
            "16-30",
            "16-30",
            "16-30",
            "30-40",
            "16-30",
            "16-30",
            "16-30"
           ],
           "xaxis": "x",
           "y": [
            "Pakistan",
            "East",
            "Pakistan",
            "East",
            "Pakistan",
            "East",
            "East",
            "Pakistan",
            "Pakistan",
            "Pakistan",
            "East",
            "Pakistan",
            "Pakistan",
            "Pakistan",
            "Pakistan",
            "Pakistan",
            "Pakistan",
            "Pakistan",
            "Pakistan",
            "Pakistan",
            "Pakistan",
            "Pakistan",
            "West",
            "Pakistan",
            "East",
            "Pakistan",
            "Pakistan",
            "Pakistan",
            "Pakistan",
            "West",
            "Pakistan",
            "Pakistan",
            "Pakistan",
            "Pakistan",
            "Pakistan",
            "Pakistan",
            "Pakistan",
            "Pakistan",
            "Pakistan",
            "Pakistan",
            "Pakistan",
            "Pakistan",
            "Pakistan",
            "East",
            "Pakistan",
            "Pakistan",
            "Pakistan",
            "Pakistan",
            "Pakistan",
            "Pakistan",
            "East",
            "Pakistan",
            "Pakistan",
            "Pakistan",
            "Pakistan",
            "Pakistan",
            "Pakistan",
            "Pakistan",
            "East",
            "East",
            "Pakistan",
            "Pakistan",
            "Pakistan",
            "Pakistan",
            "Pakistan"
           ],
           "yaxis": "y"
          },
          {
           "alignmentgroup": "True",
           "hovertemplate": "Gender=Male<br>Time of class (pm)=09:30<br>Age=%{x}<extra></extra>",
           "legendgroup": "Male",
           "marker": {
            "color": "#1F77B4",
            "symbol": "circle"
           },
           "name": "Male",
           "notched": true,
           "offsetgroup": "Male",
           "showlegend": false,
           "type": "box",
           "x": [
            "30-40",
            "16-30",
            "16-30",
            "16-30",
            "16-30",
            "30-40",
            "16-30",
            "16-30",
            "30-40",
            "16-30",
            "16-30",
            "16-30",
            "16-30",
            "16-30",
            "30-40",
            "16-30",
            "40-50",
            "16-30",
            "16-30",
            "30-40",
            "16-30",
            "30-40",
            "30-40",
            "16-30",
            "30-40",
            "16-30",
            "16-30",
            "16-30",
            "16-30",
            "16-30",
            "16-30",
            "16-30",
            "30-40",
            "16-30",
            "16-30",
            "16-30",
            "16-30",
            "16-30",
            "16-30",
            "16-30",
            "30-40",
            "16-30",
            "16-30",
            "16-30",
            "16-30",
            "30-40",
            "30-40",
            "16-30",
            "30-40",
            "16-30",
            "30-40",
            "30-40",
            "30-40",
            "16-30",
            "16-30",
            "16-30",
            "16-30",
            "16-30",
            "16-30",
            "16-30",
            "16-30",
            "30-40",
            "16-30",
            "16-30",
            "16-30"
           ],
           "xaxis": "x3",
           "yaxis": "y3"
          },
          {
           "alignmentgroup": "True",
           "hovertemplate": "Gender=Male<br>Time of class (pm)=09:30<br>Location=%{y}<extra></extra>",
           "legendgroup": "Male",
           "marker": {
            "color": "#1F77B4",
            "symbol": "circle"
           },
           "name": "Male",
           "offsetgroup": "Male",
           "scalegroup": "y",
           "showlegend": false,
           "type": "violin",
           "xaxis": "x2",
           "y": [
            "Pakistan",
            "East",
            "Pakistan",
            "East",
            "Pakistan",
            "East",
            "East",
            "Pakistan",
            "Pakistan",
            "Pakistan",
            "East",
            "Pakistan",
            "Pakistan",
            "Pakistan",
            "Pakistan",
            "Pakistan",
            "Pakistan",
            "Pakistan",
            "Pakistan",
            "Pakistan",
            "Pakistan",
            "Pakistan",
            "West",
            "Pakistan",
            "East",
            "Pakistan",
            "Pakistan",
            "Pakistan",
            "Pakistan",
            "West",
            "Pakistan",
            "Pakistan",
            "Pakistan",
            "Pakistan",
            "Pakistan",
            "Pakistan",
            "Pakistan",
            "Pakistan",
            "Pakistan",
            "Pakistan",
            "Pakistan",
            "Pakistan",
            "Pakistan",
            "East",
            "Pakistan",
            "Pakistan",
            "Pakistan",
            "Pakistan",
            "Pakistan",
            "Pakistan",
            "East",
            "Pakistan",
            "Pakistan",
            "Pakistan",
            "Pakistan",
            "Pakistan",
            "Pakistan",
            "Pakistan",
            "East",
            "East",
            "Pakistan",
            "Pakistan",
            "Pakistan",
            "Pakistan",
            "Pakistan"
           ],
           "yaxis": "y2"
          },
          {
           "hovertemplate": "Gender=Female<br>Time of class (pm)=09:30<br>Age=%{x}<br>Location=%{y}<extra></extra>",
           "legendgroup": "Female",
           "marker": {
            "color": "#FF7F0E",
            "symbol": "circle"
           },
           "mode": "markers",
           "name": "Female",
           "orientation": "v",
           "showlegend": true,
           "type": "scatter",
           "x": [
            "30-40",
            "16-30",
            "16-30",
            "16-30",
            "16-30",
            "16-30",
            "16-30",
            "16-30",
            "16-30",
            "16-30",
            "16-30",
            "16-30",
            "16-30",
            "16-30",
            "16-30",
            "16-30",
            "16-30"
           ],
           "xaxis": "x",
           "y": [
            "Pakistan",
            "East",
            "Pakistan",
            "Pakistan",
            "East",
            "Pakistan",
            "Pakistan",
            "Pakistan",
            "Pakistan",
            "Pakistan",
            "Pakistan",
            "Pakistan",
            "Pakistan",
            "Pakistan",
            "Pakistan",
            "Pakistan",
            "Pakistan"
           ],
           "yaxis": "y"
          },
          {
           "alignmentgroup": "True",
           "hovertemplate": "Gender=Female<br>Time of class (pm)=09:30<br>Age=%{x}<extra></extra>",
           "legendgroup": "Female",
           "marker": {
            "color": "#FF7F0E",
            "symbol": "circle"
           },
           "name": "Female",
           "notched": true,
           "offsetgroup": "Female",
           "showlegend": false,
           "type": "box",
           "x": [
            "30-40",
            "16-30",
            "16-30",
            "16-30",
            "16-30",
            "16-30",
            "16-30",
            "16-30",
            "16-30",
            "16-30",
            "16-30",
            "16-30",
            "16-30",
            "16-30",
            "16-30",
            "16-30",
            "16-30"
           ],
           "xaxis": "x3",
           "yaxis": "y3"
          },
          {
           "alignmentgroup": "True",
           "hovertemplate": "Gender=Female<br>Time of class (pm)=09:30<br>Location=%{y}<extra></extra>",
           "legendgroup": "Female",
           "marker": {
            "color": "#FF7F0E",
            "symbol": "circle"
           },
           "name": "Female",
           "offsetgroup": "Female",
           "scalegroup": "y",
           "showlegend": false,
           "type": "violin",
           "xaxis": "x2",
           "y": [
            "Pakistan",
            "East",
            "Pakistan",
            "Pakistan",
            "East",
            "Pakistan",
            "Pakistan",
            "Pakistan",
            "Pakistan",
            "Pakistan",
            "Pakistan",
            "Pakistan",
            "Pakistan",
            "Pakistan",
            "Pakistan",
            "Pakistan",
            "Pakistan"
           ],
           "yaxis": "y2"
          }
         ],
         "name": "09:30"
        }
       ],
       "layout": {
        "legend": {
         "title": {
          "text": "Gender"
         },
         "tracegroupgap": 0
        },
        "margin": {
         "t": 60
        },
        "sliders": [
         {
          "active": 0,
          "currentvalue": {
           "prefix": "Time of class (pm)="
          },
          "len": 0.9,
          "pad": {
           "b": 10,
           "t": 60
          },
          "steps": [
           {
            "args": [
             [
              "10:30"
             ],
             {
              "frame": {
               "duration": 0,
               "redraw": false
              },
              "fromcurrent": true,
              "mode": "immediate",
              "transition": {
               "duration": 0,
               "easing": "linear"
              }
             }
            ],
            "label": "10:30",
            "method": "animate"
           },
           {
            "args": [
             [
              "10:00"
             ],
             {
              "frame": {
               "duration": 0,
               "redraw": false
              },
              "fromcurrent": true,
              "mode": "immediate",
              "transition": {
               "duration": 0,
               "easing": "linear"
              }
             }
            ],
            "label": "10:00",
            "method": "animate"
           },
           {
            "args": [
             [
              "09:30"
             ],
             {
              "frame": {
               "duration": 0,
               "redraw": false
              },
              "fromcurrent": true,
              "mode": "immediate",
              "transition": {
               "duration": 0,
               "easing": "linear"
              }
             }
            ],
            "label": "09:30",
            "method": "animate"
           }
          ],
          "x": 0.1,
          "xanchor": "left",
          "y": 0,
          "yanchor": "top"
         }
        ],
        "template": {
         "data": {
          "bar": [
           {
            "error_x": {
             "color": "rgb(36,36,36)"
            },
            "error_y": {
             "color": "rgb(36,36,36)"
            },
            "marker": {
             "line": {
              "color": "white",
              "width": 0.5
             },
             "pattern": {
              "fillmode": "overlay",
              "size": 10,
              "solidity": 0.2
             }
            },
            "type": "bar"
           }
          ],
          "barpolar": [
           {
            "marker": {
             "line": {
              "color": "white",
              "width": 0.5
             },
             "pattern": {
              "fillmode": "overlay",
              "size": 10,
              "solidity": 0.2
             }
            },
            "type": "barpolar"
           }
          ],
          "carpet": [
           {
            "aaxis": {
             "endlinecolor": "rgb(36,36,36)",
             "gridcolor": "white",
             "linecolor": "white",
             "minorgridcolor": "white",
             "startlinecolor": "rgb(36,36,36)"
            },
            "baxis": {
             "endlinecolor": "rgb(36,36,36)",
             "gridcolor": "white",
             "linecolor": "white",
             "minorgridcolor": "white",
             "startlinecolor": "rgb(36,36,36)"
            },
            "type": "carpet"
           }
          ],
          "choropleth": [
           {
            "colorbar": {
             "outlinewidth": 1,
             "tickcolor": "rgb(36,36,36)",
             "ticks": "outside"
            },
            "type": "choropleth"
           }
          ],
          "contour": [
           {
            "colorbar": {
             "outlinewidth": 1,
             "tickcolor": "rgb(36,36,36)",
             "ticks": "outside"
            },
            "colorscale": [
             [
              0,
              "#440154"
             ],
             [
              0.1111111111111111,
              "#482878"
             ],
             [
              0.2222222222222222,
              "#3e4989"
             ],
             [
              0.3333333333333333,
              "#31688e"
             ],
             [
              0.4444444444444444,
              "#26828e"
             ],
             [
              0.5555555555555556,
              "#1f9e89"
             ],
             [
              0.6666666666666666,
              "#35b779"
             ],
             [
              0.7777777777777778,
              "#6ece58"
             ],
             [
              0.8888888888888888,
              "#b5de2b"
             ],
             [
              1,
              "#fde725"
             ]
            ],
            "type": "contour"
           }
          ],
          "contourcarpet": [
           {
            "colorbar": {
             "outlinewidth": 1,
             "tickcolor": "rgb(36,36,36)",
             "ticks": "outside"
            },
            "type": "contourcarpet"
           }
          ],
          "heatmap": [
           {
            "colorbar": {
             "outlinewidth": 1,
             "tickcolor": "rgb(36,36,36)",
             "ticks": "outside"
            },
            "colorscale": [
             [
              0,
              "#440154"
             ],
             [
              0.1111111111111111,
              "#482878"
             ],
             [
              0.2222222222222222,
              "#3e4989"
             ],
             [
              0.3333333333333333,
              "#31688e"
             ],
             [
              0.4444444444444444,
              "#26828e"
             ],
             [
              0.5555555555555556,
              "#1f9e89"
             ],
             [
              0.6666666666666666,
              "#35b779"
             ],
             [
              0.7777777777777778,
              "#6ece58"
             ],
             [
              0.8888888888888888,
              "#b5de2b"
             ],
             [
              1,
              "#fde725"
             ]
            ],
            "type": "heatmap"
           }
          ],
          "heatmapgl": [
           {
            "colorbar": {
             "outlinewidth": 1,
             "tickcolor": "rgb(36,36,36)",
             "ticks": "outside"
            },
            "colorscale": [
             [
              0,
              "#440154"
             ],
             [
              0.1111111111111111,
              "#482878"
             ],
             [
              0.2222222222222222,
              "#3e4989"
             ],
             [
              0.3333333333333333,
              "#31688e"
             ],
             [
              0.4444444444444444,
              "#26828e"
             ],
             [
              0.5555555555555556,
              "#1f9e89"
             ],
             [
              0.6666666666666666,
              "#35b779"
             ],
             [
              0.7777777777777778,
              "#6ece58"
             ],
             [
              0.8888888888888888,
              "#b5de2b"
             ],
             [
              1,
              "#fde725"
             ]
            ],
            "type": "heatmapgl"
           }
          ],
          "histogram": [
           {
            "marker": {
             "line": {
              "color": "white",
              "width": 0.6
             }
            },
            "type": "histogram"
           }
          ],
          "histogram2d": [
           {
            "colorbar": {
             "outlinewidth": 1,
             "tickcolor": "rgb(36,36,36)",
             "ticks": "outside"
            },
            "colorscale": [
             [
              0,
              "#440154"
             ],
             [
              0.1111111111111111,
              "#482878"
             ],
             [
              0.2222222222222222,
              "#3e4989"
             ],
             [
              0.3333333333333333,
              "#31688e"
             ],
             [
              0.4444444444444444,
              "#26828e"
             ],
             [
              0.5555555555555556,
              "#1f9e89"
             ],
             [
              0.6666666666666666,
              "#35b779"
             ],
             [
              0.7777777777777778,
              "#6ece58"
             ],
             [
              0.8888888888888888,
              "#b5de2b"
             ],
             [
              1,
              "#fde725"
             ]
            ],
            "type": "histogram2d"
           }
          ],
          "histogram2dcontour": [
           {
            "colorbar": {
             "outlinewidth": 1,
             "tickcolor": "rgb(36,36,36)",
             "ticks": "outside"
            },
            "colorscale": [
             [
              0,
              "#440154"
             ],
             [
              0.1111111111111111,
              "#482878"
             ],
             [
              0.2222222222222222,
              "#3e4989"
             ],
             [
              0.3333333333333333,
              "#31688e"
             ],
             [
              0.4444444444444444,
              "#26828e"
             ],
             [
              0.5555555555555556,
              "#1f9e89"
             ],
             [
              0.6666666666666666,
              "#35b779"
             ],
             [
              0.7777777777777778,
              "#6ece58"
             ],
             [
              0.8888888888888888,
              "#b5de2b"
             ],
             [
              1,
              "#fde725"
             ]
            ],
            "type": "histogram2dcontour"
           }
          ],
          "mesh3d": [
           {
            "colorbar": {
             "outlinewidth": 1,
             "tickcolor": "rgb(36,36,36)",
             "ticks": "outside"
            },
            "type": "mesh3d"
           }
          ],
          "parcoords": [
           {
            "line": {
             "colorbar": {
              "outlinewidth": 1,
              "tickcolor": "rgb(36,36,36)",
              "ticks": "outside"
             }
            },
            "type": "parcoords"
           }
          ],
          "pie": [
           {
            "automargin": true,
            "type": "pie"
           }
          ],
          "scatter": [
           {
            "marker": {
             "colorbar": {
              "outlinewidth": 1,
              "tickcolor": "rgb(36,36,36)",
              "ticks": "outside"
             }
            },
            "type": "scatter"
           }
          ],
          "scatter3d": [
           {
            "line": {
             "colorbar": {
              "outlinewidth": 1,
              "tickcolor": "rgb(36,36,36)",
              "ticks": "outside"
             }
            },
            "marker": {
             "colorbar": {
              "outlinewidth": 1,
              "tickcolor": "rgb(36,36,36)",
              "ticks": "outside"
             }
            },
            "type": "scatter3d"
           }
          ],
          "scattercarpet": [
           {
            "marker": {
             "colorbar": {
              "outlinewidth": 1,
              "tickcolor": "rgb(36,36,36)",
              "ticks": "outside"
             }
            },
            "type": "scattercarpet"
           }
          ],
          "scattergeo": [
           {
            "marker": {
             "colorbar": {
              "outlinewidth": 1,
              "tickcolor": "rgb(36,36,36)",
              "ticks": "outside"
             }
            },
            "type": "scattergeo"
           }
          ],
          "scattergl": [
           {
            "marker": {
             "colorbar": {
              "outlinewidth": 1,
              "tickcolor": "rgb(36,36,36)",
              "ticks": "outside"
             }
            },
            "type": "scattergl"
           }
          ],
          "scattermapbox": [
           {
            "marker": {
             "colorbar": {
              "outlinewidth": 1,
              "tickcolor": "rgb(36,36,36)",
              "ticks": "outside"
             }
            },
            "type": "scattermapbox"
           }
          ],
          "scatterpolar": [
           {
            "marker": {
             "colorbar": {
              "outlinewidth": 1,
              "tickcolor": "rgb(36,36,36)",
              "ticks": "outside"
             }
            },
            "type": "scatterpolar"
           }
          ],
          "scatterpolargl": [
           {
            "marker": {
             "colorbar": {
              "outlinewidth": 1,
              "tickcolor": "rgb(36,36,36)",
              "ticks": "outside"
             }
            },
            "type": "scatterpolargl"
           }
          ],
          "scatterternary": [
           {
            "marker": {
             "colorbar": {
              "outlinewidth": 1,
              "tickcolor": "rgb(36,36,36)",
              "ticks": "outside"
             }
            },
            "type": "scatterternary"
           }
          ],
          "surface": [
           {
            "colorbar": {
             "outlinewidth": 1,
             "tickcolor": "rgb(36,36,36)",
             "ticks": "outside"
            },
            "colorscale": [
             [
              0,
              "#440154"
             ],
             [
              0.1111111111111111,
              "#482878"
             ],
             [
              0.2222222222222222,
              "#3e4989"
             ],
             [
              0.3333333333333333,
              "#31688e"
             ],
             [
              0.4444444444444444,
              "#26828e"
             ],
             [
              0.5555555555555556,
              "#1f9e89"
             ],
             [
              0.6666666666666666,
              "#35b779"
             ],
             [
              0.7777777777777778,
              "#6ece58"
             ],
             [
              0.8888888888888888,
              "#b5de2b"
             ],
             [
              1,
              "#fde725"
             ]
            ],
            "type": "surface"
           }
          ],
          "table": [
           {
            "cells": {
             "fill": {
              "color": "rgb(237,237,237)"
             },
             "line": {
              "color": "white"
             }
            },
            "header": {
             "fill": {
              "color": "rgb(217,217,217)"
             },
             "line": {
              "color": "white"
             }
            },
            "type": "table"
           }
          ]
         },
         "layout": {
          "annotationdefaults": {
           "arrowhead": 0,
           "arrowwidth": 1
          },
          "autotypenumbers": "strict",
          "coloraxis": {
           "colorbar": {
            "outlinewidth": 1,
            "tickcolor": "rgb(36,36,36)",
            "ticks": "outside"
           }
          },
          "colorscale": {
           "diverging": [
            [
             0,
             "rgb(103,0,31)"
            ],
            [
             0.1,
             "rgb(178,24,43)"
            ],
            [
             0.2,
             "rgb(214,96,77)"
            ],
            [
             0.3,
             "rgb(244,165,130)"
            ],
            [
             0.4,
             "rgb(253,219,199)"
            ],
            [
             0.5,
             "rgb(247,247,247)"
            ],
            [
             0.6,
             "rgb(209,229,240)"
            ],
            [
             0.7,
             "rgb(146,197,222)"
            ],
            [
             0.8,
             "rgb(67,147,195)"
            ],
            [
             0.9,
             "rgb(33,102,172)"
            ],
            [
             1,
             "rgb(5,48,97)"
            ]
           ],
           "sequential": [
            [
             0,
             "#440154"
            ],
            [
             0.1111111111111111,
             "#482878"
            ],
            [
             0.2222222222222222,
             "#3e4989"
            ],
            [
             0.3333333333333333,
             "#31688e"
            ],
            [
             0.4444444444444444,
             "#26828e"
            ],
            [
             0.5555555555555556,
             "#1f9e89"
            ],
            [
             0.6666666666666666,
             "#35b779"
            ],
            [
             0.7777777777777778,
             "#6ece58"
            ],
            [
             0.8888888888888888,
             "#b5de2b"
            ],
            [
             1,
             "#fde725"
            ]
           ],
           "sequentialminus": [
            [
             0,
             "#440154"
            ],
            [
             0.1111111111111111,
             "#482878"
            ],
            [
             0.2222222222222222,
             "#3e4989"
            ],
            [
             0.3333333333333333,
             "#31688e"
            ],
            [
             0.4444444444444444,
             "#26828e"
            ],
            [
             0.5555555555555556,
             "#1f9e89"
            ],
            [
             0.6666666666666666,
             "#35b779"
            ],
            [
             0.7777777777777778,
             "#6ece58"
            ],
            [
             0.8888888888888888,
             "#b5de2b"
            ],
            [
             1,
             "#fde725"
            ]
           ]
          },
          "colorway": [
           "#1F77B4",
           "#FF7F0E",
           "#2CA02C",
           "#D62728",
           "#9467BD",
           "#8C564B",
           "#E377C2",
           "#7F7F7F",
           "#BCBD22",
           "#17BECF"
          ],
          "font": {
           "color": "rgb(36,36,36)"
          },
          "geo": {
           "bgcolor": "white",
           "lakecolor": "white",
           "landcolor": "white",
           "showlakes": true,
           "showland": true,
           "subunitcolor": "white"
          },
          "hoverlabel": {
           "align": "left"
          },
          "hovermode": "closest",
          "mapbox": {
           "style": "light"
          },
          "paper_bgcolor": "white",
          "plot_bgcolor": "white",
          "polar": {
           "angularaxis": {
            "gridcolor": "rgb(232,232,232)",
            "linecolor": "rgb(36,36,36)",
            "showgrid": false,
            "showline": true,
            "ticks": "outside"
           },
           "bgcolor": "white",
           "radialaxis": {
            "gridcolor": "rgb(232,232,232)",
            "linecolor": "rgb(36,36,36)",
            "showgrid": false,
            "showline": true,
            "ticks": "outside"
           }
          },
          "scene": {
           "xaxis": {
            "backgroundcolor": "white",
            "gridcolor": "rgb(232,232,232)",
            "gridwidth": 2,
            "linecolor": "rgb(36,36,36)",
            "showbackground": true,
            "showgrid": false,
            "showline": true,
            "ticks": "outside",
            "zeroline": false,
            "zerolinecolor": "rgb(36,36,36)"
           },
           "yaxis": {
            "backgroundcolor": "white",
            "gridcolor": "rgb(232,232,232)",
            "gridwidth": 2,
            "linecolor": "rgb(36,36,36)",
            "showbackground": true,
            "showgrid": false,
            "showline": true,
            "ticks": "outside",
            "zeroline": false,
            "zerolinecolor": "rgb(36,36,36)"
           },
           "zaxis": {
            "backgroundcolor": "white",
            "gridcolor": "rgb(232,232,232)",
            "gridwidth": 2,
            "linecolor": "rgb(36,36,36)",
            "showbackground": true,
            "showgrid": false,
            "showline": true,
            "ticks": "outside",
            "zeroline": false,
            "zerolinecolor": "rgb(36,36,36)"
           }
          },
          "shapedefaults": {
           "fillcolor": "black",
           "line": {
            "width": 0
           },
           "opacity": 0.3
          },
          "ternary": {
           "aaxis": {
            "gridcolor": "rgb(232,232,232)",
            "linecolor": "rgb(36,36,36)",
            "showgrid": false,
            "showline": true,
            "ticks": "outside"
           },
           "baxis": {
            "gridcolor": "rgb(232,232,232)",
            "linecolor": "rgb(36,36,36)",
            "showgrid": false,
            "showline": true,
            "ticks": "outside"
           },
           "bgcolor": "white",
           "caxis": {
            "gridcolor": "rgb(232,232,232)",
            "linecolor": "rgb(36,36,36)",
            "showgrid": false,
            "showline": true,
            "ticks": "outside"
           }
          },
          "title": {
           "x": 0.05
          },
          "xaxis": {
           "automargin": true,
           "gridcolor": "rgb(232,232,232)",
           "linecolor": "rgb(36,36,36)",
           "showgrid": false,
           "showline": true,
           "ticks": "outside",
           "title": {
            "standoff": 15
           },
           "zeroline": false,
           "zerolinecolor": "rgb(36,36,36)"
          },
          "yaxis": {
           "automargin": true,
           "gridcolor": "rgb(232,232,232)",
           "linecolor": "rgb(36,36,36)",
           "showgrid": false,
           "showline": true,
           "ticks": "outside",
           "title": {
            "standoff": 15
           },
           "zeroline": false,
           "zerolinecolor": "rgb(36,36,36)"
          }
         }
        },
        "updatemenus": [
         {
          "buttons": [
           {
            "args": [
             null,
             {
              "frame": {
               "duration": 500,
               "redraw": false
              },
              "fromcurrent": true,
              "mode": "immediate",
              "transition": {
               "duration": 500,
               "easing": "linear"
              }
             }
            ],
            "label": "&#9654;",
            "method": "animate"
           },
           {
            "args": [
             [
              null
             ],
             {
              "frame": {
               "duration": 0,
               "redraw": false
              },
              "fromcurrent": true,
              "mode": "immediate",
              "transition": {
               "duration": 0,
               "easing": "linear"
              }
             }
            ],
            "label": "&#9724;",
            "method": "animate"
           }
          ],
          "direction": "left",
          "pad": {
           "r": 10,
           "t": 70
          },
          "showactive": false,
          "type": "buttons",
          "x": 0.1,
          "xanchor": "right",
          "y": 0,
          "yanchor": "top"
         }
        ],
        "xaxis": {
         "anchor": "y",
         "domain": [
          0,
          0.7363
         ],
         "title": {
          "text": "Age"
         }
        },
        "xaxis2": {
         "anchor": "y2",
         "domain": [
          0.7413,
          1
         ],
         "matches": "x2",
         "showline": false,
         "showticklabels": false,
         "ticks": ""
        },
        "xaxis3": {
         "anchor": "y3",
         "domain": [
          0,
          0.7363
         ],
         "matches": "x",
         "showticklabels": false
        },
        "xaxis4": {
         "anchor": "y4",
         "domain": [
          0.7413,
          1
         ],
         "matches": "x2",
         "showline": false,
         "showticklabels": false,
         "ticks": ""
        },
        "yaxis": {
         "anchor": "x",
         "domain": [
          0,
          0.7326
         ],
         "title": {
          "text": "Location"
         }
        },
        "yaxis2": {
         "anchor": "x2",
         "domain": [
          0,
          0.7326
         ],
         "matches": "y",
         "showticklabels": false
        },
        "yaxis3": {
         "anchor": "x3",
         "domain": [
          0.7426,
          1
         ],
         "matches": "y3",
         "showline": false,
         "showticklabels": false,
         "ticks": ""
        },
        "yaxis4": {
         "anchor": "x4",
         "domain": [
          0.7426,
          1
         ],
         "matches": "y3",
         "showline": false,
         "showticklabels": false,
         "ticks": ""
        }
       }
      },
      "text/html": [
       "<div>                            <div id=\"31d9ae23-5350-4727-b838-90f30ad61842\" class=\"plotly-graph-div\" style=\"height:525px; width:100%;\"></div>            <script type=\"text/javascript\">                require([\"plotly\"], function(Plotly) {                    window.PLOTLYENV=window.PLOTLYENV || {};                                    if (document.getElementById(\"31d9ae23-5350-4727-b838-90f30ad61842\")) {                    Plotly.newPlot(                        \"31d9ae23-5350-4727-b838-90f30ad61842\",                        [{\"hovertemplate\":\"Gender=Male<br>Time of class (pm)=10:30<br>Age=%{x}<br>Location=%{y}<extra></extra>\",\"legendgroup\":\"Male\",\"marker\":{\"color\":\"#1F77B4\",\"symbol\":\"circle\"},\"mode\":\"markers\",\"name\":\"Male\",\"orientation\":\"v\",\"showlegend\":true,\"x\":[\"16-30\",\"30-40\",\"16-30\",\"30-40\",\"16-30\",\"16-30\",\"30-40\",\"30-40\",\"16-30\",\"16-30\",\">50\",\"16-30\",\"16-30\",\"16-30\",\"30-40\",\"30-40\",\"16-30\",\"16-30\",\"16-30\",\"30-40\",\"16-30\",\"40-50\",\"16-30\",\"16-30\",\"30-40\",\"16-30\",\"16-30\",\"16-30\",\"16-30\",\"16-30\",\"16-30\",\"16-30\",\"16-30\",\"16-30\",\"16-30\",\"16-30\",\"16-30\",\"16-30\",\"16-30\",\"16-30\",\"40-50\",\"30-40\",\"30-40\",\">50\",\"16-30\",\"16-30\",\"16-30\",\"16-30\",\"16-30\",\"16-30\",\"30-40\",\"16-30\",\"15-Jan\",\"30-40\",\"16-30\",\"16-30\",\"16-30\",\"30-40\",\"40-50\",\"16-30\",\"16-30\",\"16-30\",\"16-30\",\"16-30\",\"16-30\",\"16-30\",\"16-30\",\"16-30\",\"16-30\",\"30-40\",\"30-40\",\"16-30\",\"16-30\",\"16-30\",\"30-40\",\"30-40\",\"16-30\",\"16-30\",\"16-30\",\"16-30\",\"16-30\",\"16-30\",\"30-40\",\"16-30\",\"30-40\",\"16-30\",\"16-30\",\"16-30\",\"16-30\",\"16-30\",\"16-30\",\"16-30\",\"16-30\",\"16-30\",\"16-30\",\"16-30\",\"16-30\",\"16-30\"],\"xaxis\":\"x\",\"y\":[\"Pakistan\",\"Pakistan\",\"West\",\"Pakistan\",\"Pakistan\",\"West\",\"Pakistan\",\"Pakistan\",\"Pakistan\",\"Pakistan\",\"Pakistan\",\"Pakistan\",\"Pakistan\",\"West\",\"West\",\"Pakistan\",\"Pakistan\",\"Pakistan\",\"West\",\"Pakistan\",\"Pakistan\",\"West\",\"Pakistan\",\"Pakistan\",\"East\",\"West\",\"Pakistan\",\"Pakistan\",\"Pakistan\",\"Pakistan\",\"Pakistan\",\"Pakistan\",\"East\",\"Pakistan\",\"Pakistan\",\"Pakistan\",\"West\",\"Pakistan\",\"Pakistan\",\"Pakistan\",\"Pakistan\",\"West\",\"Pakistan\",\"West\",\"Pakistan\",\"Pakistan\",\"Pakistan\",\"Pakistan\",\"Pakistan\",\"Pakistan\",\"Pakistan\",\"Pakistan\",\"West\",\"West\",\"Pakistan\",\"Pakistan\",\"Pakistan\",\"Pakistan\",\"Pakistan\",\"Pakistan\",\"Pakistan\",\"Pakistan\",\"Pakistan\",\"Pakistan\",\"Pakistan\",\"Pakistan\",\"Pakistan\",\"Pakistan\",\"Pakistan\",\"Pakistan\",\"West\",\"Pakistan\",\"Pakistan\",\"Pakistan\",\"Pakistan\",\"Pakistan\",\"Pakistan\",\"West\",\"Pakistan\",\"Pakistan\",\"Pakistan\",\"Pakistan\",\"West\",\"Pakistan\",\"Pakistan\",\"Pakistan\",\"West\",\"Pakistan\",\"Pakistan\",\"Pakistan\",\"Pakistan\",\"Pakistan\",\"Pakistan\",\"Pakistan\",\"Pakistan\",\"West\",\"Pakistan\",\"Pakistan\"],\"yaxis\":\"y\",\"type\":\"scatter\"},{\"alignmentgroup\":\"True\",\"hovertemplate\":\"Gender=Male<br>Time of class (pm)=10:30<br>Age=%{x}<extra></extra>\",\"legendgroup\":\"Male\",\"marker\":{\"color\":\"#1F77B4\",\"symbol\":\"circle\"},\"name\":\"Male\",\"notched\":true,\"offsetgroup\":\"Male\",\"showlegend\":false,\"x\":[\"16-30\",\"30-40\",\"16-30\",\"30-40\",\"16-30\",\"16-30\",\"30-40\",\"30-40\",\"16-30\",\"16-30\",\">50\",\"16-30\",\"16-30\",\"16-30\",\"30-40\",\"30-40\",\"16-30\",\"16-30\",\"16-30\",\"30-40\",\"16-30\",\"40-50\",\"16-30\",\"16-30\",\"30-40\",\"16-30\",\"16-30\",\"16-30\",\"16-30\",\"16-30\",\"16-30\",\"16-30\",\"16-30\",\"16-30\",\"16-30\",\"16-30\",\"16-30\",\"16-30\",\"16-30\",\"16-30\",\"40-50\",\"30-40\",\"30-40\",\">50\",\"16-30\",\"16-30\",\"16-30\",\"16-30\",\"16-30\",\"16-30\",\"30-40\",\"16-30\",\"15-Jan\",\"30-40\",\"16-30\",\"16-30\",\"16-30\",\"30-40\",\"40-50\",\"16-30\",\"16-30\",\"16-30\",\"16-30\",\"16-30\",\"16-30\",\"16-30\",\"16-30\",\"16-30\",\"16-30\",\"30-40\",\"30-40\",\"16-30\",\"16-30\",\"16-30\",\"30-40\",\"30-40\",\"16-30\",\"16-30\",\"16-30\",\"16-30\",\"16-30\",\"16-30\",\"30-40\",\"16-30\",\"30-40\",\"16-30\",\"16-30\",\"16-30\",\"16-30\",\"16-30\",\"16-30\",\"16-30\",\"16-30\",\"16-30\",\"16-30\",\"16-30\",\"16-30\",\"16-30\"],\"xaxis\":\"x3\",\"yaxis\":\"y3\",\"type\":\"box\"},{\"alignmentgroup\":\"True\",\"hovertemplate\":\"Gender=Male<br>Time of class (pm)=10:30<br>Location=%{y}<extra></extra>\",\"legendgroup\":\"Male\",\"marker\":{\"color\":\"#1F77B4\",\"symbol\":\"circle\"},\"name\":\"Male\",\"offsetgroup\":\"Male\",\"scalegroup\":\"y\",\"showlegend\":false,\"xaxis\":\"x2\",\"y\":[\"Pakistan\",\"Pakistan\",\"West\",\"Pakistan\",\"Pakistan\",\"West\",\"Pakistan\",\"Pakistan\",\"Pakistan\",\"Pakistan\",\"Pakistan\",\"Pakistan\",\"Pakistan\",\"West\",\"West\",\"Pakistan\",\"Pakistan\",\"Pakistan\",\"West\",\"Pakistan\",\"Pakistan\",\"West\",\"Pakistan\",\"Pakistan\",\"East\",\"West\",\"Pakistan\",\"Pakistan\",\"Pakistan\",\"Pakistan\",\"Pakistan\",\"Pakistan\",\"East\",\"Pakistan\",\"Pakistan\",\"Pakistan\",\"West\",\"Pakistan\",\"Pakistan\",\"Pakistan\",\"Pakistan\",\"West\",\"Pakistan\",\"West\",\"Pakistan\",\"Pakistan\",\"Pakistan\",\"Pakistan\",\"Pakistan\",\"Pakistan\",\"Pakistan\",\"Pakistan\",\"West\",\"West\",\"Pakistan\",\"Pakistan\",\"Pakistan\",\"Pakistan\",\"Pakistan\",\"Pakistan\",\"Pakistan\",\"Pakistan\",\"Pakistan\",\"Pakistan\",\"Pakistan\",\"Pakistan\",\"Pakistan\",\"Pakistan\",\"Pakistan\",\"Pakistan\",\"West\",\"Pakistan\",\"Pakistan\",\"Pakistan\",\"Pakistan\",\"Pakistan\",\"Pakistan\",\"West\",\"Pakistan\",\"Pakistan\",\"Pakistan\",\"Pakistan\",\"West\",\"Pakistan\",\"Pakistan\",\"Pakistan\",\"West\",\"Pakistan\",\"Pakistan\",\"Pakistan\",\"Pakistan\",\"Pakistan\",\"Pakistan\",\"Pakistan\",\"Pakistan\",\"West\",\"Pakistan\",\"Pakistan\"],\"yaxis\":\"y2\",\"type\":\"violin\"},{\"hovertemplate\":\"Gender=Female<br>Time of class (pm)=10:30<br>Age=%{x}<br>Location=%{y}<extra></extra>\",\"legendgroup\":\"Female\",\"marker\":{\"color\":\"#FF7F0E\",\"symbol\":\"circle\"},\"mode\":\"markers\",\"name\":\"Female\",\"orientation\":\"v\",\"showlegend\":true,\"x\":[\"16-30\",\"16-30\",\"16-30\",\"16-30\",\"30-40\",\"16-30\",\"16-30\",\"16-30\",\"16-30\",\"30-40\",\"30-40\",\"16-30\",\"30-40\",\"15-Jan\",\"30-40\",\"16-30\",\"16-30\",\"16-30\",\"30-40\",\"16-30\",\"16-30\",\"16-30\",\"16-30\",\"16-30\",\"16-30\",\"16-30\",\"16-30\"],\"xaxis\":\"x\",\"y\":[\"Pakistan\",\"West\",\"Pakistan\",\"West\",\"Pakistan\",\"Pakistan\",\"Pakistan\",\"West\",\"Pakistan\",\"West\",\"Pakistan\",\"Pakistan\",\"Pakistan\",\"West\",\"Pakistan\",\"Pakistan\",\"West\",\"West\",\"Pakistan\",\"Pakistan\",\"West\",\"Pakistan\",\"Pakistan\",\"Pakistan\",\"Pakistan\",\"Pakistan\",\"Pakistan\"],\"yaxis\":\"y\",\"type\":\"scatter\"},{\"alignmentgroup\":\"True\",\"hovertemplate\":\"Gender=Female<br>Time of class (pm)=10:30<br>Age=%{x}<extra></extra>\",\"legendgroup\":\"Female\",\"marker\":{\"color\":\"#FF7F0E\",\"symbol\":\"circle\"},\"name\":\"Female\",\"notched\":true,\"offsetgroup\":\"Female\",\"showlegend\":false,\"x\":[\"16-30\",\"16-30\",\"16-30\",\"16-30\",\"30-40\",\"16-30\",\"16-30\",\"16-30\",\"16-30\",\"30-40\",\"30-40\",\"16-30\",\"30-40\",\"15-Jan\",\"30-40\",\"16-30\",\"16-30\",\"16-30\",\"30-40\",\"16-30\",\"16-30\",\"16-30\",\"16-30\",\"16-30\",\"16-30\",\"16-30\",\"16-30\"],\"xaxis\":\"x3\",\"yaxis\":\"y3\",\"type\":\"box\"},{\"alignmentgroup\":\"True\",\"hovertemplate\":\"Gender=Female<br>Time of class (pm)=10:30<br>Location=%{y}<extra></extra>\",\"legendgroup\":\"Female\",\"marker\":{\"color\":\"#FF7F0E\",\"symbol\":\"circle\"},\"name\":\"Female\",\"offsetgroup\":\"Female\",\"scalegroup\":\"y\",\"showlegend\":false,\"xaxis\":\"x2\",\"y\":[\"Pakistan\",\"West\",\"Pakistan\",\"West\",\"Pakistan\",\"Pakistan\",\"Pakistan\",\"West\",\"Pakistan\",\"West\",\"Pakistan\",\"Pakistan\",\"Pakistan\",\"West\",\"Pakistan\",\"Pakistan\",\"West\",\"West\",\"Pakistan\",\"Pakistan\",\"West\",\"Pakistan\",\"Pakistan\",\"Pakistan\",\"Pakistan\",\"Pakistan\",\"Pakistan\"],\"yaxis\":\"y2\",\"type\":\"violin\"}],                        {\"template\":{\"data\":{\"barpolar\":[{\"marker\":{\"line\":{\"color\":\"white\",\"width\":0.5},\"pattern\":{\"fillmode\":\"overlay\",\"size\":10,\"solidity\":0.2}},\"type\":\"barpolar\"}],\"bar\":[{\"error_x\":{\"color\":\"rgb(36,36,36)\"},\"error_y\":{\"color\":\"rgb(36,36,36)\"},\"marker\":{\"line\":{\"color\":\"white\",\"width\":0.5},\"pattern\":{\"fillmode\":\"overlay\",\"size\":10,\"solidity\":0.2}},\"type\":\"bar\"}],\"carpet\":[{\"aaxis\":{\"endlinecolor\":\"rgb(36,36,36)\",\"gridcolor\":\"white\",\"linecolor\":\"white\",\"minorgridcolor\":\"white\",\"startlinecolor\":\"rgb(36,36,36)\"},\"baxis\":{\"endlinecolor\":\"rgb(36,36,36)\",\"gridcolor\":\"white\",\"linecolor\":\"white\",\"minorgridcolor\":\"white\",\"startlinecolor\":\"rgb(36,36,36)\"},\"type\":\"carpet\"}],\"choropleth\":[{\"colorbar\":{\"outlinewidth\":1,\"tickcolor\":\"rgb(36,36,36)\",\"ticks\":\"outside\"},\"type\":\"choropleth\"}],\"contourcarpet\":[{\"colorbar\":{\"outlinewidth\":1,\"tickcolor\":\"rgb(36,36,36)\",\"ticks\":\"outside\"},\"type\":\"contourcarpet\"}],\"contour\":[{\"colorbar\":{\"outlinewidth\":1,\"tickcolor\":\"rgb(36,36,36)\",\"ticks\":\"outside\"},\"colorscale\":[[0.0,\"#440154\"],[0.1111111111111111,\"#482878\"],[0.2222222222222222,\"#3e4989\"],[0.3333333333333333,\"#31688e\"],[0.4444444444444444,\"#26828e\"],[0.5555555555555556,\"#1f9e89\"],[0.6666666666666666,\"#35b779\"],[0.7777777777777778,\"#6ece58\"],[0.8888888888888888,\"#b5de2b\"],[1.0,\"#fde725\"]],\"type\":\"contour\"}],\"heatmapgl\":[{\"colorbar\":{\"outlinewidth\":1,\"tickcolor\":\"rgb(36,36,36)\",\"ticks\":\"outside\"},\"colorscale\":[[0.0,\"#440154\"],[0.1111111111111111,\"#482878\"],[0.2222222222222222,\"#3e4989\"],[0.3333333333333333,\"#31688e\"],[0.4444444444444444,\"#26828e\"],[0.5555555555555556,\"#1f9e89\"],[0.6666666666666666,\"#35b779\"],[0.7777777777777778,\"#6ece58\"],[0.8888888888888888,\"#b5de2b\"],[1.0,\"#fde725\"]],\"type\":\"heatmapgl\"}],\"heatmap\":[{\"colorbar\":{\"outlinewidth\":1,\"tickcolor\":\"rgb(36,36,36)\",\"ticks\":\"outside\"},\"colorscale\":[[0.0,\"#440154\"],[0.1111111111111111,\"#482878\"],[0.2222222222222222,\"#3e4989\"],[0.3333333333333333,\"#31688e\"],[0.4444444444444444,\"#26828e\"],[0.5555555555555556,\"#1f9e89\"],[0.6666666666666666,\"#35b779\"],[0.7777777777777778,\"#6ece58\"],[0.8888888888888888,\"#b5de2b\"],[1.0,\"#fde725\"]],\"type\":\"heatmap\"}],\"histogram2dcontour\":[{\"colorbar\":{\"outlinewidth\":1,\"tickcolor\":\"rgb(36,36,36)\",\"ticks\":\"outside\"},\"colorscale\":[[0.0,\"#440154\"],[0.1111111111111111,\"#482878\"],[0.2222222222222222,\"#3e4989\"],[0.3333333333333333,\"#31688e\"],[0.4444444444444444,\"#26828e\"],[0.5555555555555556,\"#1f9e89\"],[0.6666666666666666,\"#35b779\"],[0.7777777777777778,\"#6ece58\"],[0.8888888888888888,\"#b5de2b\"],[1.0,\"#fde725\"]],\"type\":\"histogram2dcontour\"}],\"histogram2d\":[{\"colorbar\":{\"outlinewidth\":1,\"tickcolor\":\"rgb(36,36,36)\",\"ticks\":\"outside\"},\"colorscale\":[[0.0,\"#440154\"],[0.1111111111111111,\"#482878\"],[0.2222222222222222,\"#3e4989\"],[0.3333333333333333,\"#31688e\"],[0.4444444444444444,\"#26828e\"],[0.5555555555555556,\"#1f9e89\"],[0.6666666666666666,\"#35b779\"],[0.7777777777777778,\"#6ece58\"],[0.8888888888888888,\"#b5de2b\"],[1.0,\"#fde725\"]],\"type\":\"histogram2d\"}],\"histogram\":[{\"marker\":{\"line\":{\"color\":\"white\",\"width\":0.6}},\"type\":\"histogram\"}],\"mesh3d\":[{\"colorbar\":{\"outlinewidth\":1,\"tickcolor\":\"rgb(36,36,36)\",\"ticks\":\"outside\"},\"type\":\"mesh3d\"}],\"parcoords\":[{\"line\":{\"colorbar\":{\"outlinewidth\":1,\"tickcolor\":\"rgb(36,36,36)\",\"ticks\":\"outside\"}},\"type\":\"parcoords\"}],\"pie\":[{\"automargin\":true,\"type\":\"pie\"}],\"scatter3d\":[{\"line\":{\"colorbar\":{\"outlinewidth\":1,\"tickcolor\":\"rgb(36,36,36)\",\"ticks\":\"outside\"}},\"marker\":{\"colorbar\":{\"outlinewidth\":1,\"tickcolor\":\"rgb(36,36,36)\",\"ticks\":\"outside\"}},\"type\":\"scatter3d\"}],\"scattercarpet\":[{\"marker\":{\"colorbar\":{\"outlinewidth\":1,\"tickcolor\":\"rgb(36,36,36)\",\"ticks\":\"outside\"}},\"type\":\"scattercarpet\"}],\"scattergeo\":[{\"marker\":{\"colorbar\":{\"outlinewidth\":1,\"tickcolor\":\"rgb(36,36,36)\",\"ticks\":\"outside\"}},\"type\":\"scattergeo\"}],\"scattergl\":[{\"marker\":{\"colorbar\":{\"outlinewidth\":1,\"tickcolor\":\"rgb(36,36,36)\",\"ticks\":\"outside\"}},\"type\":\"scattergl\"}],\"scattermapbox\":[{\"marker\":{\"colorbar\":{\"outlinewidth\":1,\"tickcolor\":\"rgb(36,36,36)\",\"ticks\":\"outside\"}},\"type\":\"scattermapbox\"}],\"scatterpolargl\":[{\"marker\":{\"colorbar\":{\"outlinewidth\":1,\"tickcolor\":\"rgb(36,36,36)\",\"ticks\":\"outside\"}},\"type\":\"scatterpolargl\"}],\"scatterpolar\":[{\"marker\":{\"colorbar\":{\"outlinewidth\":1,\"tickcolor\":\"rgb(36,36,36)\",\"ticks\":\"outside\"}},\"type\":\"scatterpolar\"}],\"scatter\":[{\"marker\":{\"colorbar\":{\"outlinewidth\":1,\"tickcolor\":\"rgb(36,36,36)\",\"ticks\":\"outside\"}},\"type\":\"scatter\"}],\"scatterternary\":[{\"marker\":{\"colorbar\":{\"outlinewidth\":1,\"tickcolor\":\"rgb(36,36,36)\",\"ticks\":\"outside\"}},\"type\":\"scatterternary\"}],\"surface\":[{\"colorbar\":{\"outlinewidth\":1,\"tickcolor\":\"rgb(36,36,36)\",\"ticks\":\"outside\"},\"colorscale\":[[0.0,\"#440154\"],[0.1111111111111111,\"#482878\"],[0.2222222222222222,\"#3e4989\"],[0.3333333333333333,\"#31688e\"],[0.4444444444444444,\"#26828e\"],[0.5555555555555556,\"#1f9e89\"],[0.6666666666666666,\"#35b779\"],[0.7777777777777778,\"#6ece58\"],[0.8888888888888888,\"#b5de2b\"],[1.0,\"#fde725\"]],\"type\":\"surface\"}],\"table\":[{\"cells\":{\"fill\":{\"color\":\"rgb(237,237,237)\"},\"line\":{\"color\":\"white\"}},\"header\":{\"fill\":{\"color\":\"rgb(217,217,217)\"},\"line\":{\"color\":\"white\"}},\"type\":\"table\"}]},\"layout\":{\"annotationdefaults\":{\"arrowhead\":0,\"arrowwidth\":1},\"autotypenumbers\":\"strict\",\"coloraxis\":{\"colorbar\":{\"outlinewidth\":1,\"tickcolor\":\"rgb(36,36,36)\",\"ticks\":\"outside\"}},\"colorscale\":{\"diverging\":[[0.0,\"rgb(103,0,31)\"],[0.1,\"rgb(178,24,43)\"],[0.2,\"rgb(214,96,77)\"],[0.3,\"rgb(244,165,130)\"],[0.4,\"rgb(253,219,199)\"],[0.5,\"rgb(247,247,247)\"],[0.6,\"rgb(209,229,240)\"],[0.7,\"rgb(146,197,222)\"],[0.8,\"rgb(67,147,195)\"],[0.9,\"rgb(33,102,172)\"],[1.0,\"rgb(5,48,97)\"]],\"sequential\":[[0.0,\"#440154\"],[0.1111111111111111,\"#482878\"],[0.2222222222222222,\"#3e4989\"],[0.3333333333333333,\"#31688e\"],[0.4444444444444444,\"#26828e\"],[0.5555555555555556,\"#1f9e89\"],[0.6666666666666666,\"#35b779\"],[0.7777777777777778,\"#6ece58\"],[0.8888888888888888,\"#b5de2b\"],[1.0,\"#fde725\"]],\"sequentialminus\":[[0.0,\"#440154\"],[0.1111111111111111,\"#482878\"],[0.2222222222222222,\"#3e4989\"],[0.3333333333333333,\"#31688e\"],[0.4444444444444444,\"#26828e\"],[0.5555555555555556,\"#1f9e89\"],[0.6666666666666666,\"#35b779\"],[0.7777777777777778,\"#6ece58\"],[0.8888888888888888,\"#b5de2b\"],[1.0,\"#fde725\"]]},\"colorway\":[\"#1F77B4\",\"#FF7F0E\",\"#2CA02C\",\"#D62728\",\"#9467BD\",\"#8C564B\",\"#E377C2\",\"#7F7F7F\",\"#BCBD22\",\"#17BECF\"],\"font\":{\"color\":\"rgb(36,36,36)\"},\"geo\":{\"bgcolor\":\"white\",\"lakecolor\":\"white\",\"landcolor\":\"white\",\"showlakes\":true,\"showland\":true,\"subunitcolor\":\"white\"},\"hoverlabel\":{\"align\":\"left\"},\"hovermode\":\"closest\",\"mapbox\":{\"style\":\"light\"},\"paper_bgcolor\":\"white\",\"plot_bgcolor\":\"white\",\"polar\":{\"angularaxis\":{\"gridcolor\":\"rgb(232,232,232)\",\"linecolor\":\"rgb(36,36,36)\",\"showgrid\":false,\"showline\":true,\"ticks\":\"outside\"},\"bgcolor\":\"white\",\"radialaxis\":{\"gridcolor\":\"rgb(232,232,232)\",\"linecolor\":\"rgb(36,36,36)\",\"showgrid\":false,\"showline\":true,\"ticks\":\"outside\"}},\"scene\":{\"xaxis\":{\"backgroundcolor\":\"white\",\"gridcolor\":\"rgb(232,232,232)\",\"gridwidth\":2,\"linecolor\":\"rgb(36,36,36)\",\"showbackground\":true,\"showgrid\":false,\"showline\":true,\"ticks\":\"outside\",\"zeroline\":false,\"zerolinecolor\":\"rgb(36,36,36)\"},\"yaxis\":{\"backgroundcolor\":\"white\",\"gridcolor\":\"rgb(232,232,232)\",\"gridwidth\":2,\"linecolor\":\"rgb(36,36,36)\",\"showbackground\":true,\"showgrid\":false,\"showline\":true,\"ticks\":\"outside\",\"zeroline\":false,\"zerolinecolor\":\"rgb(36,36,36)\"},\"zaxis\":{\"backgroundcolor\":\"white\",\"gridcolor\":\"rgb(232,232,232)\",\"gridwidth\":2,\"linecolor\":\"rgb(36,36,36)\",\"showbackground\":true,\"showgrid\":false,\"showline\":true,\"ticks\":\"outside\",\"zeroline\":false,\"zerolinecolor\":\"rgb(36,36,36)\"}},\"shapedefaults\":{\"fillcolor\":\"black\",\"line\":{\"width\":0},\"opacity\":0.3},\"ternary\":{\"aaxis\":{\"gridcolor\":\"rgb(232,232,232)\",\"linecolor\":\"rgb(36,36,36)\",\"showgrid\":false,\"showline\":true,\"ticks\":\"outside\"},\"baxis\":{\"gridcolor\":\"rgb(232,232,232)\",\"linecolor\":\"rgb(36,36,36)\",\"showgrid\":false,\"showline\":true,\"ticks\":\"outside\"},\"bgcolor\":\"white\",\"caxis\":{\"gridcolor\":\"rgb(232,232,232)\",\"linecolor\":\"rgb(36,36,36)\",\"showgrid\":false,\"showline\":true,\"ticks\":\"outside\"}},\"title\":{\"x\":0.05},\"xaxis\":{\"automargin\":true,\"gridcolor\":\"rgb(232,232,232)\",\"linecolor\":\"rgb(36,36,36)\",\"showgrid\":false,\"showline\":true,\"ticks\":\"outside\",\"title\":{\"standoff\":15},\"zeroline\":false,\"zerolinecolor\":\"rgb(36,36,36)\"},\"yaxis\":{\"automargin\":true,\"gridcolor\":\"rgb(232,232,232)\",\"linecolor\":\"rgb(36,36,36)\",\"showgrid\":false,\"showline\":true,\"ticks\":\"outside\",\"title\":{\"standoff\":15},\"zeroline\":false,\"zerolinecolor\":\"rgb(36,36,36)\"}}},\"xaxis\":{\"anchor\":\"y\",\"domain\":[0.0,0.7363],\"title\":{\"text\":\"Age\"}},\"yaxis\":{\"anchor\":\"x\",\"domain\":[0.0,0.7326],\"title\":{\"text\":\"Location\"}},\"xaxis2\":{\"anchor\":\"y2\",\"domain\":[0.7413,1.0],\"matches\":\"x2\",\"showticklabels\":false,\"showline\":false,\"ticks\":\"\"},\"yaxis2\":{\"anchor\":\"x2\",\"domain\":[0.0,0.7326],\"matches\":\"y\",\"showticklabels\":false},\"xaxis3\":{\"anchor\":\"y3\",\"domain\":[0.0,0.7363],\"matches\":\"x\",\"showticklabels\":false},\"yaxis3\":{\"anchor\":\"x3\",\"domain\":[0.7426,1.0],\"matches\":\"y3\",\"showticklabels\":false,\"showline\":false,\"ticks\":\"\"},\"xaxis4\":{\"anchor\":\"y4\",\"domain\":[0.7413,1.0],\"matches\":\"x2\",\"showticklabels\":false,\"showline\":false,\"ticks\":\"\"},\"yaxis4\":{\"anchor\":\"x4\",\"domain\":[0.7426,1.0],\"matches\":\"y3\",\"showticklabels\":false,\"showline\":false,\"ticks\":\"\"},\"legend\":{\"title\":{\"text\":\"Gender\"},\"tracegroupgap\":0},\"margin\":{\"t\":60},\"updatemenus\":[{\"buttons\":[{\"args\":[null,{\"frame\":{\"duration\":500,\"redraw\":false},\"mode\":\"immediate\",\"fromcurrent\":true,\"transition\":{\"duration\":500,\"easing\":\"linear\"}}],\"label\":\"&#9654;\",\"method\":\"animate\"},{\"args\":[[null],{\"frame\":{\"duration\":0,\"redraw\":false},\"mode\":\"immediate\",\"fromcurrent\":true,\"transition\":{\"duration\":0,\"easing\":\"linear\"}}],\"label\":\"&#9724;\",\"method\":\"animate\"}],\"direction\":\"left\",\"pad\":{\"r\":10,\"t\":70},\"showactive\":false,\"type\":\"buttons\",\"x\":0.1,\"xanchor\":\"right\",\"y\":0,\"yanchor\":\"top\"}],\"sliders\":[{\"active\":0,\"currentvalue\":{\"prefix\":\"Time of class (pm)=\"},\"len\":0.9,\"pad\":{\"b\":10,\"t\":60},\"steps\":[{\"args\":[[\"10:30\"],{\"frame\":{\"duration\":0,\"redraw\":false},\"mode\":\"immediate\",\"fromcurrent\":true,\"transition\":{\"duration\":0,\"easing\":\"linear\"}}],\"label\":\"10:30\",\"method\":\"animate\"},{\"args\":[[\"10:00\"],{\"frame\":{\"duration\":0,\"redraw\":false},\"mode\":\"immediate\",\"fromcurrent\":true,\"transition\":{\"duration\":0,\"easing\":\"linear\"}}],\"label\":\"10:00\",\"method\":\"animate\"},{\"args\":[[\"09:30\"],{\"frame\":{\"duration\":0,\"redraw\":false},\"mode\":\"immediate\",\"fromcurrent\":true,\"transition\":{\"duration\":0,\"easing\":\"linear\"}}],\"label\":\"09:30\",\"method\":\"animate\"}],\"x\":0.1,\"xanchor\":\"left\",\"y\":0,\"yanchor\":\"top\"}]},                        {\"responsive\": true}                    ).then(function(){\n",
       "                            Plotly.addFrames('31d9ae23-5350-4727-b838-90f30ad61842', [{\"data\":[{\"hovertemplate\":\"Gender=Male<br>Time of class (pm)=10:30<br>Age=%{x}<br>Location=%{y}<extra></extra>\",\"legendgroup\":\"Male\",\"marker\":{\"color\":\"#1F77B4\",\"symbol\":\"circle\"},\"mode\":\"markers\",\"name\":\"Male\",\"orientation\":\"v\",\"showlegend\":true,\"x\":[\"16-30\",\"30-40\",\"16-30\",\"30-40\",\"16-30\",\"16-30\",\"30-40\",\"30-40\",\"16-30\",\"16-30\",\">50\",\"16-30\",\"16-30\",\"16-30\",\"30-40\",\"30-40\",\"16-30\",\"16-30\",\"16-30\",\"30-40\",\"16-30\",\"40-50\",\"16-30\",\"16-30\",\"30-40\",\"16-30\",\"16-30\",\"16-30\",\"16-30\",\"16-30\",\"16-30\",\"16-30\",\"16-30\",\"16-30\",\"16-30\",\"16-30\",\"16-30\",\"16-30\",\"16-30\",\"16-30\",\"40-50\",\"30-40\",\"30-40\",\">50\",\"16-30\",\"16-30\",\"16-30\",\"16-30\",\"16-30\",\"16-30\",\"30-40\",\"16-30\",\"15-Jan\",\"30-40\",\"16-30\",\"16-30\",\"16-30\",\"30-40\",\"40-50\",\"16-30\",\"16-30\",\"16-30\",\"16-30\",\"16-30\",\"16-30\",\"16-30\",\"16-30\",\"16-30\",\"16-30\",\"30-40\",\"30-40\",\"16-30\",\"16-30\",\"16-30\",\"30-40\",\"30-40\",\"16-30\",\"16-30\",\"16-30\",\"16-30\",\"16-30\",\"16-30\",\"30-40\",\"16-30\",\"30-40\",\"16-30\",\"16-30\",\"16-30\",\"16-30\",\"16-30\",\"16-30\",\"16-30\",\"16-30\",\"16-30\",\"16-30\",\"16-30\",\"16-30\",\"16-30\"],\"xaxis\":\"x\",\"y\":[\"Pakistan\",\"Pakistan\",\"West\",\"Pakistan\",\"Pakistan\",\"West\",\"Pakistan\",\"Pakistan\",\"Pakistan\",\"Pakistan\",\"Pakistan\",\"Pakistan\",\"Pakistan\",\"West\",\"West\",\"Pakistan\",\"Pakistan\",\"Pakistan\",\"West\",\"Pakistan\",\"Pakistan\",\"West\",\"Pakistan\",\"Pakistan\",\"East\",\"West\",\"Pakistan\",\"Pakistan\",\"Pakistan\",\"Pakistan\",\"Pakistan\",\"Pakistan\",\"East\",\"Pakistan\",\"Pakistan\",\"Pakistan\",\"West\",\"Pakistan\",\"Pakistan\",\"Pakistan\",\"Pakistan\",\"West\",\"Pakistan\",\"West\",\"Pakistan\",\"Pakistan\",\"Pakistan\",\"Pakistan\",\"Pakistan\",\"Pakistan\",\"Pakistan\",\"Pakistan\",\"West\",\"West\",\"Pakistan\",\"Pakistan\",\"Pakistan\",\"Pakistan\",\"Pakistan\",\"Pakistan\",\"Pakistan\",\"Pakistan\",\"Pakistan\",\"Pakistan\",\"Pakistan\",\"Pakistan\",\"Pakistan\",\"Pakistan\",\"Pakistan\",\"Pakistan\",\"West\",\"Pakistan\",\"Pakistan\",\"Pakistan\",\"Pakistan\",\"Pakistan\",\"Pakistan\",\"West\",\"Pakistan\",\"Pakistan\",\"Pakistan\",\"Pakistan\",\"West\",\"Pakistan\",\"Pakistan\",\"Pakistan\",\"West\",\"Pakistan\",\"Pakistan\",\"Pakistan\",\"Pakistan\",\"Pakistan\",\"Pakistan\",\"Pakistan\",\"Pakistan\",\"West\",\"Pakistan\",\"Pakistan\"],\"yaxis\":\"y\",\"type\":\"scatter\"},{\"alignmentgroup\":\"True\",\"hovertemplate\":\"Gender=Male<br>Time of class (pm)=10:30<br>Age=%{x}<extra></extra>\",\"legendgroup\":\"Male\",\"marker\":{\"color\":\"#1F77B4\",\"symbol\":\"circle\"},\"name\":\"Male\",\"notched\":true,\"offsetgroup\":\"Male\",\"showlegend\":false,\"x\":[\"16-30\",\"30-40\",\"16-30\",\"30-40\",\"16-30\",\"16-30\",\"30-40\",\"30-40\",\"16-30\",\"16-30\",\">50\",\"16-30\",\"16-30\",\"16-30\",\"30-40\",\"30-40\",\"16-30\",\"16-30\",\"16-30\",\"30-40\",\"16-30\",\"40-50\",\"16-30\",\"16-30\",\"30-40\",\"16-30\",\"16-30\",\"16-30\",\"16-30\",\"16-30\",\"16-30\",\"16-30\",\"16-30\",\"16-30\",\"16-30\",\"16-30\",\"16-30\",\"16-30\",\"16-30\",\"16-30\",\"40-50\",\"30-40\",\"30-40\",\">50\",\"16-30\",\"16-30\",\"16-30\",\"16-30\",\"16-30\",\"16-30\",\"30-40\",\"16-30\",\"15-Jan\",\"30-40\",\"16-30\",\"16-30\",\"16-30\",\"30-40\",\"40-50\",\"16-30\",\"16-30\",\"16-30\",\"16-30\",\"16-30\",\"16-30\",\"16-30\",\"16-30\",\"16-30\",\"16-30\",\"30-40\",\"30-40\",\"16-30\",\"16-30\",\"16-30\",\"30-40\",\"30-40\",\"16-30\",\"16-30\",\"16-30\",\"16-30\",\"16-30\",\"16-30\",\"30-40\",\"16-30\",\"30-40\",\"16-30\",\"16-30\",\"16-30\",\"16-30\",\"16-30\",\"16-30\",\"16-30\",\"16-30\",\"16-30\",\"16-30\",\"16-30\",\"16-30\",\"16-30\"],\"xaxis\":\"x3\",\"yaxis\":\"y3\",\"type\":\"box\"},{\"alignmentgroup\":\"True\",\"hovertemplate\":\"Gender=Male<br>Time of class (pm)=10:30<br>Location=%{y}<extra></extra>\",\"legendgroup\":\"Male\",\"marker\":{\"color\":\"#1F77B4\",\"symbol\":\"circle\"},\"name\":\"Male\",\"offsetgroup\":\"Male\",\"scalegroup\":\"y\",\"showlegend\":false,\"xaxis\":\"x2\",\"y\":[\"Pakistan\",\"Pakistan\",\"West\",\"Pakistan\",\"Pakistan\",\"West\",\"Pakistan\",\"Pakistan\",\"Pakistan\",\"Pakistan\",\"Pakistan\",\"Pakistan\",\"Pakistan\",\"West\",\"West\",\"Pakistan\",\"Pakistan\",\"Pakistan\",\"West\",\"Pakistan\",\"Pakistan\",\"West\",\"Pakistan\",\"Pakistan\",\"East\",\"West\",\"Pakistan\",\"Pakistan\",\"Pakistan\",\"Pakistan\",\"Pakistan\",\"Pakistan\",\"East\",\"Pakistan\",\"Pakistan\",\"Pakistan\",\"West\",\"Pakistan\",\"Pakistan\",\"Pakistan\",\"Pakistan\",\"West\",\"Pakistan\",\"West\",\"Pakistan\",\"Pakistan\",\"Pakistan\",\"Pakistan\",\"Pakistan\",\"Pakistan\",\"Pakistan\",\"Pakistan\",\"West\",\"West\",\"Pakistan\",\"Pakistan\",\"Pakistan\",\"Pakistan\",\"Pakistan\",\"Pakistan\",\"Pakistan\",\"Pakistan\",\"Pakistan\",\"Pakistan\",\"Pakistan\",\"Pakistan\",\"Pakistan\",\"Pakistan\",\"Pakistan\",\"Pakistan\",\"West\",\"Pakistan\",\"Pakistan\",\"Pakistan\",\"Pakistan\",\"Pakistan\",\"Pakistan\",\"West\",\"Pakistan\",\"Pakistan\",\"Pakistan\",\"Pakistan\",\"West\",\"Pakistan\",\"Pakistan\",\"Pakistan\",\"West\",\"Pakistan\",\"Pakistan\",\"Pakistan\",\"Pakistan\",\"Pakistan\",\"Pakistan\",\"Pakistan\",\"Pakistan\",\"West\",\"Pakistan\",\"Pakistan\"],\"yaxis\":\"y2\",\"type\":\"violin\"},{\"hovertemplate\":\"Gender=Female<br>Time of class (pm)=10:30<br>Age=%{x}<br>Location=%{y}<extra></extra>\",\"legendgroup\":\"Female\",\"marker\":{\"color\":\"#FF7F0E\",\"symbol\":\"circle\"},\"mode\":\"markers\",\"name\":\"Female\",\"orientation\":\"v\",\"showlegend\":true,\"x\":[\"16-30\",\"16-30\",\"16-30\",\"16-30\",\"30-40\",\"16-30\",\"16-30\",\"16-30\",\"16-30\",\"30-40\",\"30-40\",\"16-30\",\"30-40\",\"15-Jan\",\"30-40\",\"16-30\",\"16-30\",\"16-30\",\"30-40\",\"16-30\",\"16-30\",\"16-30\",\"16-30\",\"16-30\",\"16-30\",\"16-30\",\"16-30\"],\"xaxis\":\"x\",\"y\":[\"Pakistan\",\"West\",\"Pakistan\",\"West\",\"Pakistan\",\"Pakistan\",\"Pakistan\",\"West\",\"Pakistan\",\"West\",\"Pakistan\",\"Pakistan\",\"Pakistan\",\"West\",\"Pakistan\",\"Pakistan\",\"West\",\"West\",\"Pakistan\",\"Pakistan\",\"West\",\"Pakistan\",\"Pakistan\",\"Pakistan\",\"Pakistan\",\"Pakistan\",\"Pakistan\"],\"yaxis\":\"y\",\"type\":\"scatter\"},{\"alignmentgroup\":\"True\",\"hovertemplate\":\"Gender=Female<br>Time of class (pm)=10:30<br>Age=%{x}<extra></extra>\",\"legendgroup\":\"Female\",\"marker\":{\"color\":\"#FF7F0E\",\"symbol\":\"circle\"},\"name\":\"Female\",\"notched\":true,\"offsetgroup\":\"Female\",\"showlegend\":false,\"x\":[\"16-30\",\"16-30\",\"16-30\",\"16-30\",\"30-40\",\"16-30\",\"16-30\",\"16-30\",\"16-30\",\"30-40\",\"30-40\",\"16-30\",\"30-40\",\"15-Jan\",\"30-40\",\"16-30\",\"16-30\",\"16-30\",\"30-40\",\"16-30\",\"16-30\",\"16-30\",\"16-30\",\"16-30\",\"16-30\",\"16-30\",\"16-30\"],\"xaxis\":\"x3\",\"yaxis\":\"y3\",\"type\":\"box\"},{\"alignmentgroup\":\"True\",\"hovertemplate\":\"Gender=Female<br>Time of class (pm)=10:30<br>Location=%{y}<extra></extra>\",\"legendgroup\":\"Female\",\"marker\":{\"color\":\"#FF7F0E\",\"symbol\":\"circle\"},\"name\":\"Female\",\"offsetgroup\":\"Female\",\"scalegroup\":\"y\",\"showlegend\":false,\"xaxis\":\"x2\",\"y\":[\"Pakistan\",\"West\",\"Pakistan\",\"West\",\"Pakistan\",\"Pakistan\",\"Pakistan\",\"West\",\"Pakistan\",\"West\",\"Pakistan\",\"Pakistan\",\"Pakistan\",\"West\",\"Pakistan\",\"Pakistan\",\"West\",\"West\",\"Pakistan\",\"Pakistan\",\"West\",\"Pakistan\",\"Pakistan\",\"Pakistan\",\"Pakistan\",\"Pakistan\",\"Pakistan\"],\"yaxis\":\"y2\",\"type\":\"violin\"}],\"name\":\"10:30\"},{\"data\":[{\"hovertemplate\":\"Gender=Male<br>Time of class (pm)=10:00<br>Age=%{x}<br>Location=%{y}<extra></extra>\",\"legendgroup\":\"Male\",\"marker\":{\"color\":\"#1F77B4\",\"symbol\":\"circle\"},\"mode\":\"markers\",\"name\":\"Male\",\"orientation\":\"v\",\"showlegend\":true,\"x\":[\"16-30\",\"16-30\",\"16-30\",\"16-30\",\"16-30\",\"16-30\",\"16-30\",\"30-40\",\"16-30\",\"16-30\",\"16-30\",\"30-40\",\"16-30\",\"16-30\",\"30-40\",\"16-30\",\"16-30\",\"30-40\",\"16-30\",\"16-30\",\"16-30\",\"30-40\",\"16-30\",\"16-30\",\"30-40\",\"30-40\",\"16-30\",\"16-30\",\"30-40\",\"16-30\",\"16-30\",\"16-30\",\"30-40\",\"30-40\",\"16-30\",\"16-30\",\"40-50\",\"16-30\",\"16-30\",\"16-30\",\"40-50\",\"16-30\",\"30-40\",\"16-30\",\"16-30\",\"30-40\",\">50\",\"30-40\",\"30-40\",\"30-40\",\"16-30\",\"16-30\",\"16-30\",\"30-40\",\"16-30\",\"30-40\",\"16-30\",\"16-30\",\"16-30\",\"30-40\",\"16-30\",\"16-30\",\"40-50\",\"16-30\",\"16-30\",\"16-30\",\"16-30\",\"30-40\",\"16-30\",\"16-30\",\"16-30\",\"16-30\",\"16-30\",\"16-30\",\"16-30\",\"16-30\",\"16-30\",\"16-30\",\"16-30\",\"16-30\"],\"xaxis\":\"x\",\"y\":[\"Pakistan\",\"Pakistan\",\"Pakistan\",\"Pakistan\",\"Pakistan\",\"Pakistan\",\"Pakistan\",\"Pakistan\",\"Pakistan\",\"Pakistan\",\"Pakistan\",\"West\",\"Pakistan\",\"Pakistan\",\"Pakistan\",\"Pakistan\",\"Pakistan\",\"Pakistan\",\"Pakistan\",\"Pakistan\",\"Pakistan\",\"Pakistan\",\"Pakistan\",\"West\",\"Pakistan\",\"Pakistan\",\"Pakistan\",\"Pakistan\",\"Pakistan\",\"Pakistan\",\"Pakistan\",\"Pakistan\",\"Pakistan\",\"Pakistan\",\"Pakistan\",\"Pakistan\",\"Pakistan\",\"Pakistan\",\"Pakistan\",\"Pakistan\",\"Pakistan\",\"Pakistan\",\"Pakistan\",\"Pakistan\",\"Pakistan\",\"Pakistan\",\"Pakistan\",\"Pakistan\",\"Pakistan\",\"Pakistan\",\"Pakistan\",\"Pakistan\",\"Pakistan\",\"Pakistan\",\"Pakistan\",\"Pakistan\",\"Pakistan\",\"Pakistan\",\"Pakistan\",\"Pakistan\",\"Pakistan\",\"Pakistan\",\"Pakistan\",\"Pakistan\",\"Pakistan\",\"West\",\"Pakistan\",\"West\",\"West\",\"Pakistan\",\"Pakistan\",\"Pakistan\",\"Pakistan\",\"Pakistan\",\"Pakistan\",\"Pakistan\",\"Pakistan\",\"Pakistan\",\"Pakistan\",\"Pakistan\"],\"yaxis\":\"y\",\"type\":\"scatter\"},{\"alignmentgroup\":\"True\",\"hovertemplate\":\"Gender=Male<br>Time of class (pm)=10:00<br>Age=%{x}<extra></extra>\",\"legendgroup\":\"Male\",\"marker\":{\"color\":\"#1F77B4\",\"symbol\":\"circle\"},\"name\":\"Male\",\"notched\":true,\"offsetgroup\":\"Male\",\"showlegend\":false,\"x\":[\"16-30\",\"16-30\",\"16-30\",\"16-30\",\"16-30\",\"16-30\",\"16-30\",\"30-40\",\"16-30\",\"16-30\",\"16-30\",\"30-40\",\"16-30\",\"16-30\",\"30-40\",\"16-30\",\"16-30\",\"30-40\",\"16-30\",\"16-30\",\"16-30\",\"30-40\",\"16-30\",\"16-30\",\"30-40\",\"30-40\",\"16-30\",\"16-30\",\"30-40\",\"16-30\",\"16-30\",\"16-30\",\"30-40\",\"30-40\",\"16-30\",\"16-30\",\"40-50\",\"16-30\",\"16-30\",\"16-30\",\"40-50\",\"16-30\",\"30-40\",\"16-30\",\"16-30\",\"30-40\",\">50\",\"30-40\",\"30-40\",\"30-40\",\"16-30\",\"16-30\",\"16-30\",\"30-40\",\"16-30\",\"30-40\",\"16-30\",\"16-30\",\"16-30\",\"30-40\",\"16-30\",\"16-30\",\"40-50\",\"16-30\",\"16-30\",\"16-30\",\"16-30\",\"30-40\",\"16-30\",\"16-30\",\"16-30\",\"16-30\",\"16-30\",\"16-30\",\"16-30\",\"16-30\",\"16-30\",\"16-30\",\"16-30\",\"16-30\"],\"xaxis\":\"x3\",\"yaxis\":\"y3\",\"type\":\"box\"},{\"alignmentgroup\":\"True\",\"hovertemplate\":\"Gender=Male<br>Time of class (pm)=10:00<br>Location=%{y}<extra></extra>\",\"legendgroup\":\"Male\",\"marker\":{\"color\":\"#1F77B4\",\"symbol\":\"circle\"},\"name\":\"Male\",\"offsetgroup\":\"Male\",\"scalegroup\":\"y\",\"showlegend\":false,\"xaxis\":\"x2\",\"y\":[\"Pakistan\",\"Pakistan\",\"Pakistan\",\"Pakistan\",\"Pakistan\",\"Pakistan\",\"Pakistan\",\"Pakistan\",\"Pakistan\",\"Pakistan\",\"Pakistan\",\"West\",\"Pakistan\",\"Pakistan\",\"Pakistan\",\"Pakistan\",\"Pakistan\",\"Pakistan\",\"Pakistan\",\"Pakistan\",\"Pakistan\",\"Pakistan\",\"Pakistan\",\"West\",\"Pakistan\",\"Pakistan\",\"Pakistan\",\"Pakistan\",\"Pakistan\",\"Pakistan\",\"Pakistan\",\"Pakistan\",\"Pakistan\",\"Pakistan\",\"Pakistan\",\"Pakistan\",\"Pakistan\",\"Pakistan\",\"Pakistan\",\"Pakistan\",\"Pakistan\",\"Pakistan\",\"Pakistan\",\"Pakistan\",\"Pakistan\",\"Pakistan\",\"Pakistan\",\"Pakistan\",\"Pakistan\",\"Pakistan\",\"Pakistan\",\"Pakistan\",\"Pakistan\",\"Pakistan\",\"Pakistan\",\"Pakistan\",\"Pakistan\",\"Pakistan\",\"Pakistan\",\"Pakistan\",\"Pakistan\",\"Pakistan\",\"Pakistan\",\"Pakistan\",\"Pakistan\",\"West\",\"Pakistan\",\"West\",\"West\",\"Pakistan\",\"Pakistan\",\"Pakistan\",\"Pakistan\",\"Pakistan\",\"Pakistan\",\"Pakistan\",\"Pakistan\",\"Pakistan\",\"Pakistan\",\"Pakistan\"],\"yaxis\":\"y2\",\"type\":\"violin\"},{\"hovertemplate\":\"Gender=Female<br>Time of class (pm)=10:00<br>Age=%{x}<br>Location=%{y}<extra></extra>\",\"legendgroup\":\"Female\",\"marker\":{\"color\":\"#FF7F0E\",\"symbol\":\"circle\"},\"mode\":\"markers\",\"name\":\"Female\",\"orientation\":\"v\",\"showlegend\":true,\"x\":[\"16-30\",\"16-30\",\"16-30\",\"30-40\",\"16-30\",\"30-40\",\"30-40\",\"16-30\",\"16-30\",\"16-30\",\"16-30\",\"16-30\",\"16-30\",\"16-30\",\"16-30\",\"16-30\",\"16-30\",\"16-30\",\"30-40\"],\"xaxis\":\"x\",\"y\":[\"Pakistan\",\"Pakistan\",\"Pakistan\",\"Pakistan\",\"Pakistan\",\"Pakistan\",\"Pakistan\",\"Pakistan\",\"Pakistan\",\"Pakistan\",\"Pakistan\",\"Pakistan\",\"Pakistan\",\"Pakistan\",\"Pakistan\",\"Pakistan\",\"East\",\"West\",\"Pakistan\"],\"yaxis\":\"y\",\"type\":\"scatter\"},{\"alignmentgroup\":\"True\",\"hovertemplate\":\"Gender=Female<br>Time of class (pm)=10:00<br>Age=%{x}<extra></extra>\",\"legendgroup\":\"Female\",\"marker\":{\"color\":\"#FF7F0E\",\"symbol\":\"circle\"},\"name\":\"Female\",\"notched\":true,\"offsetgroup\":\"Female\",\"showlegend\":false,\"x\":[\"16-30\",\"16-30\",\"16-30\",\"30-40\",\"16-30\",\"30-40\",\"30-40\",\"16-30\",\"16-30\",\"16-30\",\"16-30\",\"16-30\",\"16-30\",\"16-30\",\"16-30\",\"16-30\",\"16-30\",\"16-30\",\"30-40\"],\"xaxis\":\"x3\",\"yaxis\":\"y3\",\"type\":\"box\"},{\"alignmentgroup\":\"True\",\"hovertemplate\":\"Gender=Female<br>Time of class (pm)=10:00<br>Location=%{y}<extra></extra>\",\"legendgroup\":\"Female\",\"marker\":{\"color\":\"#FF7F0E\",\"symbol\":\"circle\"},\"name\":\"Female\",\"offsetgroup\":\"Female\",\"scalegroup\":\"y\",\"showlegend\":false,\"xaxis\":\"x2\",\"y\":[\"Pakistan\",\"Pakistan\",\"Pakistan\",\"Pakistan\",\"Pakistan\",\"Pakistan\",\"Pakistan\",\"Pakistan\",\"Pakistan\",\"Pakistan\",\"Pakistan\",\"Pakistan\",\"Pakistan\",\"Pakistan\",\"Pakistan\",\"Pakistan\",\"East\",\"West\",\"Pakistan\"],\"yaxis\":\"y2\",\"type\":\"violin\"}],\"name\":\"10:00\"},{\"data\":[{\"hovertemplate\":\"Gender=Male<br>Time of class (pm)=09:30<br>Age=%{x}<br>Location=%{y}<extra></extra>\",\"legendgroup\":\"Male\",\"marker\":{\"color\":\"#1F77B4\",\"symbol\":\"circle\"},\"mode\":\"markers\",\"name\":\"Male\",\"orientation\":\"v\",\"showlegend\":true,\"x\":[\"30-40\",\"16-30\",\"16-30\",\"16-30\",\"16-30\",\"30-40\",\"16-30\",\"16-30\",\"30-40\",\"16-30\",\"16-30\",\"16-30\",\"16-30\",\"16-30\",\"30-40\",\"16-30\",\"40-50\",\"16-30\",\"16-30\",\"30-40\",\"16-30\",\"30-40\",\"30-40\",\"16-30\",\"30-40\",\"16-30\",\"16-30\",\"16-30\",\"16-30\",\"16-30\",\"16-30\",\"16-30\",\"30-40\",\"16-30\",\"16-30\",\"16-30\",\"16-30\",\"16-30\",\"16-30\",\"16-30\",\"30-40\",\"16-30\",\"16-30\",\"16-30\",\"16-30\",\"30-40\",\"30-40\",\"16-30\",\"30-40\",\"16-30\",\"30-40\",\"30-40\",\"30-40\",\"16-30\",\"16-30\",\"16-30\",\"16-30\",\"16-30\",\"16-30\",\"16-30\",\"16-30\",\"30-40\",\"16-30\",\"16-30\",\"16-30\"],\"xaxis\":\"x\",\"y\":[\"Pakistan\",\"East\",\"Pakistan\",\"East\",\"Pakistan\",\"East\",\"East\",\"Pakistan\",\"Pakistan\",\"Pakistan\",\"East\",\"Pakistan\",\"Pakistan\",\"Pakistan\",\"Pakistan\",\"Pakistan\",\"Pakistan\",\"Pakistan\",\"Pakistan\",\"Pakistan\",\"Pakistan\",\"Pakistan\",\"West\",\"Pakistan\",\"East\",\"Pakistan\",\"Pakistan\",\"Pakistan\",\"Pakistan\",\"West\",\"Pakistan\",\"Pakistan\",\"Pakistan\",\"Pakistan\",\"Pakistan\",\"Pakistan\",\"Pakistan\",\"Pakistan\",\"Pakistan\",\"Pakistan\",\"Pakistan\",\"Pakistan\",\"Pakistan\",\"East\",\"Pakistan\",\"Pakistan\",\"Pakistan\",\"Pakistan\",\"Pakistan\",\"Pakistan\",\"East\",\"Pakistan\",\"Pakistan\",\"Pakistan\",\"Pakistan\",\"Pakistan\",\"Pakistan\",\"Pakistan\",\"East\",\"East\",\"Pakistan\",\"Pakistan\",\"Pakistan\",\"Pakistan\",\"Pakistan\"],\"yaxis\":\"y\",\"type\":\"scatter\"},{\"alignmentgroup\":\"True\",\"hovertemplate\":\"Gender=Male<br>Time of class (pm)=09:30<br>Age=%{x}<extra></extra>\",\"legendgroup\":\"Male\",\"marker\":{\"color\":\"#1F77B4\",\"symbol\":\"circle\"},\"name\":\"Male\",\"notched\":true,\"offsetgroup\":\"Male\",\"showlegend\":false,\"x\":[\"30-40\",\"16-30\",\"16-30\",\"16-30\",\"16-30\",\"30-40\",\"16-30\",\"16-30\",\"30-40\",\"16-30\",\"16-30\",\"16-30\",\"16-30\",\"16-30\",\"30-40\",\"16-30\",\"40-50\",\"16-30\",\"16-30\",\"30-40\",\"16-30\",\"30-40\",\"30-40\",\"16-30\",\"30-40\",\"16-30\",\"16-30\",\"16-30\",\"16-30\",\"16-30\",\"16-30\",\"16-30\",\"30-40\",\"16-30\",\"16-30\",\"16-30\",\"16-30\",\"16-30\",\"16-30\",\"16-30\",\"30-40\",\"16-30\",\"16-30\",\"16-30\",\"16-30\",\"30-40\",\"30-40\",\"16-30\",\"30-40\",\"16-30\",\"30-40\",\"30-40\",\"30-40\",\"16-30\",\"16-30\",\"16-30\",\"16-30\",\"16-30\",\"16-30\",\"16-30\",\"16-30\",\"30-40\",\"16-30\",\"16-30\",\"16-30\"],\"xaxis\":\"x3\",\"yaxis\":\"y3\",\"type\":\"box\"},{\"alignmentgroup\":\"True\",\"hovertemplate\":\"Gender=Male<br>Time of class (pm)=09:30<br>Location=%{y}<extra></extra>\",\"legendgroup\":\"Male\",\"marker\":{\"color\":\"#1F77B4\",\"symbol\":\"circle\"},\"name\":\"Male\",\"offsetgroup\":\"Male\",\"scalegroup\":\"y\",\"showlegend\":false,\"xaxis\":\"x2\",\"y\":[\"Pakistan\",\"East\",\"Pakistan\",\"East\",\"Pakistan\",\"East\",\"East\",\"Pakistan\",\"Pakistan\",\"Pakistan\",\"East\",\"Pakistan\",\"Pakistan\",\"Pakistan\",\"Pakistan\",\"Pakistan\",\"Pakistan\",\"Pakistan\",\"Pakistan\",\"Pakistan\",\"Pakistan\",\"Pakistan\",\"West\",\"Pakistan\",\"East\",\"Pakistan\",\"Pakistan\",\"Pakistan\",\"Pakistan\",\"West\",\"Pakistan\",\"Pakistan\",\"Pakistan\",\"Pakistan\",\"Pakistan\",\"Pakistan\",\"Pakistan\",\"Pakistan\",\"Pakistan\",\"Pakistan\",\"Pakistan\",\"Pakistan\",\"Pakistan\",\"East\",\"Pakistan\",\"Pakistan\",\"Pakistan\",\"Pakistan\",\"Pakistan\",\"Pakistan\",\"East\",\"Pakistan\",\"Pakistan\",\"Pakistan\",\"Pakistan\",\"Pakistan\",\"Pakistan\",\"Pakistan\",\"East\",\"East\",\"Pakistan\",\"Pakistan\",\"Pakistan\",\"Pakistan\",\"Pakistan\"],\"yaxis\":\"y2\",\"type\":\"violin\"},{\"hovertemplate\":\"Gender=Female<br>Time of class (pm)=09:30<br>Age=%{x}<br>Location=%{y}<extra></extra>\",\"legendgroup\":\"Female\",\"marker\":{\"color\":\"#FF7F0E\",\"symbol\":\"circle\"},\"mode\":\"markers\",\"name\":\"Female\",\"orientation\":\"v\",\"showlegend\":true,\"x\":[\"30-40\",\"16-30\",\"16-30\",\"16-30\",\"16-30\",\"16-30\",\"16-30\",\"16-30\",\"16-30\",\"16-30\",\"16-30\",\"16-30\",\"16-30\",\"16-30\",\"16-30\",\"16-30\",\"16-30\"],\"xaxis\":\"x\",\"y\":[\"Pakistan\",\"East\",\"Pakistan\",\"Pakistan\",\"East\",\"Pakistan\",\"Pakistan\",\"Pakistan\",\"Pakistan\",\"Pakistan\",\"Pakistan\",\"Pakistan\",\"Pakistan\",\"Pakistan\",\"Pakistan\",\"Pakistan\",\"Pakistan\"],\"yaxis\":\"y\",\"type\":\"scatter\"},{\"alignmentgroup\":\"True\",\"hovertemplate\":\"Gender=Female<br>Time of class (pm)=09:30<br>Age=%{x}<extra></extra>\",\"legendgroup\":\"Female\",\"marker\":{\"color\":\"#FF7F0E\",\"symbol\":\"circle\"},\"name\":\"Female\",\"notched\":true,\"offsetgroup\":\"Female\",\"showlegend\":false,\"x\":[\"30-40\",\"16-30\",\"16-30\",\"16-30\",\"16-30\",\"16-30\",\"16-30\",\"16-30\",\"16-30\",\"16-30\",\"16-30\",\"16-30\",\"16-30\",\"16-30\",\"16-30\",\"16-30\",\"16-30\"],\"xaxis\":\"x3\",\"yaxis\":\"y3\",\"type\":\"box\"},{\"alignmentgroup\":\"True\",\"hovertemplate\":\"Gender=Female<br>Time of class (pm)=09:30<br>Location=%{y}<extra></extra>\",\"legendgroup\":\"Female\",\"marker\":{\"color\":\"#FF7F0E\",\"symbol\":\"circle\"},\"name\":\"Female\",\"offsetgroup\":\"Female\",\"scalegroup\":\"y\",\"showlegend\":false,\"xaxis\":\"x2\",\"y\":[\"Pakistan\",\"East\",\"Pakistan\",\"Pakistan\",\"East\",\"Pakistan\",\"Pakistan\",\"Pakistan\",\"Pakistan\",\"Pakistan\",\"Pakistan\",\"Pakistan\",\"Pakistan\",\"Pakistan\",\"Pakistan\",\"Pakistan\",\"Pakistan\"],\"yaxis\":\"y2\",\"type\":\"violin\"}],\"name\":\"09:30\"}]);\n",
       "                        }).then(function(){\n",
       "                            \n",
       "var gd = document.getElementById('31d9ae23-5350-4727-b838-90f30ad61842');\n",
       "var x = new MutationObserver(function (mutations, observer) {{\n",
       "        var display = window.getComputedStyle(gd).display;\n",
       "        if (!display || display === 'none') {{\n",
       "            console.log([gd, 'removed!']);\n",
       "            Plotly.purge(gd);\n",
       "            observer.disconnect();\n",
       "        }}\n",
       "}});\n",
       "\n",
       "// Listen for the removal of the full notebook cells\n",
       "var notebookContainer = gd.closest('#notebook-container');\n",
       "if (notebookContainer) {{\n",
       "    x.observe(notebookContainer, {childList: true});\n",
       "}}\n",
       "\n",
       "// Listen for the clearing of the current output cell\n",
       "var outputEl = gd.closest('.output');\n",
       "if (outputEl) {{\n",
       "    x.observe(outputEl, {childList: true});\n",
       "}}\n",
       "\n",
       "                        })                };                });            </script>        </div>"
      ]
     },
     "metadata": {},
     "output_type": "display_data"
    }
   ],
   "source": [
    "import pandas as pd\n",
    "import plotly.express as px\n",
    "f = pd.read_csv('data_viz.csv')\n",
    "fig = px.scatter(f, x='Age', y='Location', marginal_y='violin',color='Gender', animation_frame='Time of class (pm)',\n",
    "                 marginal_x='box', template='simple_white')\n",
    "fig.show()\n",
    "\n"
   ]
  },
  {
   "cell_type": "code",
   "execution_count": null,
   "id": "cc79e62e",
   "metadata": {},
   "outputs": [],
   "source": [
    "import pandas as pd\n",
    "import plotly.express as px\n",
    "f = pd.read_csv('data_viz.csv')\n",
    "fig = px.pie(f, values='Age', names='Location')\n",
    "fig.show()\n",
    "\n"
   ]
  },
  {
   "cell_type": "code",
   "execution_count": null,
   "id": "0f8c98e7",
   "metadata": {},
   "outputs": [],
   "source": []
  }
 ],
 "metadata": {
  "kernelspec": {
   "display_name": "Python 3 (ipykernel)",
   "language": "python",
   "name": "python3"
  },
  "language_info": {
   "codemirror_mode": {
    "name": "ipython",
    "version": 3
   },
   "file_extension": ".py",
   "mimetype": "text/x-python",
   "name": "python",
   "nbconvert_exporter": "python",
   "pygments_lexer": "ipython3",
   "version": "3.9.7"
  }
 },
 "nbformat": 4,
 "nbformat_minor": 5
}
