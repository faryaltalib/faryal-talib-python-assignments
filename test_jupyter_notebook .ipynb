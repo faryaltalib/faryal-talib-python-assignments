{
 "cells": [
  {
   "cell_type": "markdown",
   "id": "806f2e36",
   "metadata": {},
   "source": [
    "# Python learning\n",
    "## My first program"
   ]
  },
  {
   "cell_type": "code",
   "execution_count": 7,
   "id": "208f6f36",
   "metadata": {},
   "outputs": [
    {
     "name": "stdout",
     "output_type": "stream",
     "text": [
      "hello\n",
      "5\n"
     ]
    }
   ],
   "source": [
    "print(\"hello\")\n",
    "print(2+3)\n"
   ]
  },
  {
   "cell_type": "markdown",
   "id": "9cc0732b",
   "metadata": {},
   "source": [
    "### *02_operators*"
   ]
  },
  {
   "cell_type": "code",
   "execution_count": 8,
   "id": "b1cf363b",
   "metadata": {},
   "outputs": [
    {
     "name": "stdout",
     "output_type": "stream",
     "text": [
      "784\n",
      "1\n",
      "2.0\n",
      "2\n",
      "8\n",
      "27.444444444444443\n"
     ]
    }
   ],
   "source": [
    "print(8*98)\n",
    "print(250%3)\n",
    "print(6/3)\n",
    "print(6//3)\n",
    "print(2**3)\n",
    "print(2**8/9+2-3)"
   ]
  },
  {
   "cell_type": "markdown",
   "id": "fd5aeab9",
   "metadata": {},
   "source": [
    "### 03_strings"
   ]
  },
  {
   "cell_type": "code",
   "execution_count": 9,
   "id": "aad51b47",
   "metadata": {},
   "outputs": [
    {
     "name": "stdout",
     "output_type": "stream",
     "text": [
      "my nameis faryal\n",
      "test for single\n",
      "test for triple\n",
      "whats's your problem?\n",
      "she says,\"my name is faryal\"\n"
     ]
    }
   ],
   "source": [
    "print(\"my name is faryal\")\n",
    "#strings are text in single, double and triple commas\n",
    "print('test for single')\n",
    "print('''test for triple''')\n",
    "print(\"whats's your problem?\")\n",
    "print('''she says,\"my name is faryal\"''')"
   ]
  },
  {
   "cell_type": "markdown",
   "id": "ee1a6de4",
   "metadata": {},
   "source": [
    "### 04_comments_in_python"
   ]
  },
  {
   "cell_type": "code",
   "execution_count": null,
   "id": "7ce7b9e3",
   "metadata": {},
   "outputs": [],
   "source": []
  }
 ],
 "metadata": {
  "kernelspec": {
   "display_name": "Python 3 (ipykernel)",
   "language": "python",
   "name": "python3"
  },
  "language_info": {
   "codemirror_mode": {
    "name": "ipython",
    "version": 3
   },
   "file_extension": ".py",
   "mimetype": "text/x-python",
   "name": "python",
   "nbconvert_exporter": "python",
   "pygments_lexer": "ipython3",
   "version": "3.9.7"
  }
 },
 "nbformat": 4,
 "nbformat_minor": 5
}
