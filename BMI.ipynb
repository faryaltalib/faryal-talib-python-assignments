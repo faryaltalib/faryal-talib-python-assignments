{
 "cells": [
  {
   "cell_type": "markdown",
   "id": "b44471d8",
   "metadata": {},
   "source": [
    "# BMI"
   ]
  },
  {
   "cell_type": "code",
   "execution_count": 2,
   "id": "81cac51c",
   "metadata": {},
   "outputs": [
    {
     "name": "stdout",
     "output_type": "stream",
     "text": [
      "What is your weight in kilograms?48\n"
     ]
    }
   ],
   "source": [
    "weight= input('What is your weight in kilograms?')"
   ]
  },
  {
   "cell_type": "code",
   "execution_count": 3,
   "id": "a904423a",
   "metadata": {},
   "outputs": [],
   "source": [
    "weight= int(weight)"
   ]
  },
  {
   "cell_type": "code",
   "execution_count": 4,
   "id": "64d2a64b",
   "metadata": {},
   "outputs": [
    {
     "name": "stdout",
     "output_type": "stream",
     "text": [
      "What is your height in meters?1.59\n"
     ]
    }
   ],
   "source": [
    "height= input('What is your height in meters?')\n"
   ]
  },
  {
   "cell_type": "code",
   "execution_count": 5,
   "id": "90452d5c",
   "metadata": {},
   "outputs": [],
   "source": [
    "height=float(height)"
   ]
  },
  {
   "cell_type": "code",
   "execution_count": 6,
   "id": "623215c0",
   "metadata": {},
   "outputs": [
    {
     "data": {
      "text/plain": [
       "18.986590720303784"
      ]
     },
     "execution_count": 6,
     "metadata": {},
     "output_type": "execute_result"
    }
   ],
   "source": [
    "BMI= weight/(height**2)\n",
    "BMI"
   ]
  }
 ],
 "metadata": {
  "kernelspec": {
   "display_name": "Python 3 (ipykernel)",
   "language": "python",
   "name": "python3"
  },
  "language_info": {
   "codemirror_mode": {
    "name": "ipython",
    "version": 3
   },
   "file_extension": ".py",
   "mimetype": "text/x-python",
   "name": "python",
   "nbconvert_exporter": "python",
   "pygments_lexer": "ipython3",
   "version": "3.9.7"
  }
 },
 "nbformat": 4,
 "nbformat_minor": 5
}
