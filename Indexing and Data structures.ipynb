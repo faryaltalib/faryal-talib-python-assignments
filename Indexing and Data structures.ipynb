{
 "cells": [
  {
   "cell_type": "markdown",
   "id": "f8b12f6f",
   "metadata": {},
   "source": [
    "# Indexing"
   ]
  },
  {
   "cell_type": "code",
   "execution_count": 12,
   "id": "d38047ac",
   "metadata": {},
   "outputs": [
    {
     "data": {
      "text/plain": [
       "'samosa pakora'"
      ]
     },
     "execution_count": 12,
     "metadata": {},
     "output_type": "execute_result"
    }
   ],
   "source": [
    "# make a string\n",
    "a= 'samosa pakora'\n",
    "a"
   ]
  },
  {
   "cell_type": "code",
   "execution_count": 13,
   "id": "2bcb494e",
   "metadata": {
    "scrolled": true
   },
   "outputs": [
    {
     "data": {
      "text/plain": [
       "'samosa pakora'"
      ]
     },
     "execution_count": 13,
     "metadata": {},
     "output_type": "execute_result"
    }
   ],
   "source": [
    "a"
   ]
  },
  {
   "cell_type": "code",
   "execution_count": 18,
   "id": "97c06a37",
   "metadata": {},
   "outputs": [
    {
     "data": {
      "text/plain": [
       "13"
      ]
     },
     "execution_count": 18,
     "metadata": {},
     "output_type": "execute_result"
    }
   ],
   "source": [
    "#length of index\n",
    "len(a)"
   ]
  },
  {
   "cell_type": "code",
   "execution_count": 14,
   "id": "8262b74b",
   "metadata": {},
   "outputs": [
    {
     "data": {
      "text/plain": [
       "'s'"
      ]
     },
     "execution_count": 14,
     "metadata": {},
     "output_type": "execute_result"
    }
   ],
   "source": [
    "a[0]"
   ]
  },
  {
   "cell_type": "code",
   "execution_count": 15,
   "id": "27345957",
   "metadata": {},
   "outputs": [
    {
     "data": {
      "text/plain": [
       "'a'"
      ]
     },
     "execution_count": 15,
     "metadata": {},
     "output_type": "execute_result"
    }
   ],
   "source": [
    "a[1]"
   ]
  },
  {
   "cell_type": "code",
   "execution_count": 16,
   "id": "edb599de",
   "metadata": {},
   "outputs": [
    {
     "data": {
      "text/plain": [
       "'o'"
      ]
     },
     "execution_count": 16,
     "metadata": {},
     "output_type": "execute_result"
    }
   ],
   "source": [
    "a[3]"
   ]
  },
  {
   "cell_type": "code",
   "execution_count": 17,
   "id": "fe7c2d8f",
   "metadata": {},
   "outputs": [
    {
     "data": {
      "text/plain": [
       "'p'"
      ]
     },
     "execution_count": 17,
     "metadata": {},
     "output_type": "execute_result"
    }
   ],
   "source": [
    "a[7]"
   ]
  },
  {
   "cell_type": "code",
   "execution_count": 21,
   "id": "3e86cfdd",
   "metadata": {},
   "outputs": [
    {
     "data": {
      "text/plain": [
       "'samosa'"
      ]
     },
     "execution_count": 21,
     "metadata": {},
     "output_type": "execute_result"
    }
   ],
   "source": [
    "#last index is exclusive\n",
    "a[0:6]"
   ]
  },
  {
   "cell_type": "code",
   "execution_count": 22,
   "id": "4b470578",
   "metadata": {},
   "outputs": [
    {
     "data": {
      "text/plain": [
       "'r'"
      ]
     },
     "execution_count": 22,
     "metadata": {},
     "output_type": "execute_result"
    }
   ],
   "source": [
    "a[-2]"
   ]
  },
  {
   "cell_type": "code",
   "execution_count": 23,
   "id": "c55a0384",
   "metadata": {},
   "outputs": [
    {
     "data": {
      "text/plain": [
       "' pa'"
      ]
     },
     "execution_count": 23,
     "metadata": {},
     "output_type": "execute_result"
    }
   ],
   "source": [
    "a[6:9]"
   ]
  },
  {
   "cell_type": "code",
   "execution_count": 24,
   "id": "0ab61873",
   "metadata": {},
   "outputs": [
    {
     "data": {
      "text/plain": [
       "'biryani'"
      ]
     },
     "execution_count": 24,
     "metadata": {},
     "output_type": "execute_result"
    }
   ],
   "source": [
    "food= \"biryani\"\n",
    "food"
   ]
  },
  {
   "cell_type": "code",
   "execution_count": 26,
   "id": "bf125236",
   "metadata": {
    "scrolled": true
   },
   "outputs": [
    {
     "data": {
      "text/plain": [
       "7"
      ]
     },
     "execution_count": 26,
     "metadata": {},
     "output_type": "execute_result"
    }
   ],
   "source": [
    "len(food)"
   ]
  },
  {
   "cell_type": "code",
   "execution_count": 27,
   "id": "30b6b4fb",
   "metadata": {},
   "outputs": [
    {
     "data": {
      "text/plain": [
       "'irya'"
      ]
     },
     "execution_count": 27,
     "metadata": {},
     "output_type": "execute_result"
    }
   ],
   "source": [
    "food[1:5]"
   ]
  },
  {
   "cell_type": "markdown",
   "id": "f80fbd87",
   "metadata": {},
   "source": [
    "## string method\n"
   ]
  },
  {
   "cell_type": "code",
   "execution_count": 30,
   "id": "263c99c2",
   "metadata": {},
   "outputs": [
    {
     "data": {
      "text/plain": [
       "'Biryani'"
      ]
     },
     "execution_count": 30,
     "metadata": {},
     "output_type": "execute_result"
    }
   ],
   "source": [
    "food.capitalize()\n",
    "#to capitalize the first letter"
   ]
  },
  {
   "cell_type": "code",
   "execution_count": 32,
   "id": "e1f81dab",
   "metadata": {},
   "outputs": [
    {
     "data": {
      "text/plain": [
       "'BIRYANI'"
      ]
     },
     "execution_count": 32,
     "metadata": {},
     "output_type": "execute_result"
    }
   ],
   "source": [
    "food.upper()\n",
    "#capitalize every letter"
   ]
  },
  {
   "cell_type": "code",
   "execution_count": 33,
   "id": "ede98b7d",
   "metadata": {},
   "outputs": [
    {
     "data": {
      "text/plain": [
       "'biryani'"
      ]
     },
     "execution_count": 33,
     "metadata": {},
     "output_type": "execute_result"
    }
   ],
   "source": [
    "food.lower()\n",
    "#lowercase every letter"
   ]
  },
  {
   "cell_type": "code",
   "execution_count": 34,
   "id": "3b911dfe",
   "metadata": {},
   "outputs": [
    {
     "data": {
      "text/plain": [
       "'Shiryani'"
      ]
     },
     "execution_count": 34,
     "metadata": {},
     "output_type": "execute_result"
    }
   ],
   "source": [
    "food.replace('b','Sh')\n",
    "#replace first letter with second"
   ]
  },
  {
   "cell_type": "code",
   "execution_count": 35,
   "id": "407cc40f",
   "metadata": {},
   "outputs": [
    {
     "data": {
      "text/plain": [
       "'faryal'"
      ]
     },
     "execution_count": 35,
     "metadata": {},
     "output_type": "execute_result"
    }
   ],
   "source": [
    "#counting a specific alphabet in a string\n",
    "name='faryal'\n",
    "name"
   ]
  },
  {
   "cell_type": "code",
   "execution_count": 36,
   "id": "a060d15b",
   "metadata": {},
   "outputs": [
    {
     "data": {
      "text/plain": [
       "2"
      ]
     },
     "execution_count": 36,
     "metadata": {},
     "output_type": "execute_result"
    }
   ],
   "source": [
    "name.count('a')\n"
   ]
  },
  {
   "cell_type": "markdown",
   "id": "3df2495c",
   "metadata": {},
   "source": [
    "## finding an index number in string"
   ]
  },
  {
   "cell_type": "code",
   "execution_count": 38,
   "id": "ef06859c",
   "metadata": {},
   "outputs": [
    {
     "data": {
      "text/plain": [
       "\"you must be tired, aren't you\""
      ]
     },
     "execution_count": 38,
     "metadata": {},
     "output_type": "execute_result"
    }
   ],
   "source": [
    "line=\"you must be tired, aren't you\"\n",
    "line"
   ]
  },
  {
   "cell_type": "code",
   "execution_count": 40,
   "id": "4a728f55",
   "metadata": {
    "scrolled": true
   },
   "outputs": [
    {
     "data": {
      "text/plain": [
       "0"
      ]
     },
     "execution_count": 40,
     "metadata": {},
     "output_type": "execute_result"
    }
   ],
   "source": [
    "line.find('y')\n"
   ]
  },
  {
   "cell_type": "code",
   "execution_count": 43,
   "id": "351958d3",
   "metadata": {},
   "outputs": [
    {
     "data": {
      "text/plain": [
       "['you must be tired', \" aren't you\"]"
      ]
     },
     "execution_count": 43,
     "metadata": {},
     "output_type": "execute_result"
    }
   ],
   "source": [
    "### how to split a string\n",
    "line=\"you must be tired, aren't you\"\n",
    "line.split(',')\n"
   ]
  },
  {
   "cell_type": "markdown",
   "id": "0f43d205",
   "metadata": {},
   "source": [
    "# BASIC DATA STRUCTURES IN PYTHON\n",
    "1. TUPLE\n",
    "2. LIST\n",
    "3. DICTIONARIES\n",
    "4. SET"
   ]
  },
  {
   "cell_type": "markdown",
   "id": "9dbc7ed4",
   "metadata": {},
   "source": [
    "### 1. TUPLE\n",
    "- Ordered collection of elements\n",
    "- Enclosed in ()\n",
    "- Different kind of elements can be stored\n",
    "- unchangeable elements"
   ]
  },
  {
   "cell_type": "code",
   "execution_count": 45,
   "id": "1c5175dc",
   "metadata": {},
   "outputs": [
    {
     "data": {
      "text/plain": [
       "(2, 'hi', False, 8.9)"
      ]
     },
     "execution_count": 45,
     "metadata": {},
     "output_type": "execute_result"
    }
   ],
   "source": [
    "tup1 = (2,'hi', False, 8.9)\n",
    "tup1"
   ]
  },
  {
   "cell_type": "code",
   "execution_count": 46,
   "id": "35da0e25",
   "metadata": {},
   "outputs": [
    {
     "data": {
      "text/plain": [
       "tuple"
      ]
     },
     "execution_count": 46,
     "metadata": {},
     "output_type": "execute_result"
    }
   ],
   "source": [
    "# type of a tuple\n",
    "type(tup1)"
   ]
  },
  {
   "cell_type": "markdown",
   "id": "03744bf4",
   "metadata": {},
   "source": [
    "### -Indexing a Tuple"
   ]
  },
  {
   "cell_type": "code",
   "execution_count": 48,
   "id": "b0cab6c9",
   "metadata": {},
   "outputs": [
    {
     "data": {
      "text/plain": [
       "False"
      ]
     },
     "execution_count": 48,
     "metadata": {},
     "output_type": "execute_result"
    }
   ],
   "source": [
    "tup1[2]\n"
   ]
  },
  {
   "cell_type": "code",
   "execution_count": 49,
   "id": "8f0597d9",
   "metadata": {},
   "outputs": [
    {
     "data": {
      "text/plain": [
       "8.9"
      ]
     },
     "execution_count": 49,
     "metadata": {},
     "output_type": "execute_result"
    }
   ],
   "source": [
    "tup1[3]"
   ]
  },
  {
   "cell_type": "code",
   "execution_count": 51,
   "id": "4cf04cdc",
   "metadata": {},
   "outputs": [
    {
     "data": {
      "text/plain": [
       "(2, 'hi', False, 8.9)"
      ]
     },
     "execution_count": 51,
     "metadata": {},
     "output_type": "execute_result"
    }
   ],
   "source": [
    "tup1[0:4]"
   ]
  },
  {
   "cell_type": "code",
   "execution_count": 52,
   "id": "dbdeebf7",
   "metadata": {},
   "outputs": [
    {
     "data": {
      "text/plain": [
       "(3, 'hello', True, 7.4)"
      ]
     },
     "execution_count": 52,
     "metadata": {},
     "output_type": "execute_result"
    }
   ],
   "source": [
    "tup2=(3,\"hello\", True, 7.4)\n",
    "tup2"
   ]
  },
  {
   "cell_type": "code",
   "execution_count": 53,
   "id": "b0b39b4a",
   "metadata": {},
   "outputs": [
    {
     "data": {
      "text/plain": [
       "(2, 'hi', False, 8.9, 3, 'hello', True, 7.4)"
      ]
     },
     "execution_count": 53,
     "metadata": {},
     "output_type": "execute_result"
    }
   ],
   "source": [
    "# concatinate(to add two tuples)                                       \n",
    "tup1+ tup2"
   ]
  },
  {
   "cell_type": "code",
   "execution_count": 55,
   "id": "3b288488",
   "metadata": {},
   "outputs": [
    {
     "data": {
      "text/plain": [
       "(2,\n",
       " 'hi',\n",
       " False,\n",
       " 8.9,\n",
       " 2,\n",
       " 'hi',\n",
       " False,\n",
       " 8.9,\n",
       " 2,\n",
       " 'hi',\n",
       " False,\n",
       " 8.9,\n",
       " 3,\n",
       " 'hello',\n",
       " True,\n",
       " 7.4)"
      ]
     },
     "execution_count": 55,
     "metadata": {},
     "output_type": "execute_result"
    }
   ],
   "source": [
    "tup1*3+tup2"
   ]
  },
  {
   "cell_type": "code",
   "execution_count": 57,
   "id": "72d20574",
   "metadata": {
    "scrolled": true
   },
   "outputs": [
    {
     "data": {
      "text/plain": [
       "(2, 3, 4, 5, 8)"
      ]
     },
     "execution_count": 57,
     "metadata": {},
     "output_type": "execute_result"
    }
   ],
   "source": [
    "tup3=(2,3,4,5,8)\n",
    "tup3"
   ]
  },
  {
   "cell_type": "code",
   "execution_count": 58,
   "id": "604ea4f2",
   "metadata": {},
   "outputs": [
    {
     "data": {
      "text/plain": [
       "(1, 2, 3, 4, 5)"
      ]
     },
     "execution_count": 58,
     "metadata": {},
     "output_type": "execute_result"
    }
   ],
   "source": [
    "tup4=(1,2,3,4,5,8,9,6)\n",
    "tup4"
   ]
  },
  {
   "cell_type": "code",
   "execution_count": 62,
   "id": "1923b209",
   "metadata": {},
   "outputs": [
    {
     "data": {
      "text/plain": [
       "2"
      ]
     },
     "execution_count": 62,
     "metadata": {},
     "output_type": "execute_result"
    }
   ],
   "source": [
    "min(tup3)"
   ]
  },
  {
   "cell_type": "code",
   "execution_count": 63,
   "id": "8d804957",
   "metadata": {},
   "outputs": [
    {
     "data": {
      "text/plain": [
       "5"
      ]
     },
     "execution_count": 63,
     "metadata": {},
     "output_type": "execute_result"
    }
   ],
   "source": [
    "max(tup4)"
   ]
  },
  {
   "cell_type": "code",
   "execution_count": 85,
   "id": "6a8f1da4",
   "metadata": {},
   "outputs": [
    {
     "data": {
      "text/plain": [
       "0"
      ]
     },
     "execution_count": 85,
     "metadata": {},
     "output_type": "execute_result"
    }
   ],
   "source": [
    "tup4.count(9)"
   ]
  },
  {
   "cell_type": "code",
   "execution_count": 84,
   "id": "93d25544",
   "metadata": {},
   "outputs": [
    {
     "data": {
      "text/plain": [
       "4"
      ]
     },
     "execution_count": 84,
     "metadata": {},
     "output_type": "execute_result"
    }
   ],
   "source": [
    "tup4.index(5)"
   ]
  },
  {
   "cell_type": "markdown",
   "id": "72ffd831",
   "metadata": {},
   "source": [
    "---"
   ]
  },
  {
   "cell_type": "markdown",
   "id": "ff77f965",
   "metadata": {},
   "source": [
    "### 2. List\n",
    "- Ordered collection of elements\n",
    "- Enclosed in [ ]\n",
    "- unchangeable elements"
   ]
  },
  {
   "cell_type": "code",
   "execution_count": 67,
   "id": "4701b1db",
   "metadata": {},
   "outputs": [
    {
     "data": {
      "text/plain": [
       "[1, 'helloooooooo', True, 5.8]"
      ]
     },
     "execution_count": 67,
     "metadata": {},
     "output_type": "execute_result"
    }
   ],
   "source": [
    "list1= [1,'helloooooooo', True, 5.8]\n",
    "list1"
   ]
  },
  {
   "cell_type": "code",
   "execution_count": 69,
   "id": "3030adc9",
   "metadata": {},
   "outputs": [
    {
     "data": {
      "text/plain": [
       "list"
      ]
     },
     "execution_count": 69,
     "metadata": {},
     "output_type": "execute_result"
    }
   ],
   "source": [
    "type(list1)"
   ]
  },
  {
   "cell_type": "code",
   "execution_count": 70,
   "id": "65395241",
   "metadata": {},
   "outputs": [
    {
     "data": {
      "text/plain": [
       "4"
      ]
     },
     "execution_count": 70,
     "metadata": {},
     "output_type": "execute_result"
    }
   ],
   "source": [
    "len (list1)\n"
   ]
  },
  {
   "cell_type": "code",
   "execution_count": 71,
   "id": "85f30e1b",
   "metadata": {},
   "outputs": [
    {
     "data": {
      "text/plain": [
       "5.8"
      ]
     },
     "execution_count": 71,
     "metadata": {},
     "output_type": "execute_result"
    }
   ],
   "source": [
    "list1[3]"
   ]
  },
  {
   "cell_type": "code",
   "execution_count": 73,
   "id": "806ed412",
   "metadata": {},
   "outputs": [
    {
     "data": {
      "text/plain": [
       "[3, 5, 6, 'fary', 4.6]"
      ]
     },
     "execution_count": 73,
     "metadata": {},
     "output_type": "execute_result"
    }
   ],
   "source": [
    "list2=[3,5,6,'fary', 4.6]\n",
    "list2"
   ]
  },
  {
   "cell_type": "code",
   "execution_count": 74,
   "id": "2e6aa82c",
   "metadata": {},
   "outputs": [
    {
     "data": {
      "text/plain": [
       "[1, 'helloooooooo', True, 5.8, 3, 5, 6, 'fary', 4.6]"
      ]
     },
     "execution_count": 74,
     "metadata": {},
     "output_type": "execute_result"
    }
   ],
   "source": [
    "list1 + list2"
   ]
  },
  {
   "cell_type": "code",
   "execution_count": 77,
   "id": "cd22e8bc",
   "metadata": {},
   "outputs": [
    {
     "data": {
      "text/plain": [
       "[1,\n",
       " 'helloooooooo',\n",
       " True,\n",
       " 5.8,\n",
       " 1,\n",
       " 'helloooooooo',\n",
       " True,\n",
       " 5.8,\n",
       " 1,\n",
       " 'helloooooooo',\n",
       " True,\n",
       " 5.8]"
      ]
     },
     "execution_count": 77,
     "metadata": {},
     "output_type": "execute_result"
    }
   ],
   "source": [
    "3*list1"
   ]
  },
  {
   "cell_type": "code",
   "execution_count": 86,
   "id": "6f5f112d",
   "metadata": {},
   "outputs": [
    {
     "data": {
      "text/plain": [
       "[1, 'helloooooooo', True, 5.8]"
      ]
     },
     "execution_count": 86,
     "metadata": {},
     "output_type": "execute_result"
    }
   ],
   "source": [
    "list1"
   ]
  },
  {
   "cell_type": "code",
   "execution_count": 94,
   "id": "a64dfbf6",
   "metadata": {},
   "outputs": [
    {
     "data": {
      "text/plain": [
       "[5.8, True, 'helloooooooo', 1]"
      ]
     },
     "execution_count": 94,
     "metadata": {},
     "output_type": "execute_result"
    }
   ],
   "source": [
    "list1.reverse()\n",
    "list1"
   ]
  },
  {
   "cell_type": "code",
   "execution_count": 108,
   "id": "690dda32",
   "metadata": {},
   "outputs": [
    {
     "data": {
      "text/plain": [
       "[5.8,\n",
       " True,\n",
       " 'helloooooooo',\n",
       " 1,\n",
       " 'hi biro',\n",
       " 'hi biro',\n",
       " 'hi biro',\n",
       " 'hi biro',\n",
       " 'hi biro',\n",
       " 'hi biro',\n",
       " 'hi biro',\n",
       " 'hi biro',\n",
       " 'hi biro',\n",
       " 'hi biro',\n",
       " 'hi biro']"
      ]
     },
     "execution_count": 108,
     "metadata": {},
     "output_type": "execute_result"
    }
   ],
   "source": [
    "list1.append('hi biro')  #it will add the term in bracket in the list\n",
    "list1"
   ]
  },
  {
   "cell_type": "code",
   "execution_count": 115,
   "id": "434a7d8f",
   "metadata": {},
   "outputs": [
    {
     "data": {
      "text/plain": [
       "[]"
      ]
     },
     "execution_count": 115,
     "metadata": {},
     "output_type": "execute_result"
    }
   ],
   "source": [
    "list1.clear() #it will clear the list\n",
    "list1"
   ]
  },
  {
   "cell_type": "code",
   "execution_count": 114,
   "id": "c4529cd0",
   "metadata": {},
   "outputs": [
    {
     "data": {
      "text/plain": [
       "[1, 2, 3, 4, 5, 6]"
      ]
     },
     "execution_count": 114,
     "metadata": {},
     "output_type": "execute_result"
    }
   ],
   "source": [
    "list3=[1,2,3,4,5,6]\n",
    "list3"
   ]
  },
  {
   "cell_type": "code",
   "execution_count": 126,
   "id": "3818fd90",
   "metadata": {},
   "outputs": [
    {
     "data": {
      "text/plain": [
       "[1, 2, 3, 4, 5, 7, 7, 7, 7, 6]"
      ]
     },
     "execution_count": 126,
     "metadata": {},
     "output_type": "execute_result"
    }
   ],
   "source": [
    "list3.insert(5,7) #it will tell where to insert an item in the list. first one will show to position after which the termis to be inserted\n",
    "list3"
   ]
  },
  {
   "cell_type": "code",
   "execution_count": 128,
   "id": "58f44495",
   "metadata": {},
   "outputs": [
    {
     "data": {
      "text/plain": [
       "[1, 2, 3, 4, 5, 7, 7, 7, 7, 6]"
      ]
     },
     "execution_count": 128,
     "metadata": {},
     "output_type": "execute_result"
    }
   ],
   "source": [
    "list3.copy()\n",
    "list3"
   ]
  },
  {
   "cell_type": "code",
   "execution_count": 130,
   "id": "a3ec0ec7",
   "metadata": {},
   "outputs": [
    {
     "data": {
      "text/plain": [
       "[0, 9, 8, 7, 6]"
      ]
     },
     "execution_count": 130,
     "metadata": {},
     "output_type": "execute_result"
    }
   ],
   "source": [
    "list4=[0,9,8,7,6]\n",
    "list4"
   ]
  },
  {
   "cell_type": "code",
   "execution_count": 133,
   "id": "027d2916",
   "metadata": {},
   "outputs": [
    {
     "data": {
      "text/plain": [
       "[0,\n",
       " 9,\n",
       " 8,\n",
       " 7,\n",
       " 6,\n",
       " 't',\n",
       " 'w',\n",
       " 'o',\n",
       " 'h',\n",
       " 'i',\n",
       " ' ',\n",
       " 'k',\n",
       " 'i',\n",
       " 'a',\n",
       " ' ',\n",
       " 'h',\n",
       " 'a',\n",
       " 'a',\n",
       " 'l',\n",
       " ' ',\n",
       " 'h',\n",
       " 'a',\n",
       " 'i']"
      ]
     },
     "execution_count": 133,
     "metadata": {},
     "output_type": "execute_result"
    }
   ],
   "source": [
    "list4.extend('hi kia haal hai') #it willl split the STRING in to each character\n",
    "list4"
   ]
  },
  {
   "cell_type": "code",
   "execution_count": 138,
   "id": "156f78f1",
   "metadata": {},
   "outputs": [
    {
     "data": {
      "text/plain": [
       "[0,\n",
       " 9,\n",
       " 8,\n",
       " 7,\n",
       " 6,\n",
       " 't',\n",
       " 'w',\n",
       " 'o',\n",
       " 'h',\n",
       " 'i',\n",
       " ' ',\n",
       " 'k',\n",
       " 'i',\n",
       " 'a',\n",
       " ' ',\n",
       " 'h',\n",
       " 'a',\n",
       " 'a',\n",
       " 'l',\n",
       " ' ',\n",
       " 'h',\n",
       " 'a',\n",
       " 'i']"
      ]
     },
     "execution_count": 138,
     "metadata": {},
     "output_type": "execute_result"
    }
   ],
   "source": [
    "list4.index(7)\n",
    "list4"
   ]
  },
  {
   "cell_type": "code",
   "execution_count": 282,
   "id": "74b84655",
   "metadata": {},
   "outputs": [
    {
     "data": {
      "text/plain": [
       "' '"
      ]
     },
     "execution_count": 282,
     "metadata": {},
     "output_type": "execute_result"
    }
   ],
   "source": [
    "list4.pop() #will show the term 1 by 1"
   ]
  },
  {
   "cell_type": "code",
   "execution_count": 147,
   "id": "7f7f06b1",
   "metadata": {},
   "outputs": [
    {
     "data": {
      "text/plain": [
       "[1, 0, 3, 4, 5, 5, 6, 7, 8]"
      ]
     },
     "execution_count": 147,
     "metadata": {},
     "output_type": "execute_result"
    }
   ],
   "source": [
    "list5=[1,0,3,4,5,5,6,7,8]\n",
    "list5"
   ]
  },
  {
   "cell_type": "code",
   "execution_count": 148,
   "id": "b1495915",
   "metadata": {},
   "outputs": [
    {
     "data": {
      "text/plain": [
       "[0, 1, 3, 4, 5, 5, 6, 7, 8]"
      ]
     },
     "execution_count": 148,
     "metadata": {},
     "output_type": "execute_result"
    }
   ],
   "source": [
    "list5.sort()\n",
    "list5"
   ]
  },
  {
   "cell_type": "code",
   "execution_count": 149,
   "id": "5225bff1",
   "metadata": {},
   "outputs": [
    {
     "data": {
      "text/plain": [
       "['r', 'g', 'p', 'a']"
      ]
     },
     "execution_count": 149,
     "metadata": {},
     "output_type": "execute_result"
    }
   ],
   "source": [
    "list6=['r', 'g', 'p', 'a']\n",
    "list6"
   ]
  },
  {
   "cell_type": "code",
   "execution_count": 150,
   "id": "6bf8e474",
   "metadata": {},
   "outputs": [
    {
     "data": {
      "text/plain": [
       "['a', 'g', 'p', 'r']"
      ]
     },
     "execution_count": 150,
     "metadata": {},
     "output_type": "execute_result"
    }
   ],
   "source": [
    "list6.sort()\n",
    "list6"
   ]
  },
  {
   "cell_type": "code",
   "execution_count": 273,
   "id": "49fbab80",
   "metadata": {},
   "outputs": [
    {
     "data": {
      "text/plain": [
       "[2, 2, 2, 2, 2, 4, 5, 6, 7, 8, 9]"
      ]
     },
     "execution_count": 273,
     "metadata": {},
     "output_type": "execute_result"
    }
   ],
   "source": [
    "list7=[2,2,2,2,2,4,5,6,7,8,9]\n",
    "list7"
   ]
  },
  {
   "cell_type": "code",
   "execution_count": 274,
   "id": "199bea6f",
   "metadata": {},
   "outputs": [
    {
     "data": {
      "text/plain": [
       "5"
      ]
     },
     "execution_count": 274,
     "metadata": {},
     "output_type": "execute_result"
    }
   ],
   "source": [
    "list7.count(2) #it will tell how many times 2 appered in the list"
   ]
  },
  {
   "cell_type": "code",
   "execution_count": null,
   "id": "fe5e3ad2",
   "metadata": {},
   "outputs": [],
   "source": []
  },
  {
   "cell_type": "markdown",
   "id": "35d67735",
   "metadata": {},
   "source": [
    "## 3-Dictionaries\n",
    "- disordered collection of elements\n",
    "- key and value\n",
    "- curly brackets { } \n",
    "- mutable/changeable values"
   ]
  },
  {
   "cell_type": "code",
   "execution_count": 155,
   "id": "8449fd27",
   "metadata": {},
   "outputs": [
    {
     "data": {
      "text/plain": [
       "{'pakora': 30, 'salad': 50, 'samosa': 15}"
      ]
     },
     "execution_count": 155,
     "metadata": {},
     "output_type": "execute_result"
    }
   ],
   "source": [
    "#food and their prices\n",
    "d1 = {\"pakora\": 30, \"salad\" :50, \"samosa\":15}\n",
    "#samosa is KEY and 30 is VALUE\n",
    "d1"
   ]
  },
  {
   "cell_type": "code",
   "execution_count": 157,
   "id": "fc60ed88",
   "metadata": {},
   "outputs": [
    {
     "data": {
      "text/plain": [
       "dict"
      ]
     },
     "execution_count": 157,
     "metadata": {},
     "output_type": "execute_result"
    }
   ],
   "source": [
    "type(d1)"
   ]
  },
  {
   "cell_type": "code",
   "execution_count": 164,
   "id": "0170a8f8",
   "metadata": {},
   "outputs": [
    {
     "data": {
      "text/plain": [
       "dict_keys(['pakora', 'salad', 'samosa'])"
      ]
     },
     "execution_count": 164,
     "metadata": {},
     "output_type": "execute_result"
    }
   ],
   "source": [
    "#extract data\n",
    "keys= d1.keys()\n",
    "keys"
   ]
  },
  {
   "cell_type": "code",
   "execution_count": 165,
   "id": "0ca27270",
   "metadata": {},
   "outputs": [
    {
     "data": {
      "text/plain": [
       "dict_values([30, 50, 15])"
      ]
     },
     "execution_count": 165,
     "metadata": {},
     "output_type": "execute_result"
    }
   ],
   "source": [
    "values= d1.values()\n",
    "values"
   ]
  },
  {
   "cell_type": "code",
   "execution_count": 166,
   "id": "b18a9150",
   "metadata": {},
   "outputs": [
    {
     "data": {
      "text/plain": [
       "{'pakora': 30, 'salad': 50, 'samosa': 15, 'tikki': 10}"
      ]
     },
     "execution_count": 166,
     "metadata": {},
     "output_type": "execute_result"
    }
   ],
   "source": [
    "#we can add new element\n",
    "d1['tikki']=10\n",
    "d1"
   ]
  },
  {
   "cell_type": "code",
   "execution_count": 167,
   "id": "1588cffb",
   "metadata": {},
   "outputs": [
    {
     "data": {
      "text/plain": [
       "{'pakora': 30, 'salad': 50, 'samosa': 15, 'tikki': 15}"
      ]
     },
     "execution_count": 167,
     "metadata": {},
     "output_type": "execute_result"
    }
   ],
   "source": [
    "#update the values\n",
    "d1['tikki']=15\n",
    "d1\n"
   ]
  },
  {
   "cell_type": "code",
   "execution_count": 168,
   "id": "493e2815",
   "metadata": {},
   "outputs": [
    {
     "data": {
      "text/plain": [
       "{'dates': 50, 'chocolates': 200, 'macroni': 400}"
      ]
     },
     "execution_count": 168,
     "metadata": {},
     "output_type": "execute_result"
    }
   ],
   "source": [
    "d2={'dates':50 , 'chocolates':200 , \"macroni\" :400}\n",
    "d2"
   ]
  },
  {
   "cell_type": "code",
   "execution_count": 172,
   "id": "d56d6815",
   "metadata": {},
   "outputs": [
    {
     "data": {
      "text/plain": [
       "{'pakora': 30,\n",
       " 'salad': 50,\n",
       " 'samosa': 15,\n",
       " 'tikki': 15,\n",
       " 'dates': 50,\n",
       " 'chocolates': 200,\n",
       " 'macroni': 400}"
      ]
     },
     "execution_count": 172,
     "metadata": {},
     "output_type": "execute_result"
    }
   ],
   "source": [
    "#concatinate\n",
    "d1.update(d2)\n",
    "d1"
   ]
  },
  {
   "cell_type": "markdown",
   "id": "50ae5c8d",
   "metadata": {},
   "source": [
    "## 4- Sets\n",
    "- Disordered and Unindexed \n",
    "- { }\n",
    "- no duplicates allowed"
   ]
  },
  {
   "cell_type": "code",
   "execution_count": 186,
   "id": "32527ce8",
   "metadata": {},
   "outputs": [
    {
     "data": {
      "text/plain": [
       "{3, 6.7, 8, False, 'faryal', 'hello', 'hi'}"
      ]
     },
     "execution_count": 186,
     "metadata": {},
     "output_type": "execute_result"
    }
   ],
   "source": [
    "s1 = {3,6.7, 8, \"hi\", \"faryal\", 'hello', False}\n",
    "s1"
   ]
  },
  {
   "cell_type": "code",
   "execution_count": 187,
   "id": "7a638bc5",
   "metadata": {},
   "outputs": [
    {
     "data": {
      "text/plain": [
       "{3, 6.7, 8, False, 'faryal', 'hello', 'hi', 'jjjj'}"
      ]
     },
     "execution_count": 187,
     "metadata": {},
     "output_type": "execute_result"
    }
   ],
   "source": [
    "s1.add('jjjj')\n",
    "s1"
   ]
  },
  {
   "cell_type": "code",
   "execution_count": 188,
   "id": "8d7b85a2",
   "metadata": {},
   "outputs": [
    {
     "data": {
      "text/plain": [
       "{3, 6.7, 8, False, 'faryal', 'hello', 'hi'}"
      ]
     },
     "execution_count": 188,
     "metadata": {},
     "output_type": "execute_result"
    }
   ],
   "source": [
    "s1.remove('jjjj')\n",
    "s1"
   ]
  },
  {
   "cell_type": "code",
   "execution_count": 190,
   "id": "22c83d00",
   "metadata": {},
   "outputs": [
    {
     "data": {
      "text/plain": [
       "{3, 6.7, 9}"
      ]
     },
     "execution_count": 190,
     "metadata": {},
     "output_type": "execute_result"
    }
   ],
   "source": [
    "s2={3,6.7,9}\n",
    "s2"
   ]
  },
  {
   "cell_type": "code",
   "execution_count": 200,
   "id": "4e90c2f1",
   "metadata": {},
   "outputs": [
    {
     "data": {
      "text/plain": [
       "{9}"
      ]
     },
     "execution_count": 200,
     "metadata": {},
     "output_type": "execute_result"
    }
   ],
   "source": [
    "s2.difference(s1)\n",
    "#items of the first set not present in the second"
   ]
  },
  {
   "cell_type": "code",
   "execution_count": 197,
   "id": "76dfd8cf",
   "metadata": {},
   "outputs": [
    {
     "data": {
      "text/plain": [
       "{1, 2, 3, 4, 5}"
      ]
     },
     "execution_count": 197,
     "metadata": {},
     "output_type": "execute_result"
    }
   ],
   "source": [
    "s3={1,2,3,4,5}\n",
    "s3"
   ]
  },
  {
   "cell_type": "code",
   "execution_count": 198,
   "id": "2fc6ef9a",
   "metadata": {},
   "outputs": [
    {
     "data": {
      "text/plain": [
       "{4, 5, 6, 7, 8}"
      ]
     },
     "execution_count": 198,
     "metadata": {},
     "output_type": "execute_result"
    }
   ],
   "source": [
    "s4={4,5,6,7,8}\n",
    "s4"
   ]
  },
  {
   "cell_type": "code",
   "execution_count": 204,
   "id": "71bc6044",
   "metadata": {},
   "outputs": [
    {
     "data": {
      "text/plain": [
       "{4, 5, 6, 7, 8}"
      ]
     },
     "execution_count": 204,
     "metadata": {},
     "output_type": "execute_result"
    }
   ],
   "source": [
    "s4.difference(s3)"
   ]
  },
  {
   "cell_type": "code",
   "execution_count": 206,
   "id": "c0dbbc15",
   "metadata": {},
   "outputs": [
    {
     "data": {
      "text/plain": [
       "{4, 5, 6, 7, 8}"
      ]
     },
     "execution_count": 206,
     "metadata": {},
     "output_type": "execute_result"
    }
   ],
   "source": [
    "s4.difference_update(s3)\n",
    "s4"
   ]
  },
  {
   "cell_type": "code",
   "execution_count": 209,
   "id": "fe1fa68c",
   "metadata": {},
   "outputs": [
    {
     "data": {
      "text/plain": [
       "{1, 2, 5, 6, 8}"
      ]
     },
     "execution_count": 209,
     "metadata": {},
     "output_type": "execute_result"
    }
   ],
   "source": [
    "s5={5,8,6,1,2}\n",
    "s5\n"
   ]
  },
  {
   "cell_type": "code",
   "execution_count": 210,
   "id": "776fded6",
   "metadata": {},
   "outputs": [
    {
     "data": {
      "text/plain": [
       "{1, 2, 3, 4, 6, 7, 9}"
      ]
     },
     "execution_count": 210,
     "metadata": {},
     "output_type": "execute_result"
    }
   ],
   "source": [
    "s6={1,2,9,6,4,7,3}\n",
    "s6"
   ]
  },
  {
   "cell_type": "code",
   "execution_count": 211,
   "id": "1df74694",
   "metadata": {},
   "outputs": [
    {
     "data": {
      "text/plain": [
       "{1, 2, 6}"
      ]
     },
     "execution_count": 211,
     "metadata": {},
     "output_type": "execute_result"
    }
   ],
   "source": [
    "s5.intersection(s6)"
   ]
  },
  {
   "cell_type": "code",
   "execution_count": 216,
   "id": "ee8b9349",
   "metadata": {},
   "outputs": [
    {
     "data": {
      "text/plain": [
       "True"
      ]
     },
     "execution_count": 216,
     "metadata": {},
     "output_type": "execute_result"
    }
   ],
   "source": [
    "s5.isdisjoint(s2)"
   ]
  },
  {
   "cell_type": "code",
   "execution_count": 217,
   "id": "54c16bd3",
   "metadata": {},
   "outputs": [
    {
     "data": {
      "text/plain": [
       "False"
      ]
     },
     "execution_count": 217,
     "metadata": {},
     "output_type": "execute_result"
    }
   ],
   "source": [
    "s5.issubset(s6)"
   ]
  },
  {
   "cell_type": "code",
   "execution_count": 218,
   "id": "44d80ef6",
   "metadata": {},
   "outputs": [
    {
     "data": {
      "text/plain": [
       "{1, 2, 3}"
      ]
     },
     "execution_count": 218,
     "metadata": {},
     "output_type": "execute_result"
    }
   ],
   "source": [
    "s7 = {1,2,3}\n",
    "s7"
   ]
  },
  {
   "cell_type": "code",
   "execution_count": 219,
   "id": "618da0fd",
   "metadata": {},
   "outputs": [
    {
     "data": {
      "text/plain": [
       "{1, 2, 3, 4, 5}"
      ]
     },
     "execution_count": 219,
     "metadata": {},
     "output_type": "execute_result"
    }
   ],
   "source": [
    "s8 = {1,2,3,4,5}\n",
    "s8"
   ]
  },
  {
   "cell_type": "code",
   "execution_count": 220,
   "id": "94cbe627",
   "metadata": {},
   "outputs": [
    {
     "data": {
      "text/plain": [
       "True"
      ]
     },
     "execution_count": 220,
     "metadata": {},
     "output_type": "execute_result"
    }
   ],
   "source": [
    "s7.issubset(s8)"
   ]
  },
  {
   "cell_type": "code",
   "execution_count": 221,
   "id": "2032a93c",
   "metadata": {},
   "outputs": [
    {
     "data": {
      "text/plain": [
       "True"
      ]
     },
     "execution_count": 221,
     "metadata": {},
     "output_type": "execute_result"
    }
   ],
   "source": [
    "s8.issuperset(s7)"
   ]
  },
  {
   "cell_type": "code",
   "execution_count": 239,
   "id": "c32a3603",
   "metadata": {},
   "outputs": [
    {
     "data": {
      "text/plain": [
       "5"
      ]
     },
     "execution_count": 239,
     "metadata": {},
     "output_type": "execute_result"
    }
   ],
   "source": [
    "s8.pop() #1 by 1 the items will get pop up"
   ]
  },
  {
   "cell_type": "code",
   "execution_count": 245,
   "id": "4b1924d6",
   "metadata": {},
   "outputs": [
    {
     "data": {
      "text/plain": [
       "{1, 2, 3}"
      ]
     },
     "execution_count": 245,
     "metadata": {},
     "output_type": "execute_result"
    }
   ],
   "source": [
    "s9={1,2,3}\n",
    "s9"
   ]
  },
  {
   "cell_type": "code",
   "execution_count": 246,
   "id": "c7d34041",
   "metadata": {},
   "outputs": [
    {
     "data": {
      "text/plain": [
       "{4, 5, 6}"
      ]
     },
     "execution_count": 246,
     "metadata": {},
     "output_type": "execute_result"
    }
   ],
   "source": [
    "s10={4,5,6}\n",
    "s10"
   ]
  },
  {
   "cell_type": "code",
   "execution_count": 248,
   "id": "8b0268ae",
   "metadata": {},
   "outputs": [
    {
     "data": {
      "text/plain": [
       "{1, 2, 3, 4, 5, 6}"
      ]
     },
     "execution_count": 248,
     "metadata": {},
     "output_type": "execute_result"
    }
   ],
   "source": [
    "s9.update(s10) #merge two sets\n",
    "s9"
   ]
  },
  {
   "cell_type": "code",
   "execution_count": 262,
   "id": "a7c3fecc",
   "metadata": {},
   "outputs": [
    {
     "data": {
      "text/plain": [
       "{1, 2, 3, 4, 5}"
      ]
     },
     "execution_count": 262,
     "metadata": {},
     "output_type": "execute_result"
    }
   ],
   "source": [
    "sa={1,2,3,4,5}\n",
    "sa"
   ]
  },
  {
   "cell_type": "code",
   "execution_count": 263,
   "id": "76e412d1",
   "metadata": {},
   "outputs": [
    {
     "data": {
      "text/plain": [
       "{4, 5, 6, 7, 8}"
      ]
     },
     "execution_count": 263,
     "metadata": {},
     "output_type": "execute_result"
    }
   ],
   "source": [
    "sb={4,5,6,7,8}\n",
    "sb"
   ]
  },
  {
   "cell_type": "code",
   "execution_count": 264,
   "id": "4eeb34cd",
   "metadata": {},
   "outputs": [
    {
     "data": {
      "text/plain": [
       "{1, 2, 3, 6, 7, 8}"
      ]
     },
     "execution_count": 264,
     "metadata": {},
     "output_type": "execute_result"
    }
   ],
   "source": [
    "sa.symmetric_difference(sb)   #all items except common items"
   ]
  },
  {
   "cell_type": "code",
   "execution_count": 266,
   "id": "0df74383",
   "metadata": {},
   "outputs": [
    {
     "data": {
      "text/plain": [
       "{0, 1, 2, 6, 8}"
      ]
     },
     "execution_count": 266,
     "metadata": {},
     "output_type": "execute_result"
    }
   ],
   "source": [
    "sc={1,2,6,0,8}\n",
    "sc"
   ]
  },
  {
   "cell_type": "code",
   "execution_count": 267,
   "id": "661c9693",
   "metadata": {},
   "outputs": [
    {
     "data": {
      "text/plain": [
       "{3, 5, 6, 8, 14}"
      ]
     },
     "execution_count": 267,
     "metadata": {},
     "output_type": "execute_result"
    }
   ],
   "source": [
    "sd={14,6,8,5,3}\n",
    "sd"
   ]
  },
  {
   "cell_type": "code",
   "execution_count": 268,
   "id": "e9fc3a99",
   "metadata": {},
   "outputs": [
    {
     "data": {
      "text/plain": [
       "{0, 1, 2, 3, 5, 14}"
      ]
     },
     "execution_count": 268,
     "metadata": {},
     "output_type": "execute_result"
    }
   ],
   "source": [
    "sc.symmetric_difference_update(sd)   #sc will get updated with the difference but sd will remain unchanged\n",
    "sc"
   ]
  },
  {
   "cell_type": "code",
   "execution_count": 269,
   "id": "074ccb7d",
   "metadata": {},
   "outputs": [
    {
     "data": {
      "text/plain": [
       "{3, 5, 6, 8, 14}"
      ]
     },
     "execution_count": 269,
     "metadata": {},
     "output_type": "execute_result"
    }
   ],
   "source": [
    "sd"
   ]
  },
  {
   "cell_type": "code",
   "execution_count": 270,
   "id": "90e13074",
   "metadata": {},
   "outputs": [
    {
     "data": {
      "text/plain": [
       "{0, 1, 2, 3, 5, 6, 8, 14}"
      ]
     },
     "execution_count": 270,
     "metadata": {},
     "output_type": "execute_result"
    }
   ],
   "source": [
    "sd.union(sc)"
   ]
  },
  {
   "cell_type": "code",
   "execution_count": null,
   "id": "6f70d32a",
   "metadata": {},
   "outputs": [],
   "source": []
  }
 ],
 "metadata": {
  "kernelspec": {
   "display_name": "Python 3 (ipykernel)",
   "language": "python",
   "name": "python3"
  },
  "language_info": {
   "codemirror_mode": {
    "name": "ipython",
    "version": 3
   },
   "file_extension": ".py",
   "mimetype": "text/x-python",
   "name": "python",
   "nbconvert_exporter": "python",
   "pygments_lexer": "ipython3",
   "version": "3.9.7"
  }
 },
 "nbformat": 4,
 "nbformat_minor": 5
}
